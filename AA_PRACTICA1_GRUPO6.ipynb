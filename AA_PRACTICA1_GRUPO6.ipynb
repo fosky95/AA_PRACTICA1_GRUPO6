{
  "nbformat": 4,
  "nbformat_minor": 0,
  "metadata": {
    "colab": {
      "name": "AA_PRACTICA1_GRUPO6",
      "provenance": [],
      "collapsed_sections": [
        "eTroO0JF1BOw",
        "PzRgvOleBJPS",
        "UTMDQIi33acM",
        "A0HqM8zE7x6H",
        "vNApRD-plzY-",
        "H1zk60Du6Rem",
        "cO_Kg5bnA0kS",
        "URtM8fMXpswf",
        "WGLnxJZ963Em",
        "slc5ba0RA6Y_",
        "MjUbF2ZqCrt5",
        "lYGk_C04rqov",
        "eOTPi4R67BYP",
        "M-PvuaoHA76G",
        "Be1U_KnWtNgA",
        "wrJuQzlP7FrF",
        "9Yq8FNA3A9ai",
        "J8ZSFHFkwCf7",
        "OaBpJt1P7MvW",
        "kf-wJ6BuA-2p",
        "cvuTfWIVxs09",
        "FCp4phGA7PXl",
        "fc-cuaIuBCpx",
        "w-IjHXyty6GM",
        "Kh0xZf_V7TBw",
        "E4p_Ey9wBD9B",
        "iThpGxrS0Jcc"
      ],
      "include_colab_link": true
    },
    "kernelspec": {
      "name": "python3",
      "display_name": "Python 3"
    },
    "language_info": {
      "name": "python"
    },
    "accelerator": "GPU"
  },
  "cells": [
    {
      "cell_type": "markdown",
      "metadata": {
        "id": "view-in-github",
        "colab_type": "text"
      },
      "source": [
        "<a href=\"https://colab.research.google.com/github/fosky95/AA_PRACTICA1_GRUPO6/blob/Practica1/AA_PRACTICA1_GRUPO6.ipynb\" target=\"_parent\"><img src=\"https://colab.research.google.com/assets/colab-badge.svg\" alt=\"Open In Colab\"/></a>"
      ]
    },
    {
      "cell_type": "markdown",
      "metadata": {
        "id": "eTroO0JF1BOw"
      },
      "source": [
        "## GRUPO 6\n",
        "##PEDRO GARCÍA SILGO\n",
        "## JAVIER RODRIGUEZ GARCÍA\n",
        "\n",
        "# INTRODUCCIÓN AL PROBLEMA\n",
        "> Crear un modelo de Redde Neuronas Artificiales que sea capaz de reconocer y clasificar imágenes de ropa en sus diferentes tipologías. Este modelo será definido, configurado, entrenado, evaluado y mejorado para posteriormente usarlo para hacer predicciones. Para ello se tendrá que crear un modelo en Keras aplicando de una tirada todos los pasos al conjunto de datos Fashion-MNIST, precargado en Keras y muy parecido al que vimos en clase de reconocimiento de números. Fashion-MNISTes un conjunto de datos de las imágenes de los artículos de Zalando (www.zalando.com), una tienda de moda online alemana especializada en ventas de ropa y zapatos. El conjunto de datos contiene 70K imágenes en escala de grises en 10 categorías. Estas imágenes muestran prendas individuales de ropa en baja resolución (28 x 28 píxeles):\n",
        "\n",
        "Para empezar con el problema, se importan todas las librerías:\n"
      ]
    },
    {
      "cell_type": "code",
      "metadata": {
        "id": "4xa4yrZix0l7",
        "colab": {
          "base_uri": "https://localhost:8080/"
        },
        "outputId": "131c9034-c2f6-43d3-f7ee-b716c14054a8"
      },
      "source": [
        "#importar todas las librerías\n",
        "import tensorflow as tf\n",
        "from tensorflow import keras\n",
        "print(tf.keras.__version__)\n",
        "print(\"GPU Available:\", tf.config.list_physical_devices('GPU'))\n",
        "\n",
        "#También importamos la librería matliblob para \"pintar\"\n",
        "import matplotlib.pyplot as plt\n",
        "\n",
        "#Se importan las librerías necesarias para crear la arquitectura de la red.\n",
        "from keras import models\n",
        "from keras import layers\n",
        "\n",
        "#Para preparar las etiquetas:\n",
        "# from keras import utils\n",
        "# from keras.utils import to_categorical\n",
        "from keras.utils.np_utils import to_categorical\n",
        "\n",
        "#Importar las siguientes librería para la matriz de confusión\n",
        "from collections import Counter\n",
        "from sklearn.metrics import confusion_matrix\n",
        "import itertools\n",
        "import numpy as np\n"
      ],
      "execution_count": null,
      "outputs": [
        {
          "output_type": "stream",
          "name": "stdout",
          "text": [
            "2.6.0\n",
            "GPU Available: [PhysicalDevice(name='/physical_device:GPU:0', device_type='GPU')]\n"
          ]
        }
      ]
    },
    {
      "cell_type": "markdown",
      "metadata": {
        "id": "Mdhd4tAJ0_gb"
      },
      "source": [
        "También nos aseguramos de que la versión de Tensor Flow es la de 2.0.0. o superior y de que estamos trabajando con GPUs."
      ]
    },
    {
      "cell_type": "code",
      "metadata": {
        "id": "t2UiJRn73vvX"
      },
      "source": [
        "#CARGAMOS EL CONJUNTO DE DATOS DE ZALANDO\n",
        "fashion_mnist = tf.keras.datasets.fashion_mnist\n",
        "(train_images, train_labels), (test_images, test_labels) = fashion_mnist.load_data()\n",
        "(train_images0, train_labels0), (test_images0, test_labels0) = (train_images, train_labels), (test_images, test_labels)"
      ],
      "execution_count": null,
      "outputs": []
    },
    {
      "cell_type": "markdown",
      "metadata": {
        "id": "Xms7Qhk96c3n"
      },
      "source": [
        "A continuación comprobamos las imágenes que tenemos:"
      ]
    },
    {
      "cell_type": "code",
      "metadata": {
        "colab": {
          "base_uri": "https://localhost:8080/"
        },
        "id": "QDsKPqtc6hyW",
        "outputId": "2dcdec70-4b65-4537-9c8f-a478a1f20456"
      },
      "source": [
        "print(train_images.shape)\n",
        "# Vemos la matriz de la imagen número 1 (28x28)\n",
        "print(train_images[1])\n",
        "print(train_labels[1])"
      ],
      "execution_count": null,
      "outputs": [
        {
          "output_type": "stream",
          "name": "stdout",
          "text": [
            "(60000, 28, 28)\n",
            "[[  0   0   0   0   0   1   0   0   0   0  41 188 103  54  48  43  87 168\n",
            "  133  16   0   0   0   0   0   0   0   0]\n",
            " [  0   0   0   1   0   0   0  49 136 219 216 228 236 255 255 255 255 217\n",
            "  215 254 231 160  45   0   0   0   0   0]\n",
            " [  0   0   0   0   0  14 176 222 224 212 203 198 196 200 215 204 202 201\n",
            "  201 201 209 218 224 164   0   0   0   0]\n",
            " [  0   0   0   0   0 188 219 200 198 202 198 199 199 201 196 198 198 200\n",
            "  200 200 200 201 200 225  41   0   0   0]\n",
            " [  0   0   0   0  51 219 199 203 203 212 238 248 250 245 249 246 247 252\n",
            "  248 235 207 203 203 222 140   0   0   0]\n",
            " [  0   0   0   0 116 226 206 204 207 204 101  75  47  73  48  50  45  51\n",
            "   63 113 222 202 206 220 224   0   0   0]\n",
            " [  0   0   0   0 200 222 209 203 215 200   0  70  98   0 103  59  68  71\n",
            "   49   0 219 206 214 210 250  38   0   0]\n",
            " [  0   0   0   0 247 218 212 210 215 214   0 254 243 139 255 174 251 255\n",
            "  205   0 215 217 214 208 220  95   0   0]\n",
            " [  0   0   0  45 226 214 214 215 224 205   0  42  35  60  16  17  12  13\n",
            "   70   0 189 216 212 206 212 156   0   0]\n",
            " [  0   0   0 164 235 214 211 220 216 201  52  71  89  94  83  78  70  76\n",
            "   92  87 206 207 222 213 219 208   0   0]\n",
            " [  0   0   0 106 187 223 237 248 211 198 252 250 248 245 248 252 253 250\n",
            "  252 239 201 212 225 215 193 113   0   0]\n",
            " [  0   0   0   0   0  17  54 159 222 193 208 192 197 200 200 200 200 201\n",
            "  203 195 210 165   0   0   0   0   0   0]\n",
            " [  0   0   0   0   0   0   0  47 225 192 214 203 206 204 204 205 206 204\n",
            "  212 197 218 107   0   0   0   0   0   0]\n",
            " [  0   0   0   0   1   6   0  46 212 195 212 202 206 205 204 205 206 204\n",
            "  212 200 218  91   0   3   1   0   0   0]\n",
            " [  0   0   0   0   0   1   0  11 197 199 205 202 205 206 204 205 207 204\n",
            "  205 205 218  77   0   5   0   0   0   0]\n",
            " [  0   0   0   0   0   3   0   2 191 198 201 205 206 205 205 206 209 206\n",
            "  199 209 219  74   0   5   0   0   0   0]\n",
            " [  0   0   0   0   0   2   0   0 188 197 200 207 207 204 207 207 210 208\n",
            "  198 207 221  72   0   4   0   0   0   0]\n",
            " [  0   0   0   0   0   2   0   0 215 198 203 206 208 205 207 207 210 208\n",
            "  200 202 222  75   0   4   0   0   0   0]\n",
            " [  0   0   0   0   0   1   0   0 212 198 209 206 209 206 208 207 211 206\n",
            "  205 198 221  80   0   3   0   0   0   0]\n",
            " [  0   0   0   0   0   1   0   0 204 201 205 208 207 205 211 205 210 210\n",
            "  209 195 221  96   0   3   0   0   0   0]\n",
            " [  0   0   0   0   0   1   0   0 202 201 205 209 207 205 213 206 210 209\n",
            "  210 194 217 105   0   2   0   0   0   0]\n",
            " [  0   0   0   0   0   1   0   0 204 204 205 208 207 205 215 207 210 208\n",
            "  211 193 213 115   0   2   0   0   0   0]\n",
            " [  0   0   0   0   0   0   0   0 204 207 207 208 206 206 215 210 210 207\n",
            "  212 195 210 118   0   2   0   0   0   0]\n",
            " [  0   0   0   0   0   1   0   0 198 208 208 208 204 207 212 212 210 207\n",
            "  211 196 207 121   0   1   0   0   0   0]\n",
            " [  0   0   0   0   0   1   0   0 198 210 207 208 206 209 213 212 211 207\n",
            "  210 197 207 124   0   1   0   0   0   0]\n",
            " [  0   0   0   0   0   0   0   0 172 210 203 201 199 204 207 205 204 201\n",
            "  205 197 206 127   0   0   0   0   0   0]\n",
            " [  0   0   0   0   0   0   0   0 188 221 214 234 236 238 244 244 244 240\n",
            "  243 214 224 162   0   2   0   0   0   0]\n",
            " [  0   0   0   0   0   1   0   0 139 146 130 135 135 137 125 124 125 121\n",
            "  119 114 130  76   0   0   0   0   0   0]]\n",
            "0\n"
          ]
        }
      ]
    },
    {
      "cell_type": "markdown",
      "metadata": {
        "id": "hYb5gGea87RM"
      },
      "source": [
        "![Prueba1.PNG](data:image/png;base64,iVBORw0KGgoAAAANSUhEUgAAA+0AAAHBCAYAAAActlp3AAAAAXNSR0IArs4c6QAAAARnQU1BAACxjwv8YQUAAAAJcEhZcwAADsMAAA7DAcdvqGQAAKJbSURBVHhe7b0/ix3J1u45X2PcGXO45jVliu7hUoxzaBC8tPMa12goNX24yCi3YWAsgehjCK7ZcJhxZBwQg2jGkCcG2pah25/gfoFx9uSKzMiMiFyx4k9GrIxd+RT8kCojM+OJZ61YGbF3Ve3/4X/6X/7j7X/8n/8DAAAAAMCQvPrx39njAAAAwBXAph0AAAAAQ4NNOwAAgCuDTTsAAAAAhgabdgAAAFcGm3YAAAAADA027QAAAK4MNu0AAAAAGBps2gEAAFwZbNoBAAAAMDTYtAMAALgy2LQDAAAAYGiwaQcAAHBlsGkHAAAAwNBg0w4AAODKYNMOAAAAgKHBph0AAMCVwaYdAAAAAEODTTsAAIArg007AAAAAIYGm3YAAABXBpt2AAAAAAwNNu0AAACuDDbtAAAAABgabNoBAABcGWzaAQAAADA02LQDAAC4MsKm/YfbP/7bbf369F+4cwAAAAAA+oJNOwAAgK78l/9n2fVOX//tv96+5845kcSm/a/bP/43rq2S//Ty9vW//9vt/zP87fbuPzHnaAEtPNAS4T/e3v05a/n4mmtXBDHigZbbd2//Zvr0c7RH7gr3fP2wjHvhw4u8tmoELUIcHj/Y4/u2OjYdK8z4+Bj1g+2vSxzScFpy49Bs0x4be3h84XicEvPP7ffPl7fvuONE57kixaH9XElR6Zk2eObwQAvPlbXc29j/t/96+3btTfuL28fJoLUAG9Mebo+78zSAFh5o4SEtNLHnhcSq6RQQIx5oMQvZPx9uH70c7ZG70j2pzR2rPTfVVktKS14czGby8OI/w2M2Rh2J5kTrOGSQMXYpDm027SVjb+GLvQefG/HxlujMRdbiIsWhzVyRqPVMG9Lp6MPzbwFaeK6s5Q7HfvlNu3lgb4XWFF7XOE2ghQdaEmQsynuDGPFcXgs9iKQFeY/c5e45H/v6dnmueF5IbUdhtBTEwbQdficz5XEqRq2J9dczDjHyxi7Foc2mPX/sbXLCwo3beuIes/SMkRwDQhp7W18kSj1TpqC+dAdaeKCFR1vLPY796pt2Y8xS6M2PWk2mvZv+XR9KikALD7SkSC92eoMY8VxdC/Uz3z+Woz1yN35PM+7pQWh9yG2rZ68lHQfaACxapjb7EK9n1mDuZ/A3F+kYtSXVX5848Mha8uLQ8nfa02NvvTlkxk3v8EzjfaQ8Xca/5eZMnxjF8k+KQ+u5kkOdZ1rg+ccDLTxX1nKXY8emfTbKmOQYdmbQoMUHWlLEFjt6IEY8l9ZCrxwv/cRztEfucvecj7njpofivMiX2o6y11IUB/Kw8Y/rmf7tPbNi1BCxv55xYCgZuxCHlu+0p8Zuc8c9dgxm3ObHMt18dF8o6BmjRAwIaT5IbU0p9UyXSz9zBKCF58pa7nLs+PF4KvSuMRkPjl5ACw+0JBhAA2LEc1kt872pvx3eIr+HBuaeu98Pm9+hM+dIbeuxWhgtRXHosPg346V75saoFYn+usYhpHTs8Tg02bTnjH2Nm3PsMEzuUT+BB7R4NOd0jZE0DyzSfJDaWlLomXNMBTz/eKCF58pa7nHs+EN0QaE3xrkPpYnlT+33/3g5aOGBFhmh0CBG0LJyppZYjvbIXeae4YbH/V5qs9e31JITBwu1hZvIgzEyr+SzG9NILLRyomscUgh5SAhx+D//91abdnns7jswO5rmpxCXrjFKxIDg4iC1dcmXQs/sOd1yNwTPHB5o4bmyljsbOxHbtKvp5FHctE+YAmtfaXdMs5BJ5MYfT/7xHkALD7Qw0CS3Oja8xQRiBC0up2kJF7o9cle+p/nxM+Z4qs3QWEs8DsF13AalWMvsvXhP57zjY89l31/7OOSSyE8hDv/v//V/+McrEcdu8oWZr5au+dk7RpIWKQ495opEvWeGbrnLcFqdZ4AWHmjh0dZyT2MnSA+3adfUyaC7aU/ydPs0eXHWKxg+0MIDLTzQwgMtPNDCc2UtiAPPrKXJO+2HQYx4oIUHWnighefKWkYa+0Rs036yzmE27d+//2uy4Xb79v4Htl0TaOGBFh5o4YEWHmjhubIWxIHH1dLyr8fXgBjxQAsPtPBAC8+VtYw09hVm0z6CzsSm3egzX8O8+gEAAACAS3H2ph0AAMAzZ/mddfN1X3+IDgAAAADgfLBpBwAAcGWwaQcAAADA0GDTDgAA4Mpg0w4AAACAocGmHQAAwJXB77QDAAAAYGiwaQcAAHAaA/y+e2LTrvw57ZpAS4Tts4Z3n3+qDWLEc5IW+7nBXl68flh0EA+3R+f8euI5+PjB9kUwY3f1RD8nuwDRa2Gu9PClVguh6YvU5vky8eHF1laL0N84+bLFZ2Udu9R2gGem5cvnpwv5Qmx9xmvuBjvvS6jRou5LXn/ss6oWwRe5vsQ8O0LinrF6Jsa2H/s4dMqXWk7yheXKWu5t7NGPg+uP4qb9xe3jZMI6eY0xrRb5pUALD2mhJJ0LK/tQUAMx4jlJCy0G/ny4fXTzIuzbnHN045Ofg2ZB4PQXfn8c0rCNz7+/oLOLL5Vadue2QNKS0un4suq239cg9ecTtun7Estnqa2W56elzTvtbbS0QdKSXwf7zyNJi7YvGf1xz6pqJC0+9fHLRb5nXBtd55x/5pqhS77UcpIvLFfWcodjv8SmPVi4mgLjmqMJtCQYoLAiRjynaKFCxiwWSIv3Krk9z35/hHQOmrGv/bfsOwKNd1fAGZ1dfVnI1XKaL1zbrO/r2+WZQ21OLjdB0HJuvkj5nM71wzwDLV1+PH5YXyzpfv28bkS2Fm1fUv3Zed1JF+vLDB+HHjq4ewr1jDSPsmbQyJdcTvElwpW13OPYr7BpN4NfCpr5kaLJmHfTv+sCThFoSXF+YUWMeM7QQv3M9w/yggqcs4Ax2ppthGI5SIuBadzENHZbXM0rotP3j0bD3N7aE9f7DUZnV19msrWc5ku8zeQtaYlcc4R9f6Pkyxwb25efD1JbG56Dli+f31zIF8vcb/xZLGzWDpCvRdsXub/os6oRe18i9WWlhw7mnkI9czWfvmZIxE+TM3yJcWUtdzn2K23ajRGOKWcGBlpi9HnglYAY8ahroQ3o0g+XF0bPukh42XABmZGD7ubY/BiT60PjxWywEd/gdfbzZaJEy2m+cG2zPjdv6aG4X+hWImkh3PYzfZmY84Nvl9qqeCZafv7tzTBa9HyR66DRsdbnRlRqIU7NFzpXeFYdJqGFb++gg7unUM9sjoyyZnBpni8FqPsicGUtdzn2y/x4vFdUehSzTKAlwQAaECMeVS3zvam/HdxmyywcWj2Ac8blbLSo70ATFdsWvphCHh1Xhs6GvhRrOckXtm3nA8VPI0aWEfJlwXgReZFAaivkOWl59cvrC/oi1JeGGizVWiyn5cusLftZVUiWFvaFvwzPiims88OvGdrmcDZYY/Joa7nHsV/nD9E5k9OYExTB5c/p9/94OWiRESYNYnRhLVIxndu2YrdQrSWjcNPY14VAcD63GKjQkl6spXS286VOi74v0bawb7UYLQyRLzO0oI5tJtg2aLn9+vvTBX2J1xejYXk3aIeyFss4+RLR2lGLX18sgmcVWma4ewbHvHo26pqhXb7UgXUdj7aWOxs7Edu0K+hU3LRPmEIyTVKDY4yFjKAR//HkH+8BtDBQwlodG17BRYwurCV8AM/fs3liKdYi5WDQFj7sPV8YPaVagvv595V0dvClWsv+2p2ellpEnXYBvD++0tOXU/PFzwlfi9S2AC23L/96fSFfcuY0U/stalpGyheX+bzVL0tPXzwtifgRpVqycoI5vmsbZ83QJF+OcJovDFfWck9jJ0gPt2lX0Km7aU/ydPs0jbf/qyk5QAsPtPBACw+08EALD7TwQAv/1+PhCw+08EALD7TwQAuPtpaRxj4R27Qr6Bxm0/79+7+mod5u397/wLZrAi080MIDLTzQwgMtPNDCAy0z4aYdvvBACw+08EALD7TwaGsZaewrzKZdS2di0240mK9hXuEAAAAAwKXo8jntAAAAQA7L76ybr/H+EB0AAAAAwPlg0w4AAODKYNMOAAAAgKHBph0AAMCVwaYdAAAAAEODTTsAAIArg99pBwAAAMDQYNMOAADgNMb+nfYTPqddE2jhubSW7TNEvc84dbCfMx1rLyPS3+uHZcw+0XOin1VbgOR1bVstB/trGiOxPyFfBvLl8YM9zlxXjTB2L38fbo/RtokPL/xrq6jUErZfaR5FPduOr7SI0cGx05z+8vmp/5w+qLOY6v6EnK8FWnhqtaRqTw21Y+9Rd6tjNKOylrIk6nxbLZVkeKaGtpZ7G3v0I9/6o7hpf3H7OJmwTgpjTKNCVgy08FxZC/VHE3Qu/mu/LlT4/3y4fYy1F5HR34o9d/7ePGBabDBWSMPmrX//2rZaDvbXNEZSf1L8tH3JnytttAhjD/s28XB1urr8vK6jVksrL1xqYyS11ZLSIuVueOwotb4sLHP6n/9qsWmv1SJdV0utFil+tUALT6UWT9dEUHvqSGmJjZ3aHC3rue45pUhapLaFps9pOe5s/y5NtdQi5JI62lrucOyX2LRzCybXHE2ghQdaJvjCn3ow1JO+nxn7+sq41bE/rxnkfaxo1rbVUtRfrxgtsFoy+urtC/0/c674uXQUZuykxbu/m6/z+V/fLs+cQPcxSrUozyMpRlLbcuwwrpYVLncz8vkoub6YY9uc/keTTXtAkRYH1s+DFGvpGCto4cnVQm3R2tMIV8tKfE73qbsLrJZY2zan28aJu1/K915aCgliItae3mhrucexX2HTbga/FDHz45qTMe+mf9dCogi08EALwRdv0jD3rfGgcQkeOvTK3+TFI/kzFROitSeu963aainpr1+MZngt6b56++L+n58rlENzrlBbu8UaM/ZggWa0BYsmo5G0NPWkUIvyPJJilI7fcdw+NrjcnY9ZT3r8qGKuL/bY/P8+m/YSLS68n8co15KuPbVAC0+2low6eBS3/4342I3G5nV3htfCt5GOOV6t48TcL1Hn+2kpQ8yl4NzeaGu5y7FfadNujHBMOTMw0OIDLQRTvOkBvGhQedA4WB/WY+bHdVwfUq8kFxIsNpq01VLSH33fLUYTUS2JvhR8KZorTfXwYzd61gXSSyc/5/NdjfRQbPMiQqEW5XkkxagofjXU5u7E7F/D/C3JXTp3OUZam2/aS7TYa4ionweo0pKOXxXQwlOoxbSzdbAB0Rzkxj4fczW2q7sTUS1MG32/6GgfJ+Z+Up3vqqWMvLzWQVvLXY79Mj8e702eEycJtPBAy0TYz/w9adnR5MEnjMs8cIIH/fLKsdsvFZUWvsyLDP7hW9tWS1l/fWMkjy8ePzVfiuZKy82p1M+CyeFFr/t/w/wTAC1yt0qL5jySYtSx1tXm7orxrE2+lPky/2vm8AL9ITrz/15zOiMOsp911GppmScWaOGp17Kwq331yDnIaOhYdyUt+7ZZG3m2o9daKlrne2sppCSXeqOt5R7Hfp0/ROc8/I05wWRf/px+/4+XgxYeaEkXjEh7tZZ4f+6rfRvB+dyiukJL2cM3r82gqGWjXYzS/fF96fqSMVcs1BYuSjrkrtu+PgDDXG2UuzOFWsLzu88jKUZ9al1t7rqYGtQgX47nbuSddkUtST/VfRHiBy2DaCFmPVvtWWiqxcKMvVPdlbSkdRKROFVomeHuFxzjxs6dZ6nWUkpGLj1bLXc2diK2aVfQqbhpnzATxr6ixUwcMoJG/MeTf7wH0MJzWS00WW1fG7siHivuxVoS/ZmxM2Ne25hrLKVagvt5961ts/fW0uLdp1GMxP6E+Gn7smt38ybQyb2L0DR3Z+/9YxvzYi7erqkl9PSwluoYJdoIrdwNPGuSL0d8WYls2rW0pK4j1HyR4rcALSvnaEnUHqKpFnnszeuupCXl2Uqj53Qq7oGevQ6ilZYDRHNp4TlruaexE6SH27Qr6NTdtCd5un2axtv/1ZQcoIUHWnighQdaeKCFB1p4oOXVj//OHIcvPNDCAy080MIDLTzaWkYa+0Rs066gc5hN+/fv/5qGert9e/8D264JtPBACw+08EALD7TwQAsPtMyEm3b4wgMtPNDCAy080MKjrWWksa8wm3YtnYlNu9FgvoZ5hQMAAAAAl4J/px0AAABQYPmddfM13h+iAwAAAAA4H2zaAQAAXBls2gEAAAAwNNi0AwAAuDLYtAMAAABgaLBpBwAAcGXwO+0AAAAAGBps2gEAAJzG2L/TfsLntGsCLTzPXsv2+am7z+R8/bD0tfDhRV5bLeL4cnU+3B7dtlokLbVt1VSOXTtGV/aliZZGuTuSluqcEMZQTaUvYTv3We3FHI/Rl89PA+XuxHOrL9DC8xy09Kgvd+/L5slKk/qSxn5uvh+LDjGqpUeMJLT7k8jREv3It/4obtpf3D5OJqzJaIxptFAqBlp4nrsWuidNwrk4rvde29z723NTbbWQhu2epoivi2NBZ+gDLSQPL6pTWmJxkNpqqR07Xef2be9jv6+h1hfpulpG8qVSi6izlpG01OaLMIZqKn2ZaJOvLrVa6Lqt7dWPPy33Wc6too2W7T72+xqO5EusrRZo4XkuWiI5X829+JJqa+VHAaauPNw+en33iFEtPWIkod2fRKaWS2zauYWBa44m0MJzGS1cYZyPfX27zAevf6mtEXTPXXFgdNJ53qvBttg75xzF1RKM1YuD1LYcq6d07MoxKhm7e91hRvKlUIuo8ygjaVmgPoryhRnDYUrzpYMPK6Va5vNt7r769e/n5W6gJYxnE+iep9fdBWjhuUct9nwu51sxqi9iW0c/otiaEuv7DE0BGjFy0e5PIlfLFTbtZvDLA/Hxw78ZY95N/64PQUWghec6WuKF0fQ1TVLbd27bUdzxbjA6gweSua7xItvVIsVBPUYZY9eKUcnY3XOPM5IvhVq65u5IWmbMPYvyhRnDYQp9oXcWJm2P5ticM23mM3Esd7/8/tN23WGOaWk7j2Zy80Vqs/c6CrTw3KOW7Zoe9WVmVF/kttkPW+da138OGvM81lgs+sUoF40YuWj3J5Gt5UqbdmOEY8qZgYEWn+to4QrjUsCdvmjCzq+4SW0NCBaLG3wBN94sD5qvb1+2fWeMW7hG4qAfI2nsujHKHns0trWM5Et5fkptxxhJy0RVvvBjOEahL+bHAV1dLd95L43RfL7169ffn07MXV9L23k0MUzdnYAWnjvVsl3H5/xhBvYlu23CaBPaD0P9L2OOx6JTjAroHqMA7f4ksrVc5sfjvcXAickJLTyX0cLca/e7K7RYXc6R2tZjdcgPiowxx37npgJWixQH7RiFuGPXjlHG2OXY1jKOL8VaStqKGUdLbb5kjaGYinwJNqO0aGmjqUKL4+P8O+1jaDm1vnSsu9DCc9da1vPaabAM70tG24qZ4w1fuPWYx0lj3+HV2/YxKqZjjFi0+5PI1XKdP0TnTAhjTjCJlj+n3//j5aCF5ypamIkYFmz3e6nNXl+hJf0gSRWvuX0rMAtNtUhxUI4R076OXT1G8tiTsb1zX2YKteS03bmW2nyZEcag5ktw/pn5EvT96pfXw2hp5ctIdRdaeO5fi0XI+Wfri9zmYt5dDX96pkJLHrFYtI1RHX1iFEe7P4mceTQR27Qr6FTctE+YB519hckxxkJG0Ij/ePKP9wBaeJ61FpqQ9n4btkDOxX1/PNVmKNXijS28r6RzLur+sYCmWsL2IA6qMZLHrhujsN0Ze+o64p59qdbSIXdH0lKbL+IYFhTzJRzHrv2k3KWPfBtFC9euly+JNgJa9m3EJbV0qC/34ouo05/v7K+7lGrJZu57i0GPZ8ABWscohXZ/EiktBOnhNu0KOnU37Umebp+m8fZ/NSUHaOGBFh5o4YEWHmjhgRYeaHn1478zx+ELD7TwQAsPtPBAC4+2lpHGPhHbtCvoHGbT/v37v6ah3m7f3v/AtmsCLTzQwgMtPNDCAy080MIDLTPhph2+8EALD7TwQAsPtPBoaxlp7CvMpl1LZ2LTbjSYr2Fe4QAAAADApeDfaQcAAAAUWH5n3XyN94foAAAAAADOB5t2AAAAVwabdgAAAAAMDTbtAAAArgw27QAAAAAYGmzaAQAAXBn8TjsAAAAAhgabdgAAAKcx9u+0n/A57ZpAC4+qluBzMokPL9h27/MqjyCOT+jv9cNyDfFwe3Tbqqnsr4cWyReh7fGDPc5cV8u9aJHiJ15XSe3YvXyZ8OZYJRnjs59r7XmjqiVRX5RjZNn7ktBZS5MYKdSXBVYLseihz2lnP0u5lBotYd4u7LSWEtVyL7k7oVxf4rXuhHkUa1PPF7nt0s/p2rZqhHXBAjuPumipRFvLvY09+pFv/VHctL+4fZxMWJPUGNNq81MKtPBoa5mLm1e4VkgLTRjpnFLoXtt4TOFcF4FCf6EP9EA+vHis7K+LlpQveTnhX1fLPWmJ5ad0XS3599zrdD2yurfzy8nQYvLy4fbR80ZbCxcbC/Wdl0v51Poi6aylUot6fVlgffHPbfNOe70WnzNzN2MMxdT6oj2nffI9q0XSUlJDevuSr0XyM5970VLbVouNM907kovReZSbS73R1nKHY7/Epj14+JsJ4pqjCbTwqGsRCttKzjmV0Hh3E5Lpj87zXrG3hdk5p5rC/rpqWXB9of9n5oRpa/HOhsuoWlYy8pO97iDCPf2xz/q+vl3qfOBhE3ZabE6G3mhrEWIT9C3lUjWFvjTtOyRXC52nWV8MMV/8vrv8eHy2Fp/+9aUgJ3ZjaEC2L/P3uvVlg6t1WZ7V4moJxirVkO75Ai0brpZWbcXEcjEyjwo86462lnsc+xU27e7kND8eMxnzbvp3LfaKQAuPvpa5cNGkmNkWaOE5PSawO94Npr+gmJvrWK01FPbXVcuM64v7fz4n6CG0xG9qs8WuFaNq2UjnJ3/dMfb3lMdu/KK2xjqIUAv1NceE90ZPy9y/6cuwzRP3PD6XjpPvS1xnK7K1KNcXIqqF3uWY4vJoNMw/Ht8yPkR+jFzswptrq8fXkp8T4RhaUOoLtRudjXUQ+/HFal2+Z7W4Wtz/m/FHa0j/fElr0Xs2jqSlVVs58XnCzaO0Z3poa7nLsV9p026McEw5MzDQ4nO2FtP/7pVOvvgdJlicbvD9zdomXya+vn3Z8CFc3l8/LRPcoj03J6KeVjKwlo1EfrbWQaTu6bXP+ly/mi6UQi30/dLX3htlLQHzvJnbi3KphiJffFydXHsxhVrm/idfFOqLqMX8aOIWk1c//nSeFgebO+HxQ4RaAqI5kbiuiiJf5u9tu/acltp7zyObB6kaopEvuVoMKU9LGVhLk7YqmPpBfax54LcXedYZbS13OfbL/Hi88wCWHordgRaes7WYRVq4KGuvwUzMaIHO6K/p79wc7K+hFtaXopxo947C8FpW4hrk6+rIu6cz9l1+zO9yiPmWyV7L7AXFaAct5FW1MJj+F1861rpiX5xrDa7OsK2QNloSvmZSlS+OJvrxeFpAnRqjhrGxFOfucizrukKqYuSdrzynpTrfMFaslpwaopUveE6L+VLbVk845sQ86vg8KkZbyz2O/Tp/iM6ZnMacYKIsf06//8fLQQvPuVrMq1vuAskgTOAKLekCnSoYc/s2qReqfansT2pr6ktGTlioLYzfs9Vi4eOXvK6LlgV37OGikVtEdtMSeHOqlrC+9Kl1Vb4EsHXwFC0a9cUl1OJ//+qX1+fl7oKJzfIOzA613M24TsuXk+c0W+cX+s+jdA3Ryxc8p2N91LYZKrTM8PUj3t7neVSHtpY7GzsR27Qr6FTctE+Ygj4VMYNjjIWMoBH/8eQf7wG08KhqmQvX3NeEV7xp8jhtC14RLNXijS28p9Sfr5MtxMW+1PbXQYvoS9ju5kQwBm7x9Gy1CPFLjYHoqSUY+7wwCa9xaB2jlXBhoq1Fqi/htQ1qXbUvCZ3ESVr2508o5ot7Lf1O++4adS1Mnli0cjdnDIq+6M5pqdYJnlla++K1B7lh2rTyJWw/89kYtp+opbbN3rtUi7Qu8M6Ta12T59ERtLXc09gJ0sNt2hV06m7akzzdPk3j7f9qSg7QwgMtPNDCAy080MIDLTzQwv/1ePjCAy080MIDLTzQwqOtZaSxT8Q27Qo6h9m0f//+r2mot9u39z+w7ZpACw+08EALD7TwQAsPtPBAy0y4aYcvPNDCAy080MIDLTzaWkYa+wqzadfSmdi0Gw3ma5hXOAAAAABwKbp8TjsAAACQw/I76+ZrvD9EBwAAAABwPti0AwAAuDLYtAMAAABgaLBpBwAAcGWwaQcAAADA0GDTDgAA4Mrgd9oBAAAAMDTYtAMAADiNsX+n/YTPadcEWni6aNk+PzX2eZV828Trh0XLBPeZnqVI40uNHVr2bQv2s3rZGJZSo8X1w+GwnpF8keaKqCUxx1oixmHTsfLhxf4eHdjFoVe+xEj09/jBPc7nUg/Y/Ay1do1RIiecvP7y+c2Jvmjnbqo/xTltcfPCeeb0yV1pfPG2LlpqnwEZz4dinoMWIpJL1TwXXybarhkq6eGLhHZ/Ejlaoh/51h/FTfuL28fJhDURjTEPt8fdeRpAC08PLXRPSvz5QesXIqltKV4tCvoK9bONx7+/1KatRY7DSFoM9ACerv/IxLCcg1pWbG5xbbmM5IsdD2kK7ydpka7TwI3DSRqy4uDq1CDeX/v5HYH1hXS5edzbFyknqO+t7dUvr4X53hDWF+3cTfmiO6dzc7JN7krjyx97Gy3UT+wZUNtWi3RPf674z4CRtLTq36U2DrLOOmq1LDRdM9TSwxcJ7f4kMrVcYtNuknFLUJOwrjmaQAtPVy1UsGL34tpo8vRcLE7QeGPFwWtT1iLGYSQthNUjxfcARVo2TFvrd8KG8IW5X5YvneKTwI/DGRry4tAlXwSk/nS0xHyZv//6dlkXBLnVHiEuQd8///YmOt/bIfvSt2+XnP60NFlPuDaftrkrjS899i7zyH0GtGqrxb1nMFfM2GNz5VQt+blUjTS+bJ2NyNViyHtWdUfDFxft/iRytVxh024GvxRQ8yNMkzHvpn/XxYEi0MLTV0vhA5he4Zr6f1wmDdHaE3e8YpuyFjEOI2lZjs3/7/OgKdGy0WdhMIYv+/vl+dInPjJhHGYNNm81fgwuLw4KC0kPrj86tvgyxc8uGnqR8sXkEWlZ8qof8ZwI8/rLv15H5ns74r5o525Of3zsmpN85vTKXWl8sba+88jNyVZttbj3DOcK/wzYX9eKbC0DretEnc41R8jVQsRrjy4avrho9yeRreVKm3ZjhGPKmYGBFp++WgofwFTcvYLeeGFd8gqoshYxDiNpoXOXY10eNCVa7DXOee6xwwzjy/5+eb50iE+CVBxMuzvPWpMZhy75IpDsL8i15oi+zN/bdpNT08Kl94sIFjcnrE82r+kP0e3zuiEF87Z77gbw/SnN6ZJnTtPclcaXMfbW80i6X21bLcE9w7lCx9i5craWgdZ12Z7VUqDFfL9oUJvXEbr7EqDdn0S2lsv8eLw3WU9MTGjh6apFuhfTRsU9WCzS5GmhxUzMSDFl27S1SHEYRsv8L7XtaLDIL/bFnmMWBQ0XARMj+cKOOWvecsc6khOHDrHayIxDVw0MWf01Xsh6JHwx+txcJy0n5U2Q169+/M8dczgzXyxD5I3SnKa+Aw/iz5yWuSuNL2fs7bSwz4CDbbXUPhuH0FKUS2UUxyHruVlHmZa537XeuHC1pzcdfWHR7k8iV8t1/hCdU0CNOUFSL39Ov//Hy0ELT08t0kTk2oJj3KKlQktxYTdoa5HiMJIWl0h8lbXQAsC+Qrrjzn2Z4e6XoyWig6jWEkeMw4I5J1yUdNAyw4+/db6kyPHFxO8sX8J60qi+5OLnhJ/Xr379+z6vlfPFopu7kf7U5nQiR1ya5q4UAzk+hkZa4s+A+jZDUy3yM2AcLRm5pBajjOemYr5sRHK7QksdfXyJo92fRIYWIrZpV9CpuGmfMBN0evgYgolKkBE04j+e/OM9gBae5lpoEtj7bcwFSWqb8LQwRaxUS3A/775SG3NtVy279iAOI2lZiTxo1H2J6Zu4Z1+K5oqrJXEdUawlQTQOsxerjt0mZKK1lhUmDq3zJUW0vyBGJ/syLyw3PcdzVyKRE05esx/5puaLdu5K/Z01p7m+euSuNL6CthZagnFbTH+1bfbeLbXs2p06M5IW5lpPB6EVo921TG3W1LKyr8mGUi1HaO1LCu3+JFJaCNLDbdoVdOpu2pM83T5N4+3/akoO0MIDLTzQwgMtPNDCAy080EK/074/Dl94oIUHWnighQdaeLS1jDT2idimXUHnMJv279//NQ31dvv2/ge2XRNo4YEWHmjhgRYeaOGBFh5omQk37fCFB1p4oIUHWnighUdby0hjX2E27Vo6E5t2o8F8DfMKBwAAAAAuBf9OOwAAAKDA8jvr5mu8P0QHAAAAAHA+2LQDAAC4Mti0AwAAAGBosGkHAABwZbBpBwAAAMDQYNMOAADgyuB32gEAAAAwNNi0AwAAOI2xf6f9hM9p1wRaeHpoke5Z21bLc9Dy+mE5TjzcHu3xI1RqefxgjzPX1SJ6vX1+sf85psHnGhMfXjjtldTGSByDMppavNzcyP5c3NZIcyXU2iJfauniS2yuTAj9dZnTURLz1onRl89/b1PrUrh54X7Wt2a+hH0tbHEUYtsR+xn+Xp+e1kbPo1p6zCPxnkIcevgiaUmNPZbXtdT6ssDmUi21WlKe1RC9Z6LW9dAiINZ5zVpHKI9dJEdL9CPf+qO4aX9x+ziZsE4aY8xZBR5aeHpooUK13cMU6vWBIfWnraW2rZZKX0IfqLiepSVAxxcqonSOo2m9Ljx2lFpfeuRuLWdrsTGz/1fUEt7fmyukxe3b1alND1/seLh5kd9fmzktIczbQNerX//eWYs03rPzxe1Pim1HzPx5uH10+xTnmDb5eZ1P6hkQiUMXX1Ja4mNvP48rfbFwuVRNrRbtfBH86KIln71nbt/Ww+38tpw7dp9MLZfYtAdFyySJa44m0MKjoYX6sJNA6k9bS6u2Wtx7SmOnNu9Vzw4FNVeLPd9ta/2KrKtlhXv4SQ/ERuT6UuBZd07W4uWEthbqLzpX5nz5+nZ5/gXaVOnqCzMvCvrz4tcFYd4G8Xv1408Ki8fY/c/NFz4OCjVvxXoT9BnEqMvzKJeu82iB+sh5Hmn44moRx64Qk1xfDJFcakVJjFTzRRivhhYBv77MOtVq3clj98jVcoVNu5sU5scyJmPeTf+uiaEItPBoaHH7kPrT1tKqrRb3nuLYvYfAcm7jB3K2FnM+PYCn48TU1rqwu/1vcA+/+ZjRYWi/SMn1Je2ZHudq8ReL6loy5orRQfmy6DqDvr7s50q6v75z2keYt0H8fv7tjd/eGnpXZRrvo8mTWU8Yg3PyJbbp4upgH2jcsxdBnwrPo1w06ovbxwYTh5Ge0xl5fZRsXyaiudSIXC2iZ+t1x/C1zBpsDNx80NCyR67zRge17bxsyzlj58nWcqVNuzHCMeXMwECLT3ct3IMs0p+2liZttRT4srYvxfbr25eRBV0lhVo8WnsTvV/6YT971E+L5EuRZ505U4vtO/xeU4vpk50rywLK0cEtXDTo60t8sZrVX+s5nWCOVzDPlvj937+9blvrQsyPQro+uJvl8/LFxmvflq6DTaAcWPuP5BM7x3QpyusaCp9HXX0peB7Jed2AEl8SuXSYAi3n5cvMnB9ze3ctKTyts1eujp617vSxO2RrucyPx3uFo8OEzQVaeDpqcQvUelzqT1vLwbZain1xzyNiv3NTwWEtDRcDstcZuWB86ajlpNwt5iwtnP9n++LOld28md91eH4xYu5V1F/jBX4KYd6++uV1ELPGUN/B4pQWbMaXs/JF8ENn/sx9UL7s4BbyO58U6TiP2jyP2vhS/DyS8to5VkOZL4W5VEhxjE7LlwV3bnd9BuTg1PldrnaudaeP3SFXy3X+EJ3z8DHmBEm9/Dn9/h8vBy08fbTEC5jUn7aW+jaDmi8uc0HZCszCKVqWtvDh2zhGM+mibl4p7apFP3frOEeL+0r1xpm+BHPFXTBx3xPPIkbcXMnoz0JtDeZRLuy8NfzH2z/+9dSk1sUJvHJz4qR84eeRRaiD3WIk1d5gjlk65otPn3l0/HnUzpe651Ggr1HutvJl166m5ax8mfFrXc9nQAZunVevdSeP3SNDCxHbtCvoVNy0T5jgT4lqCJKAICNoxH88+cd7AC08rbV499vwHyD2eNCfppbaNntvNV/mh8/ufBc1LVTgnGu4xXZTLUF/XpvvS38tYXvn3D2CthbTH9PP2qalRZ4r8+Iq3n7fMZLmykS0vw5zWkSat37bP39lPqe9S+5ufbo5oZ4v0XmUiC3RLXfnmGx9yXPM0E0LQ+t5FOSDP87851ETX0QtYXsw9uDanR41X1zCXFrQ1CJ5RjTV4ufErra21iIi1/lzap3tr/fYE6S0EKSH27Qr6NTdtCd5un2axtv/1ZQcoIUHWnighQdaeKCFB1p4oOXVj8ymHb5EgBYeaOGBFh5o4dHWMtLYJ2KbdgWdw2zav3//1zTU2+3b+x/Ydk2ghQdaeKCFB1p4oIUHWnigZSbctMMXHmjhgRYeaOGBFh5tLSONfYXZtGvpTGzajQbzNcwrHAAAAAC4FPw77QAAAIACy++sm6/x/hAdAAAAAMD5YNMOAADgymDTDgAAAIChwaYdAADAlcGmHQAAAABDg007AACAK4PfaQcAAADA0GDTDgAA4DTG/p32Ez6nXRNo4emhJeOe9nMh18+DfP2wnO+z+7zIUkQt2+do7voJ9Xx44bfXUKtFPUb3oCX4DFTizBgt7PL6DFRjlBeHpr5kjI/r7/GDo7GVL0JOiP159eXh9uhcV01VjDrNo5gvmXWe4vfl81PnfEmNPR7bakaKkTSPqj1TRhpDLeI9YzlxQoxiWkZbSy2oPQOkNu11XW1bD6LPnBPmtPbYJXK0RD/yrT+Km/b5w/zXCWqMabQ4KQZaeHpooQKw3cMU6j9f3r5zz6HiMZ3zcSoU8QJO2o5OZkmLvf9csHwd1Ob6cKaWDD+LOeKLZr6kfAmPHaVWy0JWXvdGO0YZcWjqi6RlIaM/9rpiMnJiwesvjInRe1RLbYwy4ldMvi/buc6xJX7//FeLTXutLyVjyKVWS0sNFkmLVEN6aKlF0llLypdYTpwRowNzrJiDWtSeAVJOUNt2XX9fanV2QHzmCHHrgvLYRTK1XGLTHixETMK65mgCLTwaWqgPtlDKhcJoaf1q304LwemYj319u8yVwKcmZGsJYK87SK6WwAedfCHiMWrad0hRjPLyujvqMUqNt7MvuxidUV/SY/P6I81e31bzdv5hsmPUKS6GQl8MW/z+0WTTHlCUu0RHf4aI0YKrhf4frSEKWnIRdTbCi5GF80A5RivpftvWuoUiLYrPADEn5v7113VMm6izA9Rf9JmjkLsu2mOXyNVyhU27WyjMjwlOxryb/l0njCLQwqOhxe2DoH7m+0uFosMidiLUMhPXYTyZJvD+muOUarHw1x0jV4t7nla+zHC+zMdMfAzn5kteXvdHP0ZyHHr7EsZI7o/qyqJz8qXdYi02tkh/7uJtwoyhcf7mx0iO3zFSMd/XeTd+PTbtJbnrntNaBzFGjGZcLe7/9zWkv5ZcZJ38NaX4MbJwOaEbow1Oi8v5aynNZ0BOTpjjFKOd/uPwvuzbcnQ2RXzm9M9dF/WxC2RrudKm3RjhmHJmYKDFp7uWoFCY75d+pALuTqRmhFpWOB1LEXM8ocncbJFfpMUhet0BCrSo58tKwpcJo62lNyVa6NyMvNbgvBjNeHHo7UuopaS/xDjKyBhb0N/s0xSjia9vX7ZdWCfGJs2VtvNI9sXm6nosiF/zTXuVL53m8zAxmuByc4pDTg1prqWAEp1VRGOUzoneMdoonGMtKNFC5679d5hLRbk79+8e11nX7du65y7DnJNTf4lnTvPcDThj7DGytVzmx+NNctj+OkzYXKCFp6OW/cRfCubU3w63cJrfKWn7Sp9chJgx736vZX7HrI8vLnH/5evqKNaimi8uGf00zJsyLfP3u5wmWi4IcjktRgtrHPr6stdS2l/Ld6ByPBb6i/0eXQVlMSpsK0bwZdfPPn70h+ji8Suj3pec2JYxUoxYLSU1pGm+FILn0YRubMq0zN/b+ezRa05LOWH8cM/XWdcV63TP68XOi7Ct45w+e+wuuVqu84fonMAbc4IkWf6cfv+Pl4MWnj5a5MJu4SeH+4rXji5aGB1h0eKKmJaWieR1alrOypdIIXUweRMuBE7REmmv0FLHmXM6EgdDO1/ytCTiRL40yJeZdH6y/Rnma7dFw8IpMWo3j2bivoh13hB5p13dFyG2dx6juJaMGrLQNl9KwfOoeo6d4kukXSt3T1jXVem0VGjJY47D7pmz0H9Onzn2kMxaF9u0K+hU3LRPmEkxJYAhmBwEGUEj/uPJP94DaOFprcW738a+kDMF3FzLaLA01UKTNdZmi+3++IqWlhw/FX3xr+2dL5KWOX/W49wCV9OXlcjCpFTLEVRjlBEHQyNfRC0uYX9B/Frki5gTUn++Z3vtE2oxyohfU18mjFahzhsim3Y1XzLm+z3HKDWPvHY3Vj3y5QBRnQtNfZFyQjtGB+eYppaV2aPdcbXcVV7XHdBpKNUi4uenP+4T5rTq2BOktBCkh9u0K+jU3bQnebp9msbb/9WUHKCFB1p4oIUHWnighQdaeKDl1Y//zhyHLzzQwgMtPNDCAy082lpGGvtEbNOuoHOYTfv37/+ahnq7fXv/A9uuCbTwQAsPtPBACw+08EALD7TMhJt2+MIDLTzQwgMtPNDCo61lpLGvMJt2LZ2JTbvRYL6GeYUDAAAAAJeCf6cdAAAAUGD5nXXzNd4fogMAAAAAOB9s2gEAAFwZbNoBAAAAMDTYtAMAALgy2LQDAAAAYGiwaQcAAHBl8DvtAAAAABgabNoBAACcxti/037C57RrAi3rZ1Run9EYfD4j8eGFd00V0vhSY3/9sLRNcJ8XWYrY3zb+3ed1Luw9O8DdaxkwXybUfIm2dfKllgzPesDGQVnL4wfbV9jfSTGK1TP1GCXqS+u6KxLR4mqY+PL5aX9OcwRfBopRPK87EMTBsmo6qb6wdNEi5ETojVtDvLaH26N7XS3i+JTndK2WHjGS7pnq7zn7Eu1vO74SPv9a+yLRZeyV5GiJfuRbfxQ37S9uHycT1sQxxjQqZMVAi5mQfz7cPk4Td5vM80T2J/dR6J7beMxCfi0AUtv+++NI/VEcaIIKHrCe1fIctAj6qpG0SG0Lqr44fXjztocvtYxWXxLx68g+l3RjFB+vdozk+qIbF1mLy6sff1rO5duPI2nRzt18X7Tn0abN/l8zdyV6aJHiQG3u/R1fwr5NPTwaIykHJZ09cqRWi3RdLSkt8Zx43r6k+tvniaW9LxJyjHTJ1HKJTXtQtExSuOZocnktscksT+Qm0HhjE9JrsxqDc1rCaol5IBXABtyllk79u2TnC6HoC/0/Om8VfMlF1NmLzDhIse2AGfv6boJ2jIR6dkqMCM4DQWdX0vH4+bc3Sj+xkpEbarmb1uLndX+8/k7LXYauWrg4zMe+vl3W0G7/9H8vJh3mFZuDnE6FOZ2tJYC97iDuPen/0Zy4ii/x3OU1KD8DxBgpk6vlCpt2M/iliJkf7ZqMeTf9uxY8Ra6uhfqZ7x9O3Pl7StKZ9hPXHa/YRq9wTV480rFFT2tPeC18MYt71ob71DIfGyJfJjR9cf+/n7f9fclF1slfc5TcOEixbQctQJY4TGO3D2P1GAn17IwYzTDxUai7PKk5++L2z89vlOZRSotW7hIxLbG87o2/oD8vd/f01RLPCdMXxcHNh2DTZbQ1rjF8Dp4zp7O1BPDXHcO9p/v/XU5cxheuv/mYHbeXm8rPADFGwbm9ydZypU27McIx5czAXFILPUyWflLFw2hr+Sqo9Oph2EaFwysWjV/9i2phPCnwrIp71RJwar4o+1Iyb5v7UsCw9UWKbS+EPrvHSKhn6jFaYeLTu+5GkecsefTl95/YtvYk6odq7mbUMkU9NlfD7/Vzd09fLVwc5mNuX7TID9+lmzc9L89bv4y0lnLpkbfBPcWcuIwvif4m5lxd+lR+BtxlDbnMj8d7iZBOpG5cVst8b/sg8XAeNitm8raZrF5RyGmjvgNNNHla+CJp2ftf6Fkh96uF4bR8OcGXknnb0JdiBqwvcp71RFh89I6RVM9Oex4x/XSsuzLp+fOPX7T+enxci37u5uSC0gsr3By5zFqKuZfxw80FikOkv9259cg5GNHZaU4Xa1noMY/Ye0o5cRFfpP5W3Lnd0ReWe6wh1/lDdE7BN+YEybn8Of3+Hy8HLTPy5KCJutv0VGiRClG8LdDmFhV7TmMtM6mCEWm/vJaz88VFw5eMebvQypc6xqovyfj19IXGHsZhoX+MAi+8enZWjLh5IulcUNMyY2Lz4QX/kW+KWs7J3bgvK1xed9Bi4+Afv8paiolDODe4uWKYr902AgsVWtLPPy5fgmMnr6V6zKP4PaWceP6+zPD9ufjPvz6+xLmzGkLENu0KOhU37RMm+FNyGIIkIMgIGvEfT/7xHkDLRDiZ5+9nHRPcArdUize2DdOn1MZcuys6LbWYyRprc4kUwEtqGSxfVjR8CdvdedvBlyNEdS500xLEISd+TbUEuevF4YQYBeP3xq0ao0R9kXQS6lpmP9hNu5aWs3PX60/K64Uuucvk5dpm9WjWF4bmWuT8nDda++NhffHyxFKqRczBnHnEHLdoaRGvW2iqJWwPcuI5+yLmROL519qXFFKMiNb9SaS0EKSH27Qr6NTdtCd5un2axtv/1ZQcoIUHWnighQdaeKCFB1p4oIXdtMOXCNDCAy080MIDLTzaWkYa+0Rs066gc5hN+/fv/5qGert9e/8D264JtPBACw+08EALD7TwQAsPtMyEm3b4wgMtPNDCAy080MKjrWWksa8wm3YtnYlNu9FgvoZ5hQMAAAAAl4J/px0AAABQYPmddfM13h+iAwAAAAA4H2zaAQAAXBls2gEAAAAwNNi0AwAAuDLYtAMAAABgaLBpBwAAcGXwO+0AAAAAGBps2gEAAJzG2L/TfsLntGvy7LVsn8O4+4xF4vXD0t8E8zmv9vNH2WtLEcb3+MEeD9uCz5EkPrxYr6tG9Drh2YSWL7KWtM5iJC21bbUciVEir4upHnuHGEXZ+lpx50qPGMVw/XfYPND0ZSLU4/ritT3cHt3repDRX9P6IiH4Eq/JHUjli9P+5fNTm2dAjJSWoeZRcE6LWifh6QlyV9MXIvTG5kSOZzVUPwMmWseoRstovqQ8q0G8Z/yZ06XWVWoR51gttXGIzbFe9MiJWnK0RD/yrT+Km/b5g/7XRDXGKCyUWJ67FronJdtcIMLiYBaG0gOEJuyfD7ePzLXlkIZtPFLffhuv/RiSFtkzg5ovkpYMncVIWlI6HQ1NcrfWl/DcFtSOvUeMJKR+pDFoYL1w/6/lC/Xn5qOjJcxVM7c7+pLTX9P6IiH44p03Qr5sOl/9+FNUZx9CLbH5roEfI9W4iLmrXV/8nAh92Z97NF+k8ck50d6Lei0+vX2pbasl5QuNlc6R6+qpWnKeD8WktMTyhdocLU3yRULSok2mlkts2oMkNAnkmqPJZbRwhSo1AW17ushVQeONTEgz9vUVvU79u7BaYv2e4YvUV0d/hBh5bfT/3vMo25dUXjegeOwdY+RR0A/rZz/8OW3R9eXr2+UZ58aM/u/p6pw/yf461xcPwZcAPn794J4BVuerX/8e1dkDT0vgET/f++H7olDrXErmCp3btb6cnLvu+MScUIhRthaf7r60aquFvWe6rur5wmih83LnWC2uFvp/NF/y51gTRC3K5Gq5wqbdnRDmR1ImY95N/66Joch1tDDFgV45mvp4XJKRcPsiDfP36SJXgzveGSpOsw53stj+rcYePzKz10Lw49b3hZD66qOD4LXs29z/95pH2b4k8roF5WPvFyOfuZ+cucL72YvYwkPLlxkTH/LFHbe7gJkwvvRcZCf6611fOFhfDLGa3Bs+X6zOL7//5B3vi68lb773IvBFodZ5FMwVrfoSz11LrPYcwx2fmBNDPo+I/r60aquFv2esrpIfSy5NnrWuddlaFJ5Hrhb3/7F8Sc+xNuRo0SJby5U27cYIx5QzA/P8tTDFwfy4h3t/p4hT4Vg0dFk8BoWppN34JF1bSrSvSEE9xReprw46CClGQVv3eVTii5TX63UHqBp7pxgliM4VKbYdsB7t27R8mftx4+MuzGafpmMmb152Wcy6RPujuKw+aXgj++KhmDP7fPF1/vr7U1xnY0It9nt5vvdh50vvWscQzV33PJVcycvdfS41oOQZMOTzSMeXJm21RO+ZUVdb6ynUkjXHagm0yPlS8HxoQG7uapCt5TI/Hu8VsYxJ1IvLaGHutbwC7E5ASsqPr5eJuhQNjwYTdi5IqYIoPNjMQ7BNEZO1hJ6d6YuUC1JbHZIWtq1j7hb7Es1r55xK6sfePkZZMHNF9rMD4nxV8sVocMdM9SXS7+7czqz9zV54dcXSa6FU4ovChtDA5Uugc/6ddq28CbSctWaI+dKp1mURxIVQqy+7vpnc5Tw7SPEzoGOMqp9HWr4cbKtFvmfOfG1X6w5rYeZYLayWVO5650vPhwacVVs5crVc5w/RORPCmBMk0vLn9Pt/vNxVtHAJFxyLFvJIslZoyS7QNPbIQpUeeLu2LlpSBUPTF0mL0NZYS7ytT+7W+RIc4/K6qZaMsTeOUS7hXEn62UGL0bC8Ur1HyZcwBxK1bntQL3SLUaQ/p23nzSm+THA1WStfAl2vfnm916mWu+esGXgtQY5w8VPMXdX6kpG7Yu2p0FL3DOgToyPPIz1f6tsMjbXMROqqS6Nad1zLfo4ZtPIlY47VaIlzTm3lydBCxDbtCjoVN+0TJvhT4TAESUCQETTiP5784z141loo8ez9NvwHCHPcI1JYSrUEffl9Bjq9gjn3z7ct9NTitbmc4Et220JLLaLOsL1B7h6JUXCt5wnRVEvY7o69Q4xEhLmSGgPRVMuE6ZPJBXVf7KKF68v3zNNg6Rgjtj/nvF27mi9BjFrU3RTRfPF10ke+9fZF0hKf7wunaemdL0LuBjrYc9Ryd0LyjCjVkhqf1x702zpGh7Uo+VLbZu/d1BfpmdOh1lVr6fA8Snnttfu5Ic4xolRLCkGLoXV/EiktBOnhNu0KOnU37Umebp+m8fZ/NSUHaOGBFh5o4YEWHmjhgRYeaHn1478zx+ELD7TwQAsPtPBAC4+2lpHGPhHbtCvoHGbT/v37v6ah3m7f3v/AtmsCLTzQwgMtPNDCAy080MIDLTPhph2+8EALD7TwQAsPtPBoaxlp7CvMpl1LZ2LTbjSYr2Fe4QAAAADApeDfaQcAAAAUWH5n3XyN94foAAAAAADOB5t2AAAAVwabdgAAAAAMDTbtAAAArgw27QAAAAAYGmzaAQAAXBn8TjsAAAAAhgabdgAAAKcx9u+0n/A57Zo8ey3b5z7uPmMx1d/rh6VtgvvsymIELW5fxIcX/PEF9vMrS5DGLrQ9frDHmetqqenvDF8W7Gd3en3F4ncEUYuQS2JbLbm5+3B7jLZNdPVl08j2lxHbYu5Cy8YYuTuz15LwrJa78CU/X758ftM5X2Qtus8AzOnYPcU4SDW5Fml84tg335o9j2r7U45RvC2RS7VU+dJJixQHIT+71BdJi9DWR4tAj/ysJUdL9CPf+qO4aX9x+ziZsCaHMaZRUS3muWuhe1KyzZPSn5Byf2YR12Sjbklpccdqz3XPyWnLhTTExiq1+bTxqFV/vX1ZoIfNdM5HL4Yl8ctF0mLvT+dwuRRrq0W4ZzhPjT+uTk1fpDFL19VSq4V8cNqa1LqM8Q2RuwusFsmzWu7FF2ns/nU///ZmP4ZiarX4sH4WU6tFex5JWqTrasm/p9cm1uRaJC1SHOy8kbwrJaUl1l++n/lI90y1tfLDIvWX8qW1FqG/gvxsEyNp7Pn52UaLBGlxNDSpZ7VkarnEpj1IUJMIrjmaXEYLMyHF/uxEds5vBlcc5mNf3y45mCpiTV4FdaD+YsVBaNPWIvWnoyVW4PPjVw3rC5dLOW21MPckXZ7v7tzR9qVgzKyfB8nVEvjg155G7MY3Uu7KWpr6EDKsL/ljf/Xr34MxNKBSS/+6K2gJYtJ/HuX74l/XCOGeXhzovGhNboSrhf6fjEOBd6WwvmT0J/hZjXRPr62jH5ZsX3pqYe5NujLzs219kcaZ9qBLrXMhX3rXs1xytVxh0+4G3vzoxWTMu+nfdXGgyHW07Cek2B+9qjR9/7gkKtHOk3hxWH8UJ1oYOjx8J1wv0m2kYdE5edR0ETtR15+OLxSfOQ/4GKbjVw8fo2MPoXKYewYLA6MziIWeL7M+05chnhO8n8fI1eKet6s9y72OEo5vpNyNa8mPXy3j+pI/dvNOe2M9ZVo0nwFxLe55Jk7d51F+jPzr2rC/ZyQOGTX5KK4W9//xOPDzqwW81+n++OuOId3Tb8vPpVryfemphekvmZ+96ouUE7G2vrXOxY1Xr3qWS7aWK23ajRGOKWcG5vlr2U9IsT/zoyBu3y03hVxxmI+5OrgC4U6kZgQFNLuNSLWXUtmfii/0/dpHGMO8+FUT9YXLpZy2Wvh7Gv+XB9vXty+duXKWLzOzLqY9cV0VBVpsvrK1x7mmmlALfT9K7opafKLxq2VkXwKk3P3y+e/tPCFqtRCJa4sp0KI+jwKkGDX1hEjdM2iftU2+7GpyA7i+knGQ53o1UV8S/WnHKNFfNJdqqfVloq0Wvr/s/GwaJ2nsGfnZI2cc8uaRDtlaLvPj8SZRbX8ZydKLy2hh7iX1t7zT7i7QKGG7adn9vsj86t7+nIYP3gmpOOcV7nYvZlT3p+LLHDPKlx2UJznxq0T2RZojUlstGfd0vTjNlwUmN/LyrIxiLR1r3di5m9DiXGtg4lfL2L4wCLn7a8O/Hl+rZYOpyZUUa1GdRwxCjMTrCsm7pxCHXS7Xw2rJikO72FhkX+L9accoqz9xjpVR68tKQy35/cX0tqsvspac/GyphaHrHqiQXC3X+UN0TuCNOUHCLn9Ov//Hy11FC5dwUn/B+VwRa6klvD/Tn/uK144KLYcfMgR5Fi62G2vxYPrT9GUjkR+N8iWtJVJIU20tc5dpXwv9ab7MmNxw8iV5nZqWPrXuvnKXkPMpjJ/hEr7Iuct+5JuiFg/lZ8A480iOUXiuoaMWNg6GoCZbmmrJiIM017v4wvenHaPc+OnVOrnmEq20zKT6i+SnpVF9mZG0pH1pq4Wj5x6olJw5PRHbtCvoVNy0T5gFwDQxDMFCgCAjaMR/PPnHe/CstVDi2fttrBNT6s9rYyZzYy1zsd0fNxgtjB+WUi3B2Lw+pbZwDNwioaWWVH+avnjn7gu8GD+ipy/ZbQtNc3f2wj+2oeuLr8XLl5zYamnZXdug1uWMz3B27rqEWhKeEc/WF2HswXVfPj851y2o5a72MyCRE961vedRfows/WIkxcHX6WmwNNUStrtx6PA8KvHFbdOOkdhfIq8JLV96aCnobz4Wua67loK2JloSeDFsUM+OkNJCkB5u066gU3fTnuTp9mkab/9XU3KAFh5o4YEWHmjhgRYeaOGBFvaddvgSAVp4oIUHWnighUdby0hjn4ht2hV0DrNp//79X9NQb7dv739g2zWBFh5o4YEWHmjhgRYeaOGBlplw0w5feKCFB1p4oIUHWni0tYw09hVm066lM7FpNxrM1zCvcAAAAADgUvDvtAMAAAAKLL+zbr7G+0N0AAAAAADng007AACAK4NNOwAAAACGBpt2AAAAVwabdgAAAAAMDTbtAAAArgx+px0AAAAAQ4NNOwAAgNMY+3faT/icdk2ghefSWrbP0fQ+Q/P1w6LBx/+czZYEnx9KfHixO89+nnIbHZGxp7R43jzcHtfrDiDFvbatmpgvE8LYHz/Y40QjLbVjD/OXyaVy6nwZJkahJwuH51JtjHr48sy0fPn8Zhgtp/si5XwtlVq61Lqq+rJds9Ki1tXGQbyulkTcXW/Wz9fu5EstXXypBFp4tLXc29ijH/nWH8VN+/yB/WuhMcY0WuQXAy08V9ZC/dEEnR9wa78s9lyurQUZGujh/OfD7WNSaw7S2AUtYUyMJrtQqIX62+5pXpjwFh81bbUIvhSMvY0WaXzSXKE2R2eT3K31ZdwYtfHlSIxibbU8Py2vfnkNX9a2SM5XU6vFx7+uFmF8Yd+7+tLKD0vKl1gc8j3LR4573PsevtTSw5daoIVHW8sdjv0Sm/ZgwWQKjGuOJtDCAy0T6Qec0dL1leqUBiosrRdtBHc/oQ+KkeeD1eWccxTqI1bAa9uKYTwoGHuXfHHHR/+PzpVZ+9e3S50Pzj3GMV+8MRzmjmMktS3HDvMMtPz825thtJzqiz1fqs1HKdbitDWbR6VzuqMfFteXlYjObvnCjVN69ir4kktXXwqBFh5tLfc49its2s3gl2JrfpxqMubd9O+6mFQEWnighUg94KSHYytmDVQsZvz+yI/Zh9YPY+5+ghYqcM4CxsSssTduHrRqK4fxJTl2ypPFsyl37UOgFe743P/H5oo5TlqaeULU+LJxfowsfeZ0boykNnuvozwHLV/+9Rq+eP1x9boNZVp61brSOT2fzz6rGuF6sbHXmRe/Whhf6B3BqY9H48c8/q2v/r7k0teXMqCFR1vLXY79Spt2Y4RjypmBgRYfaCGYB6KD1cW19cL0aRcqtGhZ+5e1lpO+n6dl/X6KkVkkvGy7+QkWaE3aquB9yR57az3B/WxO8nNlWbA5x+lB1GZhfcCXgWJk/XOPHaYgRnL8gvvW8Ey00B+iG0WL27be7wgFWrbr0vW6iiot/LXHOFZ35/NaaZmIjm2vs2++ML6YH+N17x9/IbK5LwX09aUMaOHR1nKXY7/Mj8d7RaXTAycHaOGBlgmhH/NgjGzMerL2O2sjX3Y02YhleCx5YNraLAZM8Yzcq7atnlxfYv22eyeXHZ80V3a65nfF2syjOl+GipE51nZOF8eoY617Tlpe/fif4YvXXzsNlnotlpY/tZIxPqnuNpzbrC8rjM6O+cLei8YarAFos8H216HmZdPVl0KghUdbyz2O/Tp/iM4pFMacoAguf06//8fLQQsPtEgFw331bUdHX0y/7KY8orVaS7pYprRsxW6hQou0QKptM3TzJTJ2C+Vu6FlTX4S5Ei7QuAWboi+jxaj1nK6KUada99y0vPr178NoOdcXi5Dz6lqctga1bqZuTlvYZ1VTXyyczj75MsP1FxwTNuatfKmjpy+lQAuPtpY7GzsR27Qr6FTctE+YQjIVDINjjIWMoBH/8eQf7wG08FxWC01W29dGzkPQ0FTL/ABedbCb5O283aKmWIs0dkmL37bTQZRq8WIe3Lu2zd67oy/+2IPruPi19GXX7ufpvOhkrrFo+TJUjCaMnoZz+kCMxDYCWviPfLukL1LOL5ylpUWtq57Tflv/upuIQ9Szhaa+TARaN286+HKE5r4cAFp4tLXc09gJ0sNt2hV06m7akzzdPk3j7f9qSg7QwgMtPNDCAy080MIDLTzQQr/Tvj8OX3ighQdaeKCFB1p4tLWMNPaJ2KZdQecwm/bv3/81DfV2+/b+B7ZdE2jhgRYeaOGBFh5o4YEWHmiZCTft8IUHWnighQdaeKCFR1vLSGNfYTbtWjoTm3ajwXwN8woHAAAAAC4F/047AAAAoMDyO+vma7w/RAcAAAAAcD7YtAMAALgy2LQDAAAAYGiwaQcAAHBlsGkHAAAAwNBg0w4AAODK4HfaAQAAADA02LQDAAA4jbF/p/2Ez2nXBFp4oIUHWtbP+14///X1w6LBZ/t82Eqk8UXbgs+iJT682K6rZrvvblze+B9uj25bjxiJ9xR0Luzid4SqGP2H2+MHe5y5rpZKLQY3htznF5dyRMvECDGynK/Fn9NfPj+1mdNHfLlqvkj1JUNnORV194znUbbOid7Po5jOXr7U0iVfKoEWHm0t9zb26Ee+9Udx0/7i9nEyYS0UxphgoasGtPBACw+0mAf/nw+3j9OCYe17B2k7WnBpUbKNxyxK18Vxqk3SVoMdD3Pv0HfjT47OWqR7CjotWfHLJaXF6UPITx1f4lra9O9y0JeRYjSEFrpua2vzTjvyhSelJVZfpOtqEfoLffDqboi9D9eWS60v1ObGq4WWVH/OMS5fVlpoqaVEZ2+ghUdbyx2O/RKb9qC4muLnmqMJtPBAC8/ltVAhiy0WNoyWJu8mONB4YwXca5O1HYO5N/XtjdV65JxjkcZQC3vPmAd58avG1UL/z8zP7vkiahHi1YoiX0aK0Sha/P67/Hh8tpYL58tKRl/sdbUw/dH9M+uu8UzlecT5Mh/7+nZZXwfxPEbEFzFfNrr4kkuBzu5AC4+2lnsc+xU27WbwS6EwPyI5GfNu+nctaopACw+08FxdC/Uz319atPVZ1LrjldtmbVRgZ1pqiSySnMWb0aK4eOTvyccnL371uFrc//P5SXmyxGhqsw/HVmRroVfQp+8f6ZxFT+s5VOLLSDEaR8vcv43Pl89vutYXUcuF82Uj3Rd/XS1Mf9l1V/N5FPfFxI7ypZknxL6/VL5s9PEll3yd/YEWHm0tdzn2K23ajRGOKWcGBlp8oIXn0lpokbT0Iy1OrK7w+CGCBVp224TRI7SXwY977mOKg1nAv+QXQwmdVUTvGVnkZsSvmkBLUX629qZEi/mxN1dX48VsiZaRYjSSFnvNws+/vUG+nBCjjURf0etq4fsz3iTqrvXPPXaYIl/mY27saAPQ5kXKfX+586iLLwXk6tQAWni0tdzl2C/z4/HeQy/xAOgJtPBAC89ltcz3pv52uAsQs6Bt++q9KZ6RBaDUttJUU4bHpj9fU5bOQuR7hjoz41cJq6UoP9ttfIq1ULwCD+jh3GIelWkZKUYjaXHOWXj1y+tmcxr5wsNqWYnHRr6ulnh/K0zdbVv7Z4p92emiWtcmX9j+cuZRB1+KKZjv3YEWHm0t9zj26/whOqdgGHOCIrj8Of3+Hy8HLTzQwgMtM3wBc1+V3FGhRVog5S4OjaZwEVvtS+ohMrdvhT5DZ2NfZvJ07tqbasnITwu1NYhRnZbAC25Be4ovI8VorHz59fcn5MvuPI0YWfi+ktdVaJmJjC1od+suofk8mmF0hvnRKF9mOF/S+dLalzoy8hpaLqblzsZOxDbtCjoVN+0TpnBNhcPgGGMhI2jEfzz5x3sALTzQwgMtExmLk5BSLd7YNkyfUtuibT3OvetU7AsVcOeeC1x/e0/8a3bntPRF1OnCLfYmmmoJ293cCHS2iFG1lv215/nicnaMXM7W4s+xL/96jXwJ76ESI6G+pMZAlGqprbuE0RPzakLLl+naebO/P77S1JcJKV9a+3IESScBLdfTck9jJ0gPt2lX0Km7aU/ydPs0jbf/qyk5QAsPtPBACw+08EALD7TwQAv/1+PhCw+08EALD7TwQAuPtpaRxj4R27Qr6Bxm0/79+7+mod5u397/wLZrAi080MIDLTzQwgMtPNDCAy0z4aYdvvBACw+08EALD7TwaGsZaewrzKZdS2di0240mK9hXuEAAAAAwKXo8jntAAAAQA7L76ybr/H+EB0AAAAAwPlg0w4AAODKYNMOAAAAgKHBph0AAMCVwaYdAAAAAEODTTsAAIArg99pBwAAAMDQYNMOAADgNMb+nfYTPqddE2jhGUmL85msu884PYPXD4svE9xnTGtxUozs587uYtHaF3F8Qk508UXozx33f3+4PTLXrHx44V9bw0i+SPesbavlSH+auRttOyFfUr5MROd7DQ18+fL56XxfhsiXDbUYob5E7in44j0fJlrkrkT0eUQIOrXpEaNKHj9YHedruXSMBsqJLC3Rj3zrj+Km/cXt42TCmozGmLCwaAEtPKNpoQkzF7Kzi5hZHJ25UV85KUa0IPjz4fYxiEV7Xyje23j8+0s5IV1Xi9Bf6Lvxx/bXI2dH8iWlxdHg+TSSllb9uxzxRTtf4r4YIvO9jja+tHmnvd6XcfJlQTVG91BfMjwrptYXanP7tue65zQkHKv3PJJ0atMjRm1ok7u1XDlGI+VEppZLbNq9IrJMENccTaCFZyQtK6MUsY4P3BJOiVHsgaLgC413VzQzcoK9rhamP7q/986J64VCzg7hy4J7T/p/bn6eqkU5d0UtyvkiaiFi870Rlb50+fH4bC0j5QuhGKOVwetL0rMGZPsyH/v6dllfB9qaQ/ePPo8snXKlBI0YVWK09P5piCQXjNFIOZGr5QqbdndCmB9JmYx5N/27FjVFoIVnJC0bAxQxerVt8uJxmcDEWZ6cESPqZ75/EAsFX9zxbqRzgr+uFqY/Ku7O4s30ty6S5vOtJz1+3GsMX2bce7r/T+XnqVqUc1f2RTdfZC3CfG9ErS9fPr85z5eh8kU3Rhtj15eUZy0o9cXooHxp7MkO8Xlk6ZMrJWjEqAx6cWOJ0aSl24sq2VwvRiPlRLaWK23ajRGOKWcGBlp8RtKycX4Rm39ExvVB4V2XCOoxosXA0s8uFr19CRYiG4mciF5XC9+ficXywP/69mV07PN5DfUM48tEcM/s/Dxbi3Lulszb3vkiaqFzl2Ndau8BX37+7c15voyUL8ox2hi7vpTkUhVFvszHXB29N4Vm/OLzqEOuFNI9Rkfokb/FXC9GI+VEtpbL/Hi899A7MTmhhWckLSsDaFjeZXEfuDSRn3+M5ntTfzvIj46+zAuQ2AM0Pmb5uloyPDaL+ki/pq3NAn8kX9h7ZuTnEFq0c7dk3vbOl6iW+V8zv0MabDiO+vLql9cn+TL9f5h8OSFGK/HYyNfVURyjglwqpdiX3fNgfke3hZYsdv0T7fyopmOMjnPemzEbF4zRSDmRq+U6f4jOmRDGnKCoLH9Ov//Hy0ELz0haLMIEVtMSaOAW1ZeIURiLPr6kF4B8TiSvq/ZFyEGnfSv0PrS43y2o79yX+D3l/BxHi3buZszbhf75kqslkvcn+fLr708n+jJqvmjEyDJ6fcnwTMuXMD9U1wyznv3zKJIrRDctIX1i1ATS0qC+HOOKMRopJzK0ELFNu4JOxU37hClc9pXhoIARZASN+I8n/3gPoIVnGC00eayODa+YneYLU1QvEaPY4qShL8H9/PsKOSFet1Dsi5SDsxf+MYvfxr4Dds++pO7ptTv5OZIW5lpPB6GmRTtfwnamhhgiC8iTfPnyr9fn+hJce54vLhoxupP6kmojtHyZrp03+/vjK6VaRPy54vcl6zQ01ZKgdYyqCXxpUXeruXiMhsmJiZQWgvRwm3YFnbqb9iRPt0/TePVe1ZKAFh5o4YEWHmjhgRYeaOGBFv6vx8MXHmjhgRYeaOGBFh5tLSONfSK2aVfQOcym/fv3f01Dvd2+vf+BbdcEWnighQdaeKCFB1p4oIUHWmbCTTt84YEWHmjhgRYeaOHR1jLS2FeYTbuWzsSm3WgwX8O8wgEAAACAS9Hlc9oBAACAHJbfWTdf4/0hOgAAAACA88GmHQAAwJXBph0AAAAAQ4NNOwAAgCuDTTsAAAAAhgabdgAAAFcGv9MOAAAAgKHBph0AAMBpjP077Sd8Trsm0MIDLRG2z0Hdfd6qNuq+SGPv4Ytwz9cPy7iJh9sje3zjuKYKLam2WqS4R9s2/SsfXmzX1VKlJdFWy3PwhXBzhvvM4FKOaJmwnzPdZF5XafFj9OXz03kx6lVfqnzZGC1GhtPm0QlanD7l58NECy0xpPzslbu1iH5q0ilfahnGlwltLfc29uhHvvVHcdP+4vZxMmEtFMaYRovZYqCFB1p4SAtN3rnIr5pOQdsXaew9fBHuGY6VFiPRzY29D9eWS6WWIp25kIbtnmaxvt6TdMZyomVsLEe0xK6r5Tn40soLl3otBpOzD7ePTTxqE6M277Qf9GWFzj1aX55fjNpwT1pizz9q267bznXP6YnUn7YWF+o7Fj9teuRLLSP5oq3lDsd+iU17sHA1xc81RxNo4YGWBAMU+dN8kcbewxfmnjR275VwKrD84sP40uxV80ItBTqroT7sw0TMCYWczdYS4F7Xirv0pUN+hGRrIayeTh5la/H77/Lj8UW+bJi21u/KFWkZM0ZdGFXLCtfvfOzr22V9HejujZSfXXI3FzF+2ijkSy4j+aKt5R7HfoVNuxn8UigeP/ybMebd9O9a1BSBFh5oSXF+kT/PF2nsPXxh7kkF1VkwGS/YzU7rTVChlmyd9bh5IOfErJ0ePDNtdRD5WuLXteIufaFX86fvH+mcRU/r+Zzvy3zM9ah1vcvX4sfoy+c3g+RunxdZSrSMGqNz64uulo14DIxG0rK7pidSfvbJ3Vzk+PHX9KN/vuQyki/aWu5y7FfatBsjHFPODAy0+EBLij4LpBLO80Uaew9f+Hua8S8P2a9vX7ILEOuRe+wY5VpydFbDvSiQmROzrvCdogPUagmua8K9+mJ+BM/V1XhhXaKFzl2OdZnXB2L0829vzouRvcY5zz12mGcSI3PuADFaz+2oZYOLwXzM1UgbAPsOXk+sR6VtGpTET5vm+VLASL5oa7nLsV/mx+O9hUmHh00u0MIDLQkG0HCaL1I/PTRk3JP7fSNzrPUr5pVactoKYRcWJTnR0J9aLex1B7lrX6jvYEFPCwUx3zIp0zL/S207Gmw4jsbo1S+vT8/dlnlieU4xGqG+rPTWshLLE/d8eiEuorMl0pg75G4xJfHT5kx/RvJFW8s9jv06f4jOmRDGnKAILn9Ov//Hy0ELD7TICMXk2fsiFdIevqQK99y+FdcZ9xXSHcpaxLYKLfGFY0ZOLBh/wsW9ohZ58TtxSV+C/OIWj6f4Esn7k2L06+9Pp+Yu0bq+PLcYnV1fXPprsTAxCOdwozmdQsrP1rlbR0b81LT4tMqXOkbyRVvLnY2diG3aFXQqbtonTOGaJobBMcZCRtCI/3jyj/cAWnighYEmstWx4T2kn60v0th7+CLdc14c+cccjC+MHxY1LQmdRKkWL+bMvaM54WvZLUoILS2p64gr+sJc63lCaGpZmT06T4sfoy//ej1AjGJeTSBGJ88jbS3y82/e7O+Pr5RqSWG0RvJEaiNaa5GIxm9BTUuHfDnCML5MaGu5p7ETpIfbtCvo1N20J3m6fZrG2//VlByghQdaeKCFB1p4oIUHWnighf/r8fCFB1p4oIUHWnighUdby0hjn4ht2hV0DrNp//79X9NQb7dv739g2zWBFh5o4YEWHmjhgRYeaOGBlplw0w5feKCFB1p4oIUHWni0tYw09hVm066lM7FpNxrM1zCvcAAAAADgUnT5nHYAAAAgh+V31s3XeH+IDgAAAADgfLBpBwAAcGWwaQcAAADA0GDTDgAA4Mpg0w4AAACAocGmHQAAwJXB77QDAAAAYGiwaQcAAHAaY/9O+wmf064JtPBAC8vjB6sDvnh00bJ9furus21fPyx9EQ+3R7dNuq6aSi1e28SHF/61NUhei3Ho4EuVluBzcYlTfZlw48R9Tm8pd+/LuDH68vnpxBhNiLWnkga+GFr40qTWneyLtpZaz1rj9bURarKfHd/sOVBDKq/V6FTrahnGlwltLfc29uhHvvVHcdP+4vZxMmEtFsaYzoUsCrTwQEsO5sHXZJFUw0i+0ENv67uNLzQ+KpTzA3UdJxGOlRYqa3/CddUc0eLGxN7Hfl+D5DXdP5YTPXyp1dJSg6VWS495/Bx8GTdGbd5pr9QS6PLney1tfNnudwTqr6LWjeTLKVpqng8aWG3OMaPh4fax+fwuQc5rXZi4ncZIvmhrucOxX2LTHhQtU/xcczSBFh5oycJoOesV2YF9MdqaFVvmgUr393ynAhtuhns8iEu1zOd/fbvU1iBmTXC9Du7P50THBUq2lo4aLNlauNxpzF36Mm6Muvx4fK4WakvWnoNU+tIWJv7S2EfyRVvLSqFn67F+GF/Y/hXmt4QUP/c8FU72wmUkX7S13OPYr7BpN4Nfioj5UePJmHfTv+vCVhFo4YEWCXroTTqISYud1NqM58uGq+04kYWQs2Ay/e0WQj0exHVaTHwoX5p5suF6nZcT/RYo+VpmDcYTQ/tFbLYWegV9+v6Rzln0tJ5Dd+nLwDGiH48/LUZZtecYtb4Q7XwprHUj+aKsZaPQM3tON/YvEJBXc44wWhUR4xec25/+tS6XkXzR1nKXY7/Spt0Y4ZhyZmCgxQdaMgkeyJoM60tzT/jFhRn/ulB9ybx70WNRUqplWQw48aHi3+yFHm5BmMyJHr5MVGlxzm2ZMyVazI+9uboavxN2r77Ya9xzB4nRqx9/OjVGsxdT226+N2CY3C2vu8P4YtuVtGyUe9YT69F6jHSv33d6DmSSit+ZzPHi4tufkXzR1nKXY7/Mj8eb4mX7O7F4QAsPtGTSeIFfwoC+9HnYZYzLLF7Dfnv4Uahlp2v+KY0Wmlivs3KivS/1WhaMT23mUbEW6jt4IYUezufGaOFMX9zziIFiRD8eP1aMgusrGSl3xTFbpLGf6Yt7HtFby8pBz1pi+nHn66yNPNvR8oXkXErip83OO0VG8kVbyz2O/Tp/iM6ZEMacoIgtf06//8fLQQsPtGRBWsIH3kV9kRczE9VaUoV7bt+Kq3+cvU5LS/jw5xYDFVriXmfkRGNfjmmZMa9mN5hHdVoCP4aI0cy5vviMFKNXv7weJEbBfLfcee7OCHXCad/XXaHt2cbIUulZdYzimPm6vEPIE9HaQQtPRvzUtPi0qnV1jOSLtpY7GzsR27Qr6FTctE+Yh8s0MQyOMRYygkb8x5N/vAfQwgMtDDSRrY6JsLATV/TF07HhLQiKtQRee/ecFxz+sZzrFtS02IVevL1YS8rraE508KVai+9Zk3lUrWV/7XkxGsmXcWNEv9M+Sox2Ooh7zt3qWjeSL9pa6p8PhuIYJTBagzzZMeva6WmtRSIavwU1LX6MsK5z0NZyT2MnSA+3aVfQqbtpT/J0+zSNt/+rKTlACw+08EALD7TwQAsPtPBAC//X4+ELD7TwQAsPtPBAC4+2lpHGPhHbtCvoHGbT/v37v6ah3m7f3v/AtmsCLTzQwgMtPNDCAy080MIDLTPhph2+8EALD7TwQAsPtPBoaxlp7CvMpl1LZ2LTbjSYr2Fe4QAAAADApejyOe0AAABADsvvrJuv8f4QHQAAAADA+WDTDgAA4Mpg0w4AAACAocGmHQAAwJXBph0AAAAAQ4NNOwAAgCuD32kHAAAAwNBg0w4AAOA0xv6d9hM+p10TaOGBFh5o4emiZfv81N3nyb5+WPpa+PAir62aXC0Pt0f2+Ab7Wb0lSF7XttVS099IvowWowX7+f6HdRD37kughT6nnf7tqkWa7+J1ldT4QoRxOqvW7domWmip8WWk3DUIfrYmNXZRpzIjaVloWndruXKM7m3s0Y9864/ipv3F7eNkgl9EguKvBrTwQAsPPXy3vk2B//Pl7TvvHC2ee4zonlQo5wXPeu+1zb2/PTfVVougJRwrLZqiOdFCi5SDdP9YHKS2Wmq1hJzpS8gAWkwOPdw+7vK+hucXo1c//qSghe5P54QxKPEsl1pfqM3t2+q239cgjD0cq1fremhpky/9taR0xnJJA3fskk5tSuKnRNO6W8tIvmhrucOxX2LTHixqTeFwzdEEWnigJQ/SdlZRuUyMuMXOfOzr26Vmef1LbUdhtND9vXeUqNjzC0TjS5N3whyof5uDUhyktuXYYXK12PPdtrN8see7badqsfnD5X0D7taXjZ9/e9NXy0pkvmfqrCbbl5FqXU8tC9m++HTP3ay2TvM5gTh2aQy9KYifDp3rbi4j+aKt5R7HfoVNuxn8UkQeP/ybMebd9O9a7BWBFh5oycPVps11YhR/iJq+pkLKxUBqqyeykHUWPsYLdtMe38wfwfVeioNGvuRqca852xf3mhG00LH5/30Wj/fqy8aL2z8/v+mqZWMfg3yd9ZT6Yo4PUuv6aJkp9WWmf+7mtfWZzzLy2KUx9CY/fjqQhrnvM+K0MZIv2lrucuxX2rQbIxxTzgwMtPhASwbBAkab68SIe4jOx9y+qKjOr4pKbUfhH+hm/LRQnfj69iW7ULIeuccOwy2iI3Honi8FWtzrzvbFve50LXTu2n+HxeMzidGX33/yjh0m0LKxj0GuzmqKfBmp1vXUMjFw7ua1dZjPCcSxS2NQIDd+KpAXq0/6cXIZyRdtLXc59sv8eLwp+La/EycJtPBAi4iZ0Cc+8AyXiRFzr93vF9E7Css5Utt6rJaMcXG/+2SOtX23h81BKQ4dY1SsxZ4zgi/2nNO1zP9S244Gm5/nFKN//NLur8ezWlYYDTk6Kyn2xfjhnn9ireuoZfjczWhrmSdZCGOXdSrRcR6VMfdLWna0fNEpl2F8mdDWco9jv84fonOKiTEnKCDLn9Pv//Fy0MIDLTGSDzzEqLEWpliGCxL3e6nNXt9SC9O+FfoZ99XaHRVa4jkoxaFPjOq0zIzhy8xIWmYiuYYY8R/51lSLhYtBRvy0fBmp1nXSch+5W5tLC9UxihMbe1JnBy08febRcdrV3TpG8kVby52NnYht2hV0Km7aJ0xBn4qKwTHGQkbQiP948o/3AFp4oGWPp2PDK/CIUSMtVDTt/Tas1/PiY3881WZoqmV+yPvHHIwvjB+WUi2pHJTi0DpGh7WM5MsgWlYii0fEiN+0N9Ui1x5RJ6Hoy0i1rrmWA77MbUxsLC21iDoTuUQUxyhBbOyizoXWWiQ8PQ3mURMa1d0jjOSLtpZ7GjtBerhNu4JO3U17kqfbp2m8/V9NyQFaeKCFB1p4oIUHWnighQda2E07fIkALTzQwgMtPNDCo61lpLFPxDbtCjqH2bR///6vaai327f3P7DtmkALD7TwQAsPtPBACw+08EDLTLhphy880MIDLTzQwgMtPNpaRhr7CrNp19KZ2LQbDeZrmFc4AAAAAHAp+HfaAQAAAAWW31k3X+P9IToAAAAAgPPBph0AAMCVwaYdAAAAAEODTTsAAIArg007AAAAAIYGm3YAAABXBr/TDgAAAIChwaYdAADAaYz9O+0nfE67JtDCAy080MLTQ4t4z+0zg/3PVPU/S9jw4YXTXkusv4nXD05/D7fHaNtECy2SL0Lb4wd7nLmulkotBtebP1/evnPbaqjVMkyMOuVujZbQk4Vd7pfSQMuXz0/m365apPkuXldJjS/EQPVlKF+eu5YY4rzt9WysRNOXTL57+zej53BtOcJIvmhrubexRz/yrT+Km/YXt4+TCeukMMYEC101oIUHWnjoobf1bQp8i81GFc89RpLX1B8V0XkRsva7XhceO4rQXzhWWjR5Ol0f7H3s9zWkfMmLQ5vcrdfSfu7UahkpRkx+HaZNvpzri8+rH39S0BKZ70We5VLrC7W5fVvd9vsajmgZxRfpulqke9a2aeDmBGlxPDuVHvlyEPPsfrh9PNWjkXzR1nKHY7/Ept1b1C5FzDVHE2jhgZY8SNtZReVqMWK95hYhPRcmzL1Jl/duBRV7f5H09e1SWwOfmuD6UhAH09b6XZZsLa5HncjWMlKMeubuQrYWn3Pzxefn39701bISme+ZOqvJ9mWg3BV1NiJXiz3f4l7XCumetW0dML6sc0WhvuRSEj8V7DPpZI9G8kVbyz2O/QqbdjP4pYiYH9ecjHk3/bs+eBSBFh5oycPVps3VYsR7zT1g52NUYGdabg6Z/qi4O4swozPo03hCWjrkiutLOg7zq8dGy9RmH0ityNZCr1pP3z8ar2Y9rfO2zJdRYtQzd2dKfZnp8yJLrZZ/fn7TVcvGfr7n66yn1Bdz/OTcHdEXi3tuK6R71ra1J5y3/etLLiXx04A0zH0zz3hFRvJFW8tdjv1Km3ZjhGPKmYGBFh9oySDYrGlzqRhFvU4/YI22ZnHi+5v7mMY+8fXtS2ehtCySHE+o+DfbLHMvGOTGoXX+lmgxP2rm6mq8KSzyZdwYzXl1UozsNc557rHDHNDy5fefvGOHCbRs7Od7rs5q7jR3x/Ilfl0TpHvWtnXAesS1EaZdUY9L93wpgeKy+sQ/47UYyRdtLXc59sv8eLy3YDtxkkALD7SImAl90sNu5SIxkr3O6MdsEFttCHP7W/Tufg9qfqe7my9FcWi3US7WsrzT7m4u6IF4ii8jx6hh7lZraajBclTLP35p99fjWS0rjIaS+BVy17k7ki/LOXJs65DuWdvWhZx522FuZ9MxX8qY+yUtO1q+AJbLML5MaGu5x7Ff5w/ROYXCmBMUs+XP6ff/eDlo4YGWGMmHL2LUTEt6oZMu6uaV0vDhW+1Lqr+5fS304aKIWyQ19SUjDhZqa+BLnZbAxzN9GThGrXL3iBb3nYYdJ2lhP/KtqRYLN98z4nfJ3B3Il4lkbBvnS22boUJLCnHeLrR9NpbSJ1+OE3nGX9IXbS13NnYitmlX0Km4aZ8wD5epYBgcYyxkBI34jyf/eA+ghQda9ng6NrwCjxi10SJ6TQU11jY/dNfj3Kvlxb7k9xc+7OcFW7y9rS9huxuHYAwtfKnWsr/2PF9GilGH3D3gy9wWHHM5SQu7aW+qRZrv4bWMP5fM3UQboaUldR3RUkttm713qZYUpk/G/y7PxgN43jTIlyZENu1X9UVbyz2NnSA93KZdQafupj3J0+3TNN7+r6bkAC080MIDLTzQwgMtPNDCAy3sph2+RIAWHmjhgRYeaOHR1jLS2Cdim3YFncNs2r9//9c01Nvt2/sf2HZNoIUHWnighQdaeKCFB1p4oGUm3LTDFx5o4YEWHmjhgRYebS0jjX2F2bRr6Uxs2o0G8zXMKxwAAAAAuBT8O+0AAACAAsvvrJuv8f4QHQAAAADA+WDTDgAA4Mpg0w4AAACAocGmHQAAwJXBph0AAAAAQ4NNOwAAgCuD32kHAAAAwNBg0w4AAOA0xv6d9hM+p10TaOGBlgjbZ53uPstTm+ceI/GeQhy6+CL09/ph6Yt4uD1G2yY+vPCvrUEan9Qm6aylVgvh6uE+M7gU+MLTxJeJs3I30PHl85P593D9FeMg1fkOz4DaGBFD5MvmyUqLfHkOdbdHvkhIY0/lkiYDaXn8YHXAFw9tLfc29uhHvvVHcdP+4vZxMmEtXsaYRgulYqCFB1p4SAtN3vkhvGo6heceI/J4u8d3b//mLEilOEjX1SL0F46VFkyeTtcHex/7fQ0pXyJxEHXWUqlld24L4AtPrRZqc3wx35+UuwGvfvxJQUusvkhttdT7Mk6+tPTDIngd5sepdTflWet8kZDGTv+P55IuI2nxaT+nSrhyjO5w7JfYtAeLIjNBXHM0gRYeaEmg9QAWuFqMqI9d0cyIA3tdLUx/dH/vXRwq9naRNJ//9e1SWwOfmuCOL7i/FwdRZyNytfToOwS+8GRrGSh37fkLP//2ps07py6ulhWpvmTUnlqyfRkvX7r4wd2btIxSd7PaevrjIow98EGaY90ZSUuA0dK6vuRy5Rjd49ivsGl3J4T5kZTJmHfTv2uRUQRaeKAlhdYDOM7VYuT2sZGOA39dLUx/VNydBZrpL1hIG0+mgt9Ox4Y7PjEOGTqPkq2FXrWevn80GmZvWuctfOHJ1rKcb46fnbvONbQ5++fnN803qm7/G1J96fcMyPZlqHyZ/bA62s6hsetuXlu/fOHgxi7Hb3+PnoykZYZe9Fk8m7TYzZo2V47RXY79Spt2Y4RjypmBgRYfaEmh+wDmuFSMggXaRiIO0etq4fsz418e+F/fvty94+N60nRBwC1chTjEdTagRIv5UTM3Pxq/YwhfeIp8GSt3LXTel99/8o4dJtCyIdWXRO2p5W7zxb/WnMt6WsPYdTevrVO+7IiPvSR+vRlJyw4pvp25cozucuyX+fF470GjVcwYoIUHWhIMoOEiMTLFM/oAjfcjX1dLxrjMQnrp1/2/YX41v5svJXHYaaunWAv1HSyi6YEIXwbyZcTcNZr+dvvHL+3+ejyrZUXIE7GtjrvOF/c8YolVmxcQMrx281U7dzPaeuQLizT2kvj1ZiQtOxq/+FXClWN0j2O/zh+icyaEMScodMuf0+//8XLQwgMtMkIxQYyaaZEXQQQfh+R11b6kHiJz+1row4Urt5Bt6ktGHAyBToualsBH+DKeLwPmrn3Xg/3It6ZaLEE8ctuumC8BJlbhu9sVWmakOBBz+3l192AuVfvCII49I34ttYiMpCWAtDTL3VKuHKM7GzsR27Qr6FTctE+YQjIVdYNjjIWMoBH/8eQf7wG08EALA01kq2PDexAjRm20ePfbmL0W4iBet1DsixT3eTHmH9uYF3Px9ra+hO1uHGSdBjUt+2vhC3/teb6MlLu2bT7GbtqbapHme4dnwGFfmGssalr8ecT+OHqplnupu6JnHfIlgTj2aPwWGmsRGUZLEKMmuXuAK8fonsZOkB5u066gU3fTnuTp9mkab/9XU3KAFh5o4YEWHmjhgRYeaOGBFnbTDl8iQAsPtPBACw+08GhrGWnsE7FNu4LOYTbt37//axrq7fbt/Q9suybQwgMtPNDCAy080MIDLTzQMhNu2uELD7TwQAsPtPBAC4+2lpHGvsJs2rV0JjbtRoP5GuYVDgAAAABcCv6ddgAAAECB5XfWzdd4f4gOAAAAAOB8sGkHAABwZbBpBwAAAMDQYNMOAADgymDTDgAAAIChwaYdAADAlcHvtAMAAABgaLBpBwAAcBpj/077CZ/Trgm08EBLhO3zYXef/arNc4+RdM+M/uzn1TaJU7WWDvlSpSX4HGXiw4vtulpqfXn9sBxfOEtLqGPhcKyqfDkhRmJ+jpm7Xz4/neuLeF0l96JFavPm0sPt0R4/hDD2aH9+vhjOrHXSGHqQioPbzn0muRY9creSxw9Wx/laRvJFXcu9jT36kW/9Udy0v7h9nExYi5cxplWBLwVaeKCFh7TQ5J0fwqumU3juMSKPt3uYDfi6wMjojxYm0/Ufm8SpVkuPfKnV0iNnj/iyXbf5ZL+voVZLyJlazohRLD+ltlra+NLmnfYjvsR01nJPWiL9hX2b+muvq0UYu9gf59VRJF9SnrWeRwKJOPjazqRH7rbhXI9G8kVbyx2O/RKbdq6IuOZoAi080JJA6QEscbUYUR+2aCb7o4LbcaFUpIXomC/ZWhRytlDL17fLMyc4twnZWnxMW4t35VwKfVGL0YrU73i52+XH43N9EXU2YlQtUn/U5s0bW4Pt90eIjD3aX8ectbi+ZLUpaCJEX1rG5CCks3fuVmK0tH4G5DKSL9pa7nHsV9i0uxPC/EjKZMy76d91AacItPBASwqlB7DA1WLk9pHqj47N/+8TpxItM/3yJV/LrIEePDPtF2+lvpjjpGU5ryWlWmb6LGrztejGaEPKz/Fy98vnN6f5Iut0r61nVC1if7TIdTaq5txm+cvkoNifny9680hqY8bQA8kXerdwitmjOTZ70zJXSnA96pW7ZVDtX/Jl0mI3a9qM5Iu2lrsc+5U27cYIx5QzAwMtPtCSQukBLHCpGHELkVh/dO5yrEucSrTYa3rlS5UW51zn2sMUaVkW1c7xpgulSl/see6xwwwcow0pP8fL3Z9/e3OaLyU6qxhYS6q/OV+nNrMZfNnwBTA+B3P7m8/TyBeprdM8Yoj6Yn7E182P8955T+XSqUjx7cxIvmhrucuxX+bH473CoVfMdkALD7QkGEDDRWJkimf4AI32N/9LbTsabArLtDjndIhNvZYFs4Brs2Ar1rL7/bD5XQ79fHHOaeiHZfgYrUj5KbXVcdSXV7+8Ps+XkvgVMryW4tyNjaWUjHFJ/SnNo+L4aeD6Qv8PnoO0EVHXRHTM3eOc+GsEI/mireUex36dP0TnTAhjTlDolj+n3//j5aCFB1pkhGKCGDXTEl8EZfRniMRJXUvbfDnuy7xY272QoaUlXERzi2plX9xX1Hc82xhZpMXReLn76+9PJ/qSofPZasmN0ax1W/AuVGiZkfKTiPS3oDGP6uK3UO1LitCXQEOjultHn9xtAmlpkC91jOSLtpY7GzsR27Qr6FTctE+YYjEVUoNjjIWMoBH/8eQf7wG08EALA01kq2PDexAjRm20ePfb8Bcc9jjTnyGyUFLT0iFfqrXMXqzXhIsSQjFG8yKXucaimS+mLZZDE882RlJ+jpu7X/71+kRfwmuZvHm2WsL2eIzW811KtYhjl/pTnkdH4kcU+yKRiEOgddfeVEuCaC4tqGkJYtQiX44wjC8T2lruaewE6eE27Qo6dTftSZ5un6bx9n81JQdo4YEWHmjhgRYeaOGBFh5o4f96PHzhgRYeaOGBFh5o4dHWMtLYJ2KbdgWdw2zav3//1zTU2+3b+x/Ydk2ghQdaeKCFB1p4oIUHWnigZSbctMMXHmjhgRYeaOGBFh5tLSONfYXZtGvpTGzajQbzNcwrHAAAAAC4FF0+px0AAADIYfmddfM13h+iAwAAAAA4H2zaAQAAXBls2gEAAAAwNNi0AwAAuDLYtAMAAABgaLBpBwAAcGXwO+0AAAAAGBps2gEAAJzG2L/TfsLntGsCLTzQEmH7HNTdZ5xq89xjJN2ztq2W6v465EuVluCzi4kPL7braqn15fXDcpx4uD3a40eo0eLp2DgcqypfToiRkJ+PH+w13HWVVPmysMTqy+cn/rOUS6n0JamzhlpftOeRti9Sfxlj/+7t3/hra6jxpVd9qYrDds1Ki/pSS5d8qQRaeLS13NvYox/51h/FTfuL28fJhLXQGGMaPWyKgRYeaOEhLTR554ffqukUnnuMyOPtHmbxtS7Upf6k62qp1dIjX4740kqDpVJLmB+0sD0tRiE2ZlxbLvcUo7z89K+rpT5G7rlt3mmv9UXWWUelL2HfKvNI0xehv5yxm2MPt49N5lStLyH2XK4tl9o45OjTQtKpjRRbbUbyRVvLHY79Epv2oLiaCeKaowm08EBLggEefleLEfVhi2ZJf+51rSjW0jFfsrUo5GyuFmrz3uGhB+TRhWxAti8+pq31u0/ZWpRjtJLu91xf/Pzo8uPxub6IOhuR6wu1ac6jFW1fIv2JY7ffd5pTub4EtJ1HpXHo5EUNXfPlIGxslRjJF20t9zj2K2zazeCXomV+/G4y5t3079e3sf77AS080JLi/Iff1WLk9lHSn3tuK8q19MuXfC2zBnrwzDRe3E9kawkWRebcxnryfXGv67DpmcjXohujjVh+kh+LlkmnXcC0ItsXepdj+v6Rzpm00I/H72N3jFxf5Pi519aT7YvyPNrQ9oXJz8TYScPcdyy3j5Hri0/r+lIah/n8nvUll775cgw+tjqM5Iu2lrsc+5U27cYIx5QzAwMtPtCSos9CoIRLxYhboOX0F1zXhCotnfKl1hd7bktvCrXM/U9tE1/fvmy7mK30xZ7nHjvMwDHayMjP6LWVlPhifjRx8+jVjz91zZeN+KYoJ35VFObLnCNTm8I82tD2hc/P6NhJ96KhS+0t8MXFesS11XEsDrN/3Dj60zdfDhCNrQ4j+aKt5S7Hfpkfj3cewF2Kai7QwgMtCQbQcJEYmeIZPkQz+mOvO0itlh6xqdeyYDZCbRb4bbS0iVW1loZ+WIaP0UpOfrZ7l7DYF/Lhz+2dfvrxeFpAyXrzKPalJH6FtMmX2FjKGMmXrHutY5/PJS07nByqpXoedagvh+PQRVMmXfOlDjm2Sozki7aWexz7df4QnVMojDnBRFn+nH7/j5eDFh5okRGKCWLUTEv8ISr3l3z4KmqZaZsvx7TMmFeQw0XsKVpmb7aH44KyFvcV9R3PNkaWjMUR6TwtX3x9r355vd9sqPmSEb9T8kVjHln0fJlJ5Wdk7E7b7lo1X2Za15eZyjgstKovdfTMl3KSsb2kL9pa7mzsRGzTrqBTcdM+YV7hmwqGwTHGQkbQiP948o/3AFp4oIWBJrLVseE9NBGjNlq8+22sXsf6S11HaGnpkS/VWuYF3noN967TSVo8PyxqWmxbcMzl2cZIys+g7dR88dvod9rXayxqvoTXMnlzUr7sPCHu2Rexv4yxG+bzdu3qvjB+WJr6MpGZL03m9BGa50slYmwXrugLoa3lnsZOkB5u066gU3fTnuTp9mkab/9XU3KAFh5o4YEWHmjhgRYeaOGBFv6vx8MXHmjhgRYeaOGBFh5tLSONfSK2aVfQOcym/fv3f01Dvd2+vf+BbdcEWnighQdaeKCFB1p4oIUHWmbCTTt84YEWHmjhgRYeaOHR1jLS2FeYTbuWzsSm3WgwX8O8wgEAAACAS9Hlc9oBAACAHJbfWTdf4/0hOgAAAACA88GmHQAAwJXBph0AAAAAQ4NNOwAAgCuDTTsAAAAAhgabdgAAAFcGv9MOAAAAgKHBph0AAMBpjP077Sd8Trsm0MIDLRG2zzrdffarNs89RtI9M/r77u3fTHuTON29luAzeokPL7braqn15fXDcnzhLC2hjoXDcary5YQYRevZQPkSxIg+p53+7Rojqc6L11VS4wuhPY8kX8S2WoR7emN/uD06bY8f7HFCIUaCzi5aquKwHV9pkS+19JhHtUALj7aWext79CPf+qO4aX9x+ziZsBYTY4xfcPWAFh5o4SEtNHnnh9+q6RSee4zI4+0eZtP758vbd+b7jP5oQTdd/7FJnJ6Dlh45W6uF2lyP6PujD+iDMVo5U8sZMYrVszO05MXo1Y8/KcQo5ku+znxqfaE2t2+r235fwxFfYm21CPcMfTc11ur08cdQS60vPm201MYhrU8P0uloaTKPapFiq81IvmhrucOxX2LTHhRXM0FcczSBFh5oSTDAw+9qMaI+bNFM9kcFt/UC0uEutSjkbKGWr2+XZ05wbhOytfiYttbvPhX6ohajFa7fkfLF5+ff3vSN0QrjQYHOarJ9UZ5HK1Ju9MibSBy8HLB11jlnofucXkmPva2W0jj0iE0lYl6fDBtbJUbyRVvLPY79Cpt2M/ilaJkfG5qMeTf9uz54FIEWHmhJcf7D72oxcvtI9UfH5v/3idN9apn7pwfPDL/APUKJL+tx0rKc15JSLTPxhf8R8rXoxmiDy83x8mXmxe2fn9+c5ku+znpKfTHHFebRBpcvOW21MPcMNlZGp5ej8ztlxpfJM7v4bkWZL720lMZhPtZzTueSk9dnwcdWh5F80dZyl2O/0qbdGOGYcmZgoMUHWlJID0sdLhUjboEW64/OXY51idO9arHXuOe2fDehSMuyeHSO00Ox2WK20hd7nnvsMAPHaCOdm721lMToy+8/eccOU+BLSfyqKPJFdx5tSPmSzqVy+HvOOTmNeeLr25fxF9yi46ikypeFplqOxWH2r6EvBXSfR7W0zpVCRvJFW8tdjv0yPx5viqztr0eRzwRaeKAlwQAaLhIjUzzDh2i0v/lfatvRYDF7v1qccyzmd7TavNNSrGX3+2HzO1H6+eKc09APy/AxWhE0WM7MF3vOouEfv7T76/HFvpTEr5BiX7Tn0Yo05nZ+bGTcc+eFS7ufoDk8jxpqORyHhnO6mI7zqBY5tkqM5Iu2lnsc+3X+EJ1TKIw5wURZ/px+/4+XgxYeaJERigli1ExL/CGa0Z8hEqfLa5lfNd69eKClJVwscotHZV/cV9R3PNsYWdKLo1PzZcHGiP3INzVfMuKn5Yv6PLJI+SK0VWiZSeXn3L4tsAPIs0HmUSstM5VxWGg1p+voM49qScb2kr5oa7mzsROxTbuCTsVN+4R5uEwFw+AYYyEjaMR/PPnHewAtPNDCQBPZ6tjwHoyIURst3v02Vq9T/RkiC5dLapn7X68JF2uEoi/zIom5xqIZI9MWi9vEs42RVM/Gype5bT7GbtrVfAmvZfJG0RfdeST50uPZmJ+f/riD606dRx20lPTntXWY00doPY9qSc0/4oq+ENpa7mnsBOnhNu0KOnU37Umebp+m8fZ/NSUHaOGBFh5o4YEWHmjhgRYeaGE37fAlArTwQAsPtPBAC4+2lpHGPhHbtCvoHGbT/v37v6ah3m7f3v/AtmsCLTzQwgMtPNDCAy080MIDLTPhph2+8EALD7TwQAsPtPBoaxlp7CvMpl1LZ2LTbjSYr2Fe4QAAAADApeDfaQcAAAAUWH5n3XyN94foAAAAAADOB5t2AAAAVwabdgAAAAAMDTbtAAAArgw27QAAAAAYGmzaAQAAXBn8TjsAAAAAhgabdgAAAKcx9u+0n/A57ZpACw+08EALTw8t0j0z+rOfYex93motNVpePyzHfA7ruXctRKjnw4utrZZaLYSrh/v84lLuRYvz2c1+LgSf6Uz0jlFUy4Rz3ZfPb/ae1dBACxu/GqR7xtrOmNPavkj9eeN/uD0y16wMkrsqvmR7NtHCl1q6+FIJtPBoa7m3sUc/8q0/ipv2F7ePkwlrMTHGuAVXE2jhgRYeaOHpoYUWHts9zAZ83cBk9EeLk+n6j9PiZT2vmoNaVujcow+i56CF2lxd5/rin9uCe9JCvtM5jqb1uvDYUWq1+J69+uW1kNe5tNEiz7FcUlpy+7O6ubZcan2RrqtF6C/0wdR72x+n7yi1vpTEL5dUf1Kb27c91z1Hix6+1CLFVpuRfNHWcodjv8Sm3SuuywRxzdEEWnighQdaeDS0UB+2aCb7o4IbW7g0oEjLhmlr/c7GXWqZ4/L17fLMCc5tQrYWmyvLdT0YVcsKN086zR2XXC2BZz//9sbxrBGVWqQ5Vo2rpaA/09ZzTq9k5AZ7XS2ROHhjdefOuLnbNl+kcXJt87GudTeXrr4chI2tEiP5oq3lHsd+hU27GfxSbB8//Jsx5t3071pIFIEWHmjhgRYeDS1uH6n+6Nj8/z6LtxItG302ZPesxRyfHoT2vJZka6FX0KfvH+kc0jKx9+sYo2rZiC/wrY4eP6qYqyX07Mu/Xkfyup5aLfE5Vo/bR35//ef0Rrqu8tfVwvQXbKxMf8GmfcTcbZsvUhzibUYH+dIsPuX09eUYbXO3jJF80dZyl2O/0qbdGOGYcmZgoMUHWnighae7Fm6BFuuPzl2OyYuaSkq02Guc89xjh7lbLcui2jlOD0X7qvZhSrSYH3tzPWq8+RlYy0Z6nhjd7LWVFGgJPaM/RLd65l1byQEtdKynltz+7HnuscPU5kv0ulr4/uacnHwxc+ZldK7M5zXUM0y+SHHg2uZjro6mdbeAvr4coHnuljGSL9pa7nLsl/nxeG9hIhWezkALD7TwQAtPRy2meIYP0Wh/87/UtqPB4qRMi3OO2Yy1fbfnrrUYDe75tDk9I1+m/5OWIDfo4XwJLStMnoQ0zJtiLYFnr378z2m9mRzVkuVdJsX5Ys/RmtMr8THL19WS4fGupoRtY+Ruy3yR78W07TxqV3eL6epLHX1yt5CRfNHWco9jv84fonMKqDEnmCjLn9Pv//Fy0MIDLTzQwtNHS/whmtGfIVJolbW4r9buuKKWcBHNLarVfAly5FJaLOnFkcmb8IUvNS2+Z69+/fv+Hidp4eaYXr7M6M1pC58vyesqtMyk8nNu3xbYPiPlbqt8mZF8Ydo61d06evpSTr/cLWUkX7S13NnYidimXUGn4qZ9whSLqZAaHGMsZASN+I8n/3gPoIUHWnighae1Fu9+G+siJNWfIbKo0dRi2mL6Ji6qZV4kMddY1H1hrrE8Wy20MIm1zXNnPc79pIqaFv9a9iPfTtKyix+hni+MBouWL6kxEKVaCvLT62fg3G2SL2J/spbmdfcIzX2ppEvuHmAUXwhtLfc0doL0cJt2BZ26m/YkT7dP03j7v5qSA7TwQAsPtPBACw+08EALD7TQ77Tvj8MXHmjhgRYeaOGBFh5tLSONfSK2aVfQOcym/fv3f01Dvd2+vf+BbdcEWnighQdaeKCFB1p4oIUHWmbCTTt84YEWHmjhgRYeaOHR1jLS2FeYTbuWzsSm3WgwX8O8wgEAAACAS8G/0w4AAAAosPzOuvka7w/RAQAAAACcDzbtAAAArgw27QAAAAAYGmzaAQAAXBls2gEAAAAwNNi0AwAAuDL4nXYAAAAADA027QAAAE5j7N9pP+Fz2jWBFh5oibB9BuzuM061efYxErx+/bD0RTzcHqNtEx9e+NfWII1PaoMWvm0kLQv2M4ybzOsaLaEnC4f1iGMX5liGZ8U00MJ+TnsN9+JLrG20fBHbahHu6Y0/eAaE7dxntZcyUoyq87NHjCoRdWoDX1i0tdzb2KMf+dYfxU37i9vHyYR1YhhjmIKrArTwQAsPaaHJOxf4VdMpPPcYCV6H96eF0booo+vcvu197Pc1kIbtnmZz5/UXGzu0jK9lweTQw+1jk3l9UMuKhi90fzonHLd0XS1ttPz825sTtZTEL5eUlnvIF6mtFuGeoQ/eM6BVvrqMFCPJ65TO1jGqpcSz3sAXHm0tdzj2S2zaueLqmqMJtPBAS4IBivtlYsR4Tf1578zahy79fz7/69ulngXamkD3tAVcHDu0jK+FsPnD5FoLirRsmLYWP4Hg4mpZyRg3e91BKrW8+vXv52kpiF81rpaC/sbIlx5zKBKH6DPA/X8nhohRhtfF8VOiwDM94IuHtpZ7HPsVNu1m8EvRevzwb8aYd9O/6wJOEWjhgZYU5xf368QosmBzFiKm/2CRZnRMRdbqaok73pyxQ8vYWujY/P8+87rUl5k+Gw+3/430uPnrjlGrxbzTfpKW/PjV4/aR398o+dJjDjH3lJ4B9K7Y5NOjOTZ5NtEyPsQYMUp7XR4/HfI90wS+uGhrucuxX2nTboxwTDkzMNDiAy0pxinuzz9GvNemz3VB9tJZDM3nuzqo4NpXTA/DLRajY4eW4bXQucuxWK4dosiX7Tp7nnvsMIGWjcS4o9cd4ICWL5//fpqW3PhVE2i5v3zpMIci9zRj5p4B5kdZXY8ab5aHiVF6rlTNMQVyPdMFvrhoa7nLsV/mx+O9gnriRIEWHmhJMICGy8Qo417u7xvtfveIFmxttJhCHi6CpLFDy+Ba5n+pbUeDFxGKfbHnGH9aviMX0bLCaFiQr6vjqJZfG/71+GItOfGrhNVyZ/nS0o+NjHu6NYX+H8xfWnA/txhJvtTHT4mO86ge+OKhreUex36dP0TnFC9jTlBclj+n3//j5aCFB1pkhGKCGDXWkircc/taXMPFEbdYqtASXwQJY4eW8bV4RHJNWYv76v6Oplos/LiT152khf3INzUtGbl00XxJtlVomZH6I+b26AJ7gPrSOkYzvC+H4letpZQ+8+gY8MVHW8udjZ2IbdoVdCpu2idMEV3e0XCNsZARNOI/nvzjPYAWHmhhoIlsdWx4RR4xaqRF8np+uPrHNuZFS7y9WIs3Nua+wtihxR4fV8tGZNGmqcW0xfRNNNUizLHUGIiTtHz5/LS12Xtradldy8TqivmS8owo1SLeU34GhOPYtd9zjArmitfWJUYHkDwj1LTAlyjaWu5p7ATp4TbtCjp1N+1Jnm6fpvH2fzUlB2jhgRYeaOGBFh5o4YEWHmhh32mHLxGghQdaeKCFB1p4tLWMNPaJ2KZdQecwm/bv3/81DfV2+/b+B7ZdE2jhgRYeaOGBFh5o4YEWHmiZCTft8IUHWnighQdaeKCFR1vLSGNfYTbtWjoTm3ajwXwN8woHAAAAAC4F/047AAAAoMDyO+vma7w/RAcAAAAAcD7YtAMAALgy2LQDAAAAYGiwaQcAAHBlsGkHAAAAwNBg0w4AAODK4HfaAQAAADA02LQDAAA4jbF/p/2Ez2nXBFp4oCXC9vmw3ud4nsGzj5Hg9euHpS/i4fYYbZv48MK/tgZxfILOHr5I94y1hZ4sHM7hGi2EdoykNsLV8+fL23duWw1NfAnyuhZx7PHcffxgr+Guq6RSi3vdl89vztUitlUiaYm1nTGntWud1F9srpzhi3aMDsbhu7d/a6TjAF3ypZYOc7qWkXzR1nJvY49+5Ft/FDftL24fJxPWiWGMabQ4KQZaeKCFh7TQ5J0L/KrpFJ57jASvw/vTwmjdaNF1bt/2Pvb7GkjDdk+z4PH6i+VED19SWnL70/AlpoXaXF1nagnPbUGlljBeXl7XktISy12fNh7VavGv+/m3Nydqyfcsn5SWSL7ssNq4tlyO+JKrMxehv6K5ouGLZowEX0SdC8arh9vHZvlbQ4lnvZH81GY0XzS13OHYL7FpD4qrKSquOZpACw+0JBiguF8mRozX1J/3zqx96NL/5/O/vl3qWaCtCXTPXQGP6OwdI1dLQX+mrcW72y7ZWpRjJGpxc6cTuVqoLZrXjXC1rKTrWfd8WUlrefXr35nrDlKsJa2zGlcL/X+UOb3CjL1AZzmR/jLnSndfTotRRg7u4md96pi/OXTNl1pO9oQYyRdtLfc49its2s3gl6JlfvxuMubd9O+6gFMEWnigJcX5xf06MYos2JyFiOk/WLAZHVORtbpa4o53Y69TI0ZuH/n99dmolmrRipGohV5Bn75/pHNIy0TL+BDZWjLy+ihu/xuxekZ5ssRo0mkXMK0o07Jh3mnfXXeMci1pnbW4Wtz/nz2nN7RrHeN19lwZo9bNtNaSzsEwfqRv1tUvf3Pomy+1nOsJMZIv2lrucuxX2rQbIxxTzgwMtPhAS4pxivvzjxHvtelz3WS9dBZD8/muDiq4zTYcwWJxY6+ze4y4hWtGf/Y899hhirToxkjUYn7szfWo8cK6MEamnc3rBhTk7o7otZXUapmu+/L57+10EFVaMjyrIdCSyheLPc89dpgCX3J11sF7nTNXNHw5L0bpueLFj75f+++Uv5n0zZdazvWEGMkXbS13OfbL/Hi8t0g6caJACw+0JBhAw2VilHEv9/eNdr97NL9b2EKLKeTsIpZgdHb0hdWS05/xp+W7PRVatGOU0hK8YEAP51NjZNn5VE9x7u5o92JGrRZ73a8N/3p8vS85npVRnS9ac3qF0VCS18Vk3IubK1q+nBQjyZe9zvlc0rmj5QumuXTNl1oG0DCSL9pa7nHs1/lDdE7xMuYERXD5c/r9P14OWnigRUYoJohRYy2pwj23r8U1XBxxi6UKLfIiluB09vElriXdn/vK8Q4tLeoxknwJ4naqFpcgry1quRtAOsPFvaIW9zr2I9/UfRHalPNFb05buLFn5HWFlplUfs7t4VwZotYttNYyw/uSjh8R8bRaSyk986UWIc8u6Yu2ljsbOxHbtCvoVNy0T5iF0VTEDI4xFjKCRvzHk3+8B9DCAy0MNJGtjg2vyCNGjbRIXs8PV//YxrxoibcXa/HGFt43kROtfRG1hO1Bf6aN0WBR1KIbo7Cd84W5xqKmRc5rg1ruBm3cu3FaWoLrvnx+2trsvc/yxWtbUM9drTmdGLukkyjVIvaXmCuqvoTtnWNUMFe8Nu8ekQ1qsZYDSJ4Ralo6zOkjDOPLhLaWexo7QXq4TbuCTt1Ne5Kn26dpvP1fTckBWnighQdaeKCFB1p4oIUHWth32uFLBGjhgRYeaOGBFh5tLSONfSK2aVfQOcym/fv3f01Dvd2+vf+BbdcEWnighQdaeKCFB1p4oIUHWmbCTTt84YEWHmjhgRYeaOHR1jLS2FeYTbuWzsSm3WgwX8O8wgEAAACAS8G/0w4AAAAosPzOuvka7w/RAQAAAACcDzbtAAAArgw27QAAAAAYGmzaAQAAXBls2gEAAAAwNNi0AwAAuDL4nXYAAAAADA027QAAAE5j7N9pP+Fz2jWBFh5o4YEWni5ats/i9T4z9fXD0o/Pek4PLeI9IzqT11Ui3VNoe/xgjzPX1VKpRfSsGuGeXs483B5z22qp9mXGfo59E29qtKTmWC1VvmxxJczntH94sV1XS5WWjdNjZOgwj6q0+DEytIhRzZweKncXXE1/vrx957ZVIfgS09LLl1pSnmkCLTzaWu5t7NGPfOuP4qb9xe3jZMJaKIwxjRZKxUALD7TwQAtPDy10TyqU8+JkvTeLPZf+T+dvfZuF9eFFknRPSWcPX1Ja8vrT8SWmRfKsFuGeoQ+0eLU6pbZqDsbIaHi4fWziTZt82fzl2nKp1eLHtM077c8hRjYmvj/HaBOjNgjjC2Mizlt7H64tl1pfwnNbIMVd0hnSwpdaZM90gRYebS13OPZLbNqD4mqKimuOJtDCAy080MLTVUt6MWj6i72rQ9paF372noxOjRi5Wgr6Ez2rpVhLOrblROLgjZUeyMtiVWpbjx2kyBfbfw9vJoq0bJybL74XXX48vsiX0WLUSQeRraWjhtI5vR6bOTd3O9STlQzPXZ0BXXzJRfRMGWjh0dZyj2O/wqbdDH4pFObHNSdj3k3/fn0b678f0MIDLTzQwtNXS2phIi+KXG2t4O+516kRI7ePdH/k1XScmNrsA6kVZVqIHgv9yALfWbgabTZnpLbl2FFKfKFj8/97eFOmZaPPxiNfy+yFyduJL5/fnKhlxBj10UHka/Fj1HYOMePLnrcn5y69Qzd9/2j0zd74sTtCOu6uNp+eLyakkXOJv6YX0MKjreUux36lTbsxwjHlzMBAiw+08EALT18t8sLE9s21hQu7JkTvudfZPUbcwjW3v9beVGlJLzrL4e9p9KyL5pfeglVqO0yJL3TucqyLN5X5Ys9zjx2mUgvx829vvGsPc/cx6jGPJg7EyJzbLEblc9o7Z41XI0p8MT9W63rUcrOciHug06WLLwWIngXn9gZaeLS13OXYL/Pj8V4R6/TAyQFaeKCFB1p4umoR7mUWRPwCyBTdZovGGfmejM6OvrBaivprt3is19LOj42Me0q/Kye1FVLmy/wvte348/hPRVTHSJhjtRzN3Ve/vG6m6VnESPCqlqMxaps3GePj5u0IuUsagtygxX+bWMV9YXVaOvhSTEku9QZaeLS13OPYr/OH6JyCYcwJisvy5/T7f7wctPBACw+08PTUEi/c7qugLuKChajQkrwnq7OPL3EtGf1ZqC3caKhrER7KHfLFbd8exhltp8QoMg5lLbE5Zjgpd3/9/WmA3CXGiJGY8yfFyORNgxjNCONz2sN5O0buBtq5DXNjX+I6Z1r7UkdGLkHLxbTc2diJ2KZdQafipn3CFK6pcBgcYyxkBI34jyf/eA+ghQdaeKCFp7kWKpr2fhvi4mc9LlxHlGoR75mj0x5v4EtqfNH+Ap3cO4NnaVk4FCPxnvPi1j9mkdoW1Hxx4RfkqlpMW0zfhJoWP0Zf/vX6xNx1OTtGHeZRtRY/Rk3qS/WcnjA6R8jd/bU7rS19ydLZ0JcjSJ4R0HI9Lfc0doL0cJt2BZ26m/YkT7dP03j7v5qSA7TwQAsPtPBACw+08EALD7Twfz0evvBACw+08EALD7TwaGsZaewTsU27gs5hNu3fv/9rGurt9u39D2y7JtDCAy080MIDLTzQwgMtPNAyE27a4QsPtPBACw+08EALj7aWkca+wmzatXQmNu1Gg/ka5hUOAAAAAFyKLp/TDgAAAOSw/M66+RrvD9EBAAAAAJwPNu0AAACuDDbtAAAAABgabNoBAABcGWzaAQAAADA02LQDAAC4MviddgAAAAAMDTbtAAAATmPs32k/4XPaNYEWHmjhgRaeLlq2z+Ldfbbt64elr4UPL/LaapHGJ45dGEMtB/v77u3f2ukRtDx+sMf3bZZhtLg5w33GdCm1WrRzd0GKg1aMLCktXz4/DaPldF8yriumUkvOfC9G1DJOrauOXzWJscfqWY98qQVaeK6s5d7GHv3It/4obtpf3D5OJqyFxhjzcHvcnacBtPBACw+08PTQQvekQjkvTtZ7r23u/e25qbZaSMN2T7P4WhdCUps0hloO9keLuen6j030SFp82LZBtEjn1lGrRTt3F6Q4aMcoQ8s//9Vi0/4cfKH8cL5vUncP+rLAXleMpGWkWtfGs3zksce9z9CpRo/crQW+8GhrucOxX2LTborXNiHMBHHN0QRaeKCFB1p4umrhFibzsa9vl5rl9S+1NYLuGXuYsG3cGBpR1B89iFq/iOAg+GJywnvXeBQtVsf+vGZkazkjd6U4aMcoT8s/mmzaA+7RlyA/ujwDinzZ2M/3Buy0EDEd2jGS2npp4e5n+3KPRZDG0Bvqu3fu1gJfZrS13OPYr7BpN4Nfirn5carJmHfTv+tCRRFo4YEWHmjh6aslvtAxfU2F1Pad23YUd7x5bZ0WjhMl/ZEnc0z66NlroQXkEocpJ+wDkBhGC72CPn3/SOcv7a3nUIkvhGbuSnHQjlGulh6b9nv0xT2PzunxDCjxJZXXRwm1zPAx0I6R1NZPC3O/gnomjaE3bt+9crcW+DKjreUux36lTbsxwjHlzMBAiw+08EALT18t3EJnPub2RUV1XiRKbQ2QXoWPtrVerC2U9EfnLp500SP5QrjtI2kxP/bm5mrBO1U5lGjRzl36PhYHqa0FB7Q037Qf0HKmL92fASW+hITXHiV6P0ZHic4apLGFbV21MPfLrWfSGBQYaf3iAV9WtLXc5dgv8+PxXlHpUFRzgRYeaOGBFp6uWph77X6/aH6Hx5wjta3H6jCFPPJAl9p6xKasv/l7itGOBptCWYvFLh5H0jL9f3lnyu2XHs6982Uj0OKd3zN3pTj8r7ffVWNUpoX+EN3cdr6WrU1by9Rfx7pbrMW5dsbJ611bGXstLuGYS3WWIWk57lkpTLwz6pnspxIjrV8W4EuAtpZ7HPt1/hCdU8yNOcFEWf6cfv+Pl4MWHmjhgRaenlqYYmk2N05/7vdSm72+QkvZYi1EePg01jKTethF2rtoWaCcYBeqZ2sJ+lfIFw9Xywm5uyHljHaMZC3sO+2X9KVP3T3uywQ337toSehQitEhzyq0zHD3C44FNSSps1pLKSOtX+ALj7aWOxs7Edu0K+hU3LRPmEJiX3V0jLGQETTiP5784z2AFh5o4YEWnuZaqGja+23Yxcj8kN0fT7UZSrV4YwvuK7UlxmBoqSWnP0Nk8dhTC7thJwbQElx7phbV3PXOjcRBajtJC7tpv6ov3rUN6m61loz53lTLQLXuSPyIUi2psQd6Ysd37USxlgN4ek5cv8CXONpa7mnsBOnhNu0KOnU37Umebp+m8fZ/NSUHaOGBFh5o4YEWHmjhgRYeaHn1478zx+ELD7TwQAsPtPBAC4+2lpHGPhHbtCvoHGbT/v37v6ah3m7f3v/AtmsCLTzQwgMtPNDCAy080MIDLTPhph2+8EALD7TwQAsPtPBoaxlp7CvMpl1LZ2LTbjSYr2Fe4QAAAADApeDfaQcAAAAUWH5n3XyN94foAAAAAADOB5t2AAAAVwabdgAAAAAMDTbtAAAArgw27QAAAAAYGmzaAQAAXBn8TjsAAAAAhgabdgAAAKcx9u+0n/A57ZpACw+0RJg/a5W07D5vVZtnH6O4148fbF9Mf68fnLaH26NzXT3puNvP2N61u3qin1deQqUvw8Rou2blwwvv2jruXIuXtxu7fComriWeE/q+5OQnzbEvn5nPaa/iOfgiXFeNdE+hTb3upscerclVxPvTr7sRcmpI8+dRJZq+pIAWHm0t9zb26Ee+9Udx0/7i9nEyYS0ixphWBb4UaOGBFh7SQpN3fnivmk7hucco32uzMLOLj7BvWqAcXphkaDH9PNw+Bu2etiZU+jJSjJbFr3R+Oc9BS4i9D9eWi6SFjm05cK4vkpaFZY79818tNu3PwRfpulqkewpt6nU3Y+yRmlxHvtf7GDnnqz+nre75e3ZencLZvrhAC4+2ljsc+yU27UExN0XENUcTaOGBlgTpB3d3LhOjzEWSfbeLtHjvfFHx3RYtx4hpsX2E7S37DqnwZZQYdZ0/96wlv62cjHFSjqwLk3N98bUQ2xz7R5NNu+XefSF6aJLuybSRLi9XNequ1BaryUdJ38+bt+TLic9pv4b0fB4VcrIvHtDCo63lHsd+hU27GfxSRMyPFE3GvJv+/fo21n8/oIUHWlK0XgiUc50YSYuyqS9i6s8WV1NsnUWt0dZ58UhjnscatNOrs5O2R6Nh1touPmW+DBWj5XzrSdsfg7tnLeE5Glo23Bw5x5cNX4s/x7Q37SP7MpO+rhzpnkzbCXVXaovW5MPE7ndG3U0R1JCuz6MyzvXFB1p4tLXc5divtGk3RjimnBkYaPGBlhStFwLlXCdGGV6zC8ZJi1mUvGy4+WG0UN/LmHft5keqXB9absTKfBktRi5zvPi2cp6HFhsv99gxEloETwhVX0It9L0zx1Q37SP7spKRZ8VI9+TbZi+U6q7UFuRLW28y7ufEyc7jPnVXZldDuj6PyjjTlxBo4dHWcpdjv8yPx3uFo3VRLQBaeKAlwQAaLhOjnHsJi4/Y7yJVEWqZv6ex7/jz5e275Z0N951UKvyn+DJ8jDQW+JbBtTTVYIlrMQuU1BxR8mWvZT7XnVv0h+jWOeZcW8e9+uISv64e6Z4Z/RlfetVdqW3+3s2Xlc75sqFVdwW4vKRj3Z5HhVxm/VLIlbXc49iv84fonGJizAmK+/Ln9Pt/vBy08ECLjFBMEKPGWjIKN/XHLsjma7fCu9BNS9gefM8tpNR8GTVG88Jx13ZhLUbD8ur+jsZasjamExq+5GmJvNN+aV+EPOuSu1IbMbfr1N08Lbv2LloW1OpuHL6GBNqbPo9Kucr6pZQra7mzsRPX2LRPmGIxFRWDY4yFjKDI/PHkH+8BtPBACwNNZKtjw3uAI0aNtEheB23eonlemPjnBzTV4sIs6DxfmGvUfJkYNEY7ncQltUyYGDGxsbTUEuSm16bti6jFJbJpv6QvwnX23j1z12vzffE0WNS0uMy6dsd7amHntG1XeE6b/iI1JMin474cQNsXCWjh0dZyT2MnSM8lNu1Jnm6fprj0fzUlB2jhgRYeaOGBFh5o4YEWHmh59eO/M8fhCw+08EALD7TwQAuPtpaRxj6BTft/uH3//q8pJLfbt/c/sO2aQAsPtPBACw+08EALD7TwQMtMuGmHLzzQwgMtPNDCAy082lpGGvvKuJt245X5GuYVDgAAAABcCv6ddgAAAECB5Xfrzdd4m3YAAAAAgPPBph0AAMCVwaYdAAAAAEODTTsAAIArg007AAAAAIYGm3YAAABXBpt2AAAAAAwNNu0AAACuDDbtAAAAABgabNoBAABcGWzaAQAAADA02LQDAAC4Mti0AwAAAGBosGkHAABwZbBpBwAAAMDQYNMOAADgymDTDgAAAIChwaYdAADAlcGmHQAAAABDg007AACAK4NNOwAAAACGBpt2AAAAVwabdgAAAAAMDTbtAAAArgw27QAAAAAYGmzaAQAAXBls2gEAAAAwNNi0AwAAuDLYtAMAAABgaLBpBwAAcGWwaQcAAADA0GDTDgAA4Mpg0w4AAACAocGmHQAAwJXBph0AAAAAQ4NNOwAAgOvyH27/PxZU7eastZgpAAAAAElFTkSuQmCC)\n",
        "\n",
        "Esta es la primera imagen, lo que parece una camiseta. (La etiqueta 0 que ha salido es la de la camiseta)"
      ]
    },
    {
      "cell_type": "code",
      "metadata": {
        "colab": {
          "base_uri": "https://localhost:8080/",
          "height": 265
        },
        "id": "d_39_b-39IAf",
        "outputId": "42a5ec08-ecf6-4685-813d-397445850c26"
      },
      "source": [
        "imagen = train_images[1]\n",
        "plt.imshow(imagen, cmap=plt.cm.binary)\n",
        "plt.show()"
      ],
      "execution_count": null,
      "outputs": [
        {
          "output_type": "display_data",
          "data": {
            "image/png": "[encoded data removed]",
            "text/plain": [
              "<Figure size 432x288 with 1 Axes>"
            ]
          },
          "metadata": {
            "needs_background": "light"
          }
        }
      ]
    },
    {
      "cell_type": "markdown",
      "metadata": {
        "id": "FWkehyB-_Siq"
      },
      "source": [
        "Esta es una imagen de la camiseta pintada con matliblob.\n",
        "\n",
        "Y a cada una de las imágenes que hemos importado tienen asignada una etiqueta que indica qué prenda de ropa es cada imagen:\n",
        "\n",
        "0.   Camiseta\n",
        "1.   Pantalón\n",
        "2.   Jersey\n",
        "3.   Vestido\n",
        "4.   Cazadora\n",
        "5.   Sandalia\n",
        "6.   Camisa\n",
        "7.   Zapatillas\n",
        "8.   Bolso\n",
        "9.   Bota"
      ]
    },
    {
      "cell_type": "code",
      "metadata": {
        "colab": {
          "base_uri": "https://localhost:8080/"
        },
        "id": "TyYerAnL_jd6",
        "outputId": "6a214ef1-69bc-4a33-cf78-9749e175c535"
      },
      "source": [
        "#Comprobamos las etiquetas de cada imagen.\n",
        "print(len(train_labels))\n",
        "print(train_labels)\n",
        "\n",
        "#También miramos la forma de los datos que tenemos\n",
        "print(test_images.shape) \n",
        "print(len(test_labels))"
      ],
      "execution_count": null,
      "outputs": [
        {
          "output_type": "stream",
          "name": "stdout",
          "text": [
            "60000\n",
            "[9 0 0 ... 3 0 5]\n",
            "(10000, 28, 28)\n",
            "10000\n"
          ]
        }
      ]
    },
    {
      "cell_type": "markdown",
      "metadata": {
        "id": "wY048bRWGthd"
      },
      "source": [
        "Ahora normalizamos los datos (las imágenes de las prendas) para que converja más rápido."
      ]
    },
    {
      "cell_type": "code",
      "metadata": {
        "colab": {
          "base_uri": "https://localhost:8080/"
        },
        "id": "5ksuHkafDo5Q",
        "outputId": "bc3cca78-1884-4a08-8127-30dbe3918dd3"
      },
      "source": [
        "# 5.- PREPARAMOS LOS DATOS DE IMAGEN CON ALGUNA TRANSFORMACIÓN. NORMALIZACION\n",
        "# Los tensores transformados tienen la misma cantidad de datos total que el \n",
        "# tensor inicial\n",
        "train_images = train_images.reshape((60000, 28 * 28))\n",
        "train_images, len(train_images), train_images.shape, train_images[1]\n"
      ],
      "execution_count": null,
      "outputs": [
        {
          "output_type": "execute_result",
          "data": {
            "text/plain": [
              "(array([[0, 0, 0, ..., 0, 0, 0],\n",
              "        [0, 0, 0, ..., 0, 0, 0],\n",
              "        [0, 0, 0, ..., 0, 0, 0],\n",
              "        ...,\n",
              "        [0, 0, 0, ..., 0, 0, 0],\n",
              "        [0, 0, 0, ..., 0, 0, 0],\n",
              "        [0, 0, 0, ..., 0, 0, 0]], dtype=uint8),\n",
              " 60000,\n",
              " (60000, 784),\n",
              " array([  0,   0,   0,   0,   0,   1,   0,   0,   0,   0,  41, 188, 103,\n",
              "         54,  48,  43,  87, 168, 133,  16,   0,   0,   0,   0,   0,   0,\n",
              "          0,   0,   0,   0,   0,   1,   0,   0,   0,  49, 136, 219, 216,\n",
              "        228, 236, 255, 255, 255, 255, 217, 215, 254, 231, 160,  45,   0,\n",
              "          0,   0,   0,   0,   0,   0,   0,   0,   0,  14, 176, 222, 224,\n",
              "        212, 203, 198, 196, 200, 215, 204, 202, 201, 201, 201, 209, 218,\n",
              "        224, 164,   0,   0,   0,   0,   0,   0,   0,   0,   0, 188, 219,\n",
              "        200, 198, 202, 198, 199, 199, 201, 196, 198, 198, 200, 200, 200,\n",
              "        200, 201, 200, 225,  41,   0,   0,   0,   0,   0,   0,   0,  51,\n",
              "        219, 199, 203, 203, 212, 238, 248, 250, 245, 249, 246, 247, 252,\n",
              "        248, 235, 207, 203, 203, 222, 140,   0,   0,   0,   0,   0,   0,\n",
              "          0, 116, 226, 206, 204, 207, 204, 101,  75,  47,  73,  48,  50,\n",
              "         45,  51,  63, 113, 222, 202, 206, 220, 224,   0,   0,   0,   0,\n",
              "          0,   0,   0, 200, 222, 209, 203, 215, 200,   0,  70,  98,   0,\n",
              "        103,  59,  68,  71,  49,   0, 219, 206, 214, 210, 250,  38,   0,\n",
              "          0,   0,   0,   0,   0, 247, 218, 212, 210, 215, 214,   0, 254,\n",
              "        243, 139, 255, 174, 251, 255, 205,   0, 215, 217, 214, 208, 220,\n",
              "         95,   0,   0,   0,   0,   0,  45, 226, 214, 214, 215, 224, 205,\n",
              "          0,  42,  35,  60,  16,  17,  12,  13,  70,   0, 189, 216, 212,\n",
              "        206, 212, 156,   0,   0,   0,   0,   0, 164, 235, 214, 211, 220,\n",
              "        216, 201,  52,  71,  89,  94,  83,  78,  70,  76,  92,  87, 206,\n",
              "        207, 222, 213, 219, 208,   0,   0,   0,   0,   0, 106, 187, 223,\n",
              "        237, 248, 211, 198, 252, 250, 248, 245, 248, 252, 253, 250, 252,\n",
              "        239, 201, 212, 225, 215, 193, 113,   0,   0,   0,   0,   0,   0,\n",
              "          0,  17,  54, 159, 222, 193, 208, 192, 197, 200, 200, 200, 200,\n",
              "        201, 203, 195, 210, 165,   0,   0,   0,   0,   0,   0,   0,   0,\n",
              "          0,   0,   0,   0,   0,  47, 225, 192, 214, 203, 206, 204, 204,\n",
              "        205, 206, 204, 212, 197, 218, 107,   0,   0,   0,   0,   0,   0,\n",
              "          0,   0,   0,   0,   1,   6,   0,  46, 212, 195, 212, 202, 206,\n",
              "        205, 204, 205, 206, 204, 212, 200, 218,  91,   0,   3,   1,   0,\n",
              "          0,   0,   0,   0,   0,   0,   0,   1,   0,  11, 197, 199, 205,\n",
              "        202, 205, 206, 204, 205, 207, 204, 205, 205, 218,  77,   0,   5,\n",
              "          0,   0,   0,   0,   0,   0,   0,   0,   0,   3,   0,   2, 191,\n",
              "        198, 201, 205, 206, 205, 205, 206, 209, 206, 199, 209, 219,  74,\n",
              "          0,   5,   0,   0,   0,   0,   0,   0,   0,   0,   0,   2,   0,\n",
              "          0, 188, 197, 200, 207, 207, 204, 207, 207, 210, 208, 198, 207,\n",
              "        221,  72,   0,   4,   0,   0,   0,   0,   0,   0,   0,   0,   0,\n",
              "          2,   0,   0, 215, 198, 203, 206, 208, 205, 207, 207, 210, 208,\n",
              "        200, 202, 222,  75,   0,   4,   0,   0,   0,   0,   0,   0,   0,\n",
              "          0,   0,   1,   0,   0, 212, 198, 209, 206, 209, 206, 208, 207,\n",
              "        211, 206, 205, 198, 221,  80,   0,   3,   0,   0,   0,   0,   0,\n",
              "          0,   0,   0,   0,   1,   0,   0, 204, 201, 205, 208, 207, 205,\n",
              "        211, 205, 210, 210, 209, 195, 221,  96,   0,   3,   0,   0,   0,\n",
              "          0,   0,   0,   0,   0,   0,   1,   0,   0, 202, 201, 205, 209,\n",
              "        207, 205, 213, 206, 210, 209, 210, 194, 217, 105,   0,   2,   0,\n",
              "          0,   0,   0,   0,   0,   0,   0,   0,   1,   0,   0, 204, 204,\n",
              "        205, 208, 207, 205, 215, 207, 210, 208, 211, 193, 213, 115,   0,\n",
              "          2,   0,   0,   0,   0,   0,   0,   0,   0,   0,   0,   0,   0,\n",
              "        204, 207, 207, 208, 206, 206, 215, 210, 210, 207, 212, 195, 210,\n",
              "        118,   0,   2,   0,   0,   0,   0,   0,   0,   0,   0,   0,   1,\n",
              "          0,   0, 198, 208, 208, 208, 204, 207, 212, 212, 210, 207, 211,\n",
              "        196, 207, 121,   0,   1,   0,   0,   0,   0,   0,   0,   0,   0,\n",
              "          0,   1,   0,   0, 198, 210, 207, 208, 206, 209, 213, 212, 211,\n",
              "        207, 210, 197, 207, 124,   0,   1,   0,   0,   0,   0,   0,   0,\n",
              "          0,   0,   0,   0,   0,   0, 172, 210, 203, 201, 199, 204, 207,\n",
              "        205, 204, 201, 205, 197, 206, 127,   0,   0,   0,   0,   0,   0,\n",
              "          0,   0,   0,   0,   0,   0,   0,   0, 188, 221, 214, 234, 236,\n",
              "        238, 244, 244, 244, 240, 243, 214, 224, 162,   0,   2,   0,   0,\n",
              "          0,   0,   0,   0,   0,   0,   0,   1,   0,   0, 139, 146, 130,\n",
              "        135, 135, 137, 125, 124, 125, 121, 119, 114, 130,  76,   0,   0,\n",
              "          0,   0,   0,   0], dtype=uint8))"
            ]
          },
          "metadata": {},
          "execution_count": 587
        }
      ]
    },
    {
      "cell_type": "code",
      "metadata": {
        "colab": {
          "base_uri": "https://localhost:8080/"
        },
        "id": "ymQvoyOVF60B",
        "outputId": "604381e6-67d1-47fa-bc07-e085c7189cca"
      },
      "source": [
        "train_images = train_images.astype('float32') / 255\n",
        "train_images, len(train_images), train_images.shape, train_images[1]"
      ],
      "execution_count": null,
      "outputs": [
        {
          "output_type": "execute_result",
          "data": {
            "text/plain": [
              "(array([[0., 0., 0., ..., 0., 0., 0.],\n",
              "        [0., 0., 0., ..., 0., 0., 0.],\n",
              "        [0., 0., 0., ..., 0., 0., 0.],\n",
              "        ...,\n",
              "        [0., 0., 0., ..., 0., 0., 0.],\n",
              "        [0., 0., 0., ..., 0., 0., 0.],\n",
              "        [0., 0., 0., ..., 0., 0., 0.]], dtype=float32),\n",
              " 60000,\n",
              " (60000, 784),\n",
              " array([0.        , 0.        , 0.        , 0.        , 0.        ,\n",
              "        0.00392157, 0.        , 0.        , 0.        , 0.        ,\n",
              "        0.16078432, 0.7372549 , 0.40392157, 0.21176471, 0.1882353 ,\n",
              "        0.16862746, 0.34117648, 0.65882355, 0.52156866, 0.0627451 ,\n",
              "        0.        , 0.        , 0.        , 0.        , 0.        ,\n",
              "        0.        , 0.        , 0.        , 0.        , 0.        ,\n",
              "        0.        , 0.00392157, 0.        , 0.        , 0.        ,\n",
              "        0.19215687, 0.53333336, 0.85882354, 0.84705883, 0.89411765,\n",
              "        0.9254902 , 1.        , 1.        , 1.        , 1.        ,\n",
              "        0.8509804 , 0.84313726, 0.99607843, 0.90588236, 0.627451  ,\n",
              "        0.1764706 , 0.        , 0.        , 0.        , 0.        ,\n",
              "        0.        , 0.        , 0.        , 0.        , 0.        ,\n",
              "        0.        , 0.05490196, 0.6901961 , 0.87058824, 0.8784314 ,\n",
              "        0.83137256, 0.79607844, 0.7764706 , 0.76862746, 0.78431374,\n",
              "        0.84313726, 0.8       , 0.7921569 , 0.7882353 , 0.7882353 ,\n",
              "        0.7882353 , 0.81960785, 0.85490197, 0.8784314 , 0.6431373 ,\n",
              "        0.        , 0.        , 0.        , 0.        , 0.        ,\n",
              "        0.        , 0.        , 0.        , 0.        , 0.7372549 ,\n",
              "        0.85882354, 0.78431374, 0.7764706 , 0.7921569 , 0.7764706 ,\n",
              "        0.78039217, 0.78039217, 0.7882353 , 0.76862746, 0.7764706 ,\n",
              "        0.7764706 , 0.78431374, 0.78431374, 0.78431374, 0.78431374,\n",
              "        0.7882353 , 0.78431374, 0.88235295, 0.16078432, 0.        ,\n",
              "        0.        , 0.        , 0.        , 0.        , 0.        ,\n",
              "        0.        , 0.2       , 0.85882354, 0.78039217, 0.79607844,\n",
              "        0.79607844, 0.83137256, 0.93333334, 0.972549  , 0.98039216,\n",
              "        0.9607843 , 0.9764706 , 0.9647059 , 0.96862745, 0.9882353 ,\n",
              "        0.972549  , 0.92156863, 0.8117647 , 0.79607844, 0.79607844,\n",
              "        0.87058824, 0.54901963, 0.        , 0.        , 0.        ,\n",
              "        0.        , 0.        , 0.        , 0.        , 0.45490196,\n",
              "        0.8862745 , 0.80784315, 0.8       , 0.8117647 , 0.8       ,\n",
              "        0.39607844, 0.29411766, 0.18431373, 0.28627452, 0.1882353 ,\n",
              "        0.19607843, 0.1764706 , 0.2       , 0.24705882, 0.44313726,\n",
              "        0.87058824, 0.7921569 , 0.80784315, 0.8627451 , 0.8784314 ,\n",
              "        0.        , 0.        , 0.        , 0.        , 0.        ,\n",
              "        0.        , 0.        , 0.78431374, 0.87058824, 0.81960785,\n",
              "        0.79607844, 0.84313726, 0.78431374, 0.        , 0.27450982,\n",
              "        0.38431373, 0.        , 0.40392157, 0.23137255, 0.26666668,\n",
              "        0.2784314 , 0.19215687, 0.        , 0.85882354, 0.80784315,\n",
              "        0.8392157 , 0.8235294 , 0.98039216, 0.14901961, 0.        ,\n",
              "        0.        , 0.        , 0.        , 0.        , 0.        ,\n",
              "        0.96862745, 0.85490197, 0.83137256, 0.8235294 , 0.84313726,\n",
              "        0.8392157 , 0.        , 0.99607843, 0.9529412 , 0.54509807,\n",
              "        1.        , 0.68235296, 0.9843137 , 1.        , 0.8039216 ,\n",
              "        0.        , 0.84313726, 0.8509804 , 0.8392157 , 0.8156863 ,\n",
              "        0.8627451 , 0.37254903, 0.        , 0.        , 0.        ,\n",
              "        0.        , 0.        , 0.1764706 , 0.8862745 , 0.8392157 ,\n",
              "        0.8392157 , 0.84313726, 0.8784314 , 0.8039216 , 0.        ,\n",
              "        0.16470589, 0.13725491, 0.23529412, 0.0627451 , 0.06666667,\n",
              "        0.04705882, 0.05098039, 0.27450982, 0.        , 0.7411765 ,\n",
              "        0.84705883, 0.83137256, 0.80784315, 0.83137256, 0.6117647 ,\n",
              "        0.        , 0.        , 0.        , 0.        , 0.        ,\n",
              "        0.6431373 , 0.92156863, 0.8392157 , 0.827451  , 0.8627451 ,\n",
              "        0.84705883, 0.7882353 , 0.20392157, 0.2784314 , 0.34901962,\n",
              "        0.36862746, 0.3254902 , 0.30588236, 0.27450982, 0.29803923,\n",
              "        0.36078432, 0.34117648, 0.80784315, 0.8117647 , 0.87058824,\n",
              "        0.8352941 , 0.85882354, 0.8156863 , 0.        , 0.        ,\n",
              "        0.        , 0.        , 0.        , 0.41568628, 0.73333335,\n",
              "        0.8745098 , 0.92941177, 0.972549  , 0.827451  , 0.7764706 ,\n",
              "        0.9882353 , 0.98039216, 0.972549  , 0.9607843 , 0.972549  ,\n",
              "        0.9882353 , 0.99215686, 0.98039216, 0.9882353 , 0.9372549 ,\n",
              "        0.7882353 , 0.83137256, 0.88235295, 0.84313726, 0.75686276,\n",
              "        0.44313726, 0.        , 0.        , 0.        , 0.        ,\n",
              "        0.        , 0.        , 0.        , 0.06666667, 0.21176471,\n",
              "        0.62352943, 0.87058824, 0.75686276, 0.8156863 , 0.7529412 ,\n",
              "        0.77254903, 0.78431374, 0.78431374, 0.78431374, 0.78431374,\n",
              "        0.7882353 , 0.79607844, 0.7647059 , 0.8235294 , 0.64705884,\n",
              "        0.        , 0.        , 0.        , 0.        , 0.        ,\n",
              "        0.        , 0.        , 0.        , 0.        , 0.        ,\n",
              "        0.        , 0.        , 0.        , 0.18431373, 0.88235295,\n",
              "        0.7529412 , 0.8392157 , 0.79607844, 0.80784315, 0.8       ,\n",
              "        0.8       , 0.8039216 , 0.80784315, 0.8       , 0.83137256,\n",
              "        0.77254903, 0.85490197, 0.41960785, 0.        , 0.        ,\n",
              "        0.        , 0.        , 0.        , 0.        , 0.        ,\n",
              "        0.        , 0.        , 0.        , 0.00392157, 0.02352941,\n",
              "        0.        , 0.18039216, 0.83137256, 0.7647059 , 0.83137256,\n",
              "        0.7921569 , 0.80784315, 0.8039216 , 0.8       , 0.8039216 ,\n",
              "        0.80784315, 0.8       , 0.83137256, 0.78431374, 0.85490197,\n",
              "        0.35686275, 0.        , 0.01176471, 0.00392157, 0.        ,\n",
              "        0.        , 0.        , 0.        , 0.        , 0.        ,\n",
              "        0.        , 0.        , 0.00392157, 0.        , 0.04313726,\n",
              "        0.77254903, 0.78039217, 0.8039216 , 0.7921569 , 0.8039216 ,\n",
              "        0.80784315, 0.8       , 0.8039216 , 0.8117647 , 0.8       ,\n",
              "        0.8039216 , 0.8039216 , 0.85490197, 0.3019608 , 0.        ,\n",
              "        0.01960784, 0.        , 0.        , 0.        , 0.        ,\n",
              "        0.        , 0.        , 0.        , 0.        , 0.        ,\n",
              "        0.01176471, 0.        , 0.00784314, 0.7490196 , 0.7764706 ,\n",
              "        0.7882353 , 0.8039216 , 0.80784315, 0.8039216 , 0.8039216 ,\n",
              "        0.80784315, 0.81960785, 0.80784315, 0.78039217, 0.81960785,\n",
              "        0.85882354, 0.2901961 , 0.        , 0.01960784, 0.        ,\n",
              "        0.        , 0.        , 0.        , 0.        , 0.        ,\n",
              "        0.        , 0.        , 0.        , 0.00784314, 0.        ,\n",
              "        0.        , 0.7372549 , 0.77254903, 0.78431374, 0.8117647 ,\n",
              "        0.8117647 , 0.8       , 0.8117647 , 0.8117647 , 0.8235294 ,\n",
              "        0.8156863 , 0.7764706 , 0.8117647 , 0.8666667 , 0.28235295,\n",
              "        0.        , 0.01568628, 0.        , 0.        , 0.        ,\n",
              "        0.        , 0.        , 0.        , 0.        , 0.        ,\n",
              "        0.        , 0.00784314, 0.        , 0.        , 0.84313726,\n",
              "        0.7764706 , 0.79607844, 0.80784315, 0.8156863 , 0.8039216 ,\n",
              "        0.8117647 , 0.8117647 , 0.8235294 , 0.8156863 , 0.78431374,\n",
              "        0.7921569 , 0.87058824, 0.29411766, 0.        , 0.01568628,\n",
              "        0.        , 0.        , 0.        , 0.        , 0.        ,\n",
              "        0.        , 0.        , 0.        , 0.        , 0.00392157,\n",
              "        0.        , 0.        , 0.83137256, 0.7764706 , 0.81960785,\n",
              "        0.80784315, 0.81960785, 0.80784315, 0.8156863 , 0.8117647 ,\n",
              "        0.827451  , 0.80784315, 0.8039216 , 0.7764706 , 0.8666667 ,\n",
              "        0.3137255 , 0.        , 0.01176471, 0.        , 0.        ,\n",
              "        0.        , 0.        , 0.        , 0.        , 0.        ,\n",
              "        0.        , 0.        , 0.00392157, 0.        , 0.        ,\n",
              "        0.8       , 0.7882353 , 0.8039216 , 0.8156863 , 0.8117647 ,\n",
              "        0.8039216 , 0.827451  , 0.8039216 , 0.8235294 , 0.8235294 ,\n",
              "        0.81960785, 0.7647059 , 0.8666667 , 0.3764706 , 0.        ,\n",
              "        0.01176471, 0.        , 0.        , 0.        , 0.        ,\n",
              "        0.        , 0.        , 0.        , 0.        , 0.        ,\n",
              "        0.00392157, 0.        , 0.        , 0.7921569 , 0.7882353 ,\n",
              "        0.8039216 , 0.81960785, 0.8117647 , 0.8039216 , 0.8352941 ,\n",
              "        0.80784315, 0.8235294 , 0.81960785, 0.8235294 , 0.7607843 ,\n",
              "        0.8509804 , 0.4117647 , 0.        , 0.00784314, 0.        ,\n",
              "        0.        , 0.        , 0.        , 0.        , 0.        ,\n",
              "        0.        , 0.        , 0.        , 0.00392157, 0.        ,\n",
              "        0.        , 0.8       , 0.8       , 0.8039216 , 0.8156863 ,\n",
              "        0.8117647 , 0.8039216 , 0.84313726, 0.8117647 , 0.8235294 ,\n",
              "        0.8156863 , 0.827451  , 0.75686276, 0.8352941 , 0.4509804 ,\n",
              "        0.        , 0.00784314, 0.        , 0.        , 0.        ,\n",
              "        0.        , 0.        , 0.        , 0.        , 0.        ,\n",
              "        0.        , 0.        , 0.        , 0.        , 0.8       ,\n",
              "        0.8117647 , 0.8117647 , 0.8156863 , 0.80784315, 0.80784315,\n",
              "        0.84313726, 0.8235294 , 0.8235294 , 0.8117647 , 0.83137256,\n",
              "        0.7647059 , 0.8235294 , 0.4627451 , 0.        , 0.00784314,\n",
              "        0.        , 0.        , 0.        , 0.        , 0.        ,\n",
              "        0.        , 0.        , 0.        , 0.        , 0.00392157,\n",
              "        0.        , 0.        , 0.7764706 , 0.8156863 , 0.8156863 ,\n",
              "        0.8156863 , 0.8       , 0.8117647 , 0.83137256, 0.83137256,\n",
              "        0.8235294 , 0.8117647 , 0.827451  , 0.76862746, 0.8117647 ,\n",
              "        0.4745098 , 0.        , 0.00392157, 0.        , 0.        ,\n",
              "        0.        , 0.        , 0.        , 0.        , 0.        ,\n",
              "        0.        , 0.        , 0.00392157, 0.        , 0.        ,\n",
              "        0.7764706 , 0.8235294 , 0.8117647 , 0.8156863 , 0.80784315,\n",
              "        0.81960785, 0.8352941 , 0.83137256, 0.827451  , 0.8117647 ,\n",
              "        0.8235294 , 0.77254903, 0.8117647 , 0.4862745 , 0.        ,\n",
              "        0.00392157, 0.        , 0.        , 0.        , 0.        ,\n",
              "        0.        , 0.        , 0.        , 0.        , 0.        ,\n",
              "        0.        , 0.        , 0.        , 0.6745098 , 0.8235294 ,\n",
              "        0.79607844, 0.7882353 , 0.78039217, 0.8       , 0.8117647 ,\n",
              "        0.8039216 , 0.8       , 0.7882353 , 0.8039216 , 0.77254903,\n",
              "        0.80784315, 0.49803922, 0.        , 0.        , 0.        ,\n",
              "        0.        , 0.        , 0.        , 0.        , 0.        ,\n",
              "        0.        , 0.        , 0.        , 0.        , 0.        ,\n",
              "        0.        , 0.7372549 , 0.8666667 , 0.8392157 , 0.91764706,\n",
              "        0.9254902 , 0.93333334, 0.95686275, 0.95686275, 0.95686275,\n",
              "        0.9411765 , 0.9529412 , 0.8392157 , 0.8784314 , 0.63529414,\n",
              "        0.        , 0.00784314, 0.        , 0.        , 0.        ,\n",
              "        0.        , 0.        , 0.        , 0.        , 0.        ,\n",
              "        0.        , 0.00392157, 0.        , 0.        , 0.54509807,\n",
              "        0.57254905, 0.50980395, 0.5294118 , 0.5294118 , 0.5372549 ,\n",
              "        0.49019608, 0.4862745 , 0.49019608, 0.4745098 , 0.46666667,\n",
              "        0.44705883, 0.50980395, 0.29803923, 0.        , 0.        ,\n",
              "        0.        , 0.        , 0.        , 0.        ], dtype=float32))"
            ]
          },
          "metadata": {},
          "execution_count": 588
        }
      ]
    },
    {
      "cell_type": "code",
      "metadata": {
        "id": "9vplBxrKGAad"
      },
      "source": [
        "test_images = test_images.reshape((10000, 28 * 28))\n",
        "test_images = test_images.astype('float32') / 255"
      ],
      "execution_count": null,
      "outputs": []
    },
    {
      "cell_type": "code",
      "metadata": {
        "colab": {
          "base_uri": "https://localhost:8080/"
        },
        "id": "IiS4I_6iGXeG",
        "outputId": "1acce601-e90b-4fb0-b30d-c14dd9baa440"
      },
      "source": [
        "train_labels = to_categorical(train_labels)\n",
        "test_labels = to_categorical(test_labels)\n",
        "train_labels[1] # Posición 0 a 9 donde solo el 0 tiene probabilidad 1, porque estamos con la camiseta."
      ],
      "execution_count": null,
      "outputs": [
        {
          "output_type": "execute_result",
          "data": {
            "text/plain": [
              "array([1., 0., 0., 0., 0., 0., 0., 0., 0., 0.], dtype=float32)"
            ]
          },
          "metadata": {},
          "execution_count": 590
        }
      ]
    },
    {
      "cell_type": "markdown",
      "metadata": {
        "id": "OTRNPGib78Zv"
      },
      "source": [
        "Aquí dejo las funciones de predicción"
      ]
    },
    {
      "cell_type": "code",
      "metadata": {
        "id": "3p4ABdnH77Uv"
      },
      "source": [
        "def plot_image(i, predictions_array, true_label, img):\n",
        "  predictions_array, true_label, img = predictions_array, true_label[i], img[i]\n",
        "  plt.grid(False)\n",
        "  plt.xticks([])\n",
        "  plt.yticks([])\n",
        "\n",
        "  plt.imshow(img, cmap=plt.cm.binary)    \n",
        "\n",
        "  predicted_label = np.argmax(predictions_array)\n",
        "  if predicted_label.all() == true_label.all():\n",
        "    color = 'blue'\n",
        "  else:\n",
        "    color = 'red'\n",
        "\n",
        "  plt.xlabel(\"{} {:2.0f}% ({})\".format(predicted_label,\n",
        "                                100*np.max(predictions_array),\n",
        "                                true_label),\n",
        "                                color=color)\n",
        "\n",
        "def plot_value_array(i, predictions_array, true_label):\n",
        "  predictions_array, true_label = predictions_array, true_label[i]\n",
        "  plt.grid(False)\n",
        "  plt.xticks(range(10))\n",
        "  plt.yticks([])\n",
        "  thisplot = plt.bar(range(10), predictions_array, color=\"#00FF00\")\n",
        "  plt.ylim([0, 1])\n",
        "  predicted_label = np.argmax(predictions_array)\n",
        "\n",
        "  thisplot[predicted_label].set_color('red')\n",
        "  thisplot[true_label].set_color('black')"
      ],
      "execution_count": null,
      "outputs": []
    },
    {
      "cell_type": "markdown",
      "metadata": {
        "id": "WKh3o-vj8EBm"
      },
      "source": [
        "A continuación se crea la RNA:\n",
        "\n",
        " Para empezar, se probaran los datos del primer caso:\n",
        "-10 neuronas, función act: relu y optimizador: sigmoidea."
      ]
    },
    {
      "cell_type": "markdown",
      "metadata": {
        "id": "PzRgvOleBJPS"
      },
      "source": [
        "#Caso 1"
      ]
    },
    {
      "cell_type": "code",
      "metadata": {
        "colab": {
          "base_uri": "https://localhost:8080/"
        },
        "id": "3M8IFjusBiRR",
        "outputId": "ed92cc14-6aff-4d5b-e507-691905b8f6ab"
      },
      "source": [
        "# El tipo de red será secuencial, por lo que, desde la entrada hasta la salida será sin ciclos, es decir, que será unidireccional (las neuronas posteriores no se conectaran con las anteriores en ese sentido)\n",
        "network = models.Sequential(name='Modelo_Zalando')\n",
        "# Creamos dos capas \"Dense\" (Neurona1 y Neurona2), que son capas neuronales densamente conectadas \n",
        "# (también llamadas \"completamente conectadas\"). Cada una de las X(en función del ejercicio) neuronas de\n",
        "# la capa de entrada están conectadas con los 784 píxeles = 28*28 (las imágenes). Solo lo \n",
        "# definimos para la primera capa. Para la segunda capa y posteriores, Keras lo \n",
        "# deduce.\n",
        "network.add(layers.Dense(10, activation='relu', input_shape=(28*28,), name='Neurona1'))\n",
        "# Capa de salida \"softmax\" de 10 vías (o neuronas). Significa que  \n",
        "# devolverá una matriz de 10 puntuaciones de probabilidad (sumando 1)\n",
        "# La puntuación será la probabilidad de que la imagen del dígito actual \n",
        "# pertenezca a una de nuestras clases de 10 dígitos.\n",
        "network.add(layers.Dense(10, activation='softmax', name='Neurona2'),)\n",
        "# Cada capa aplica unas cuantas operaciones con tensores sencillas a los datos\n",
        "# de entrada, y que estas operaciones implican tensores de pesos. Los tensores\n",
        "# de peso, que son los atributos de las capas, son donde persiste el \n",
        "# \"conocimiento\" de la red.\n",
        "# En general, la capa de salida de una red de clasificación tendrá tantas\n",
        "# neuronas como clases, menos en la clasificación binaria, que con 1 vale. Cada \n",
        "# valor será la probabilidad de que la imagen del dígito actual pertenezca a cada\n",
        "# una de las clases\n",
        "network.summary()\n",
        "# Nombre de las capas automáticos a no ser que lo definamos\n",
        "# 401.920 = 784 x 512 + 512 Sesgo\n",
        "# 5.130 = 512x10 + 10 Sesgo\n",
        "# 407.050 = 401.920 + 5.130"
      ],
      "execution_count": null,
      "outputs": [
        {
          "output_type": "stream",
          "name": "stdout",
          "text": [
            "Model: \"Modelo_Zalando\"\n",
            "_________________________________________________________________\n",
            "Layer (type)                 Output Shape              Param #   \n",
            "=================================================================\n",
            "Neurona1 (Dense)             (None, 10)                7850      \n",
            "_________________________________________________________________\n",
            "Neurona2 (Dense)             (None, 10)                110       \n",
            "=================================================================\n",
            "Total params: 7,960\n",
            "Trainable params: 7,960\n",
            "Non-trainable params: 0\n",
            "_________________________________________________________________\n"
          ]
        }
      ]
    },
    {
      "cell_type": "markdown",
      "metadata": {
        "id": "7MiVywZNouCp"
      },
      "source": [
        "Según el summary, tenemos 2 capas neuronales de tipo dense de las cuales cada neurona de la primera capa estyá conectada a cada una de la segunda capa y, de la segunda capa salen 10 \"respuestas\" que equivaldrían a cada tipo de prenda de ropa."
      ]
    },
    {
      "cell_type": "markdown",
      "metadata": {
        "id": "grsLQJWHaoOy"
      },
      "source": [
        "La función de perdida que usamos siempre tiene que ser binary crossentropy (según lo dicho en clase)."
      ]
    },
    {
      "cell_type": "code",
      "metadata": {
        "id": "eNyO3i7ODNW5"
      },
      "source": [
        "# 4.- HACEMOS EL PASO DE COMPILACIÓN CARGANDO EL  \n",
        "# OPTIMIZADOR, LA FUNCIÓN DE PÉRDIDA Y LAS MÉTRICAS\n",
        "# Algoritmo optimizador rmsprop (Root Mean Square Propagation): Es un algoritmo que mantiene \n",
        "# un factor de entrenamiento diferente para cada dimensión, pero en este caso el escalado \n",
        "# del factor de entrenamiento se realiza dividiéndolo por la media del declive \n",
        "# exponencial del cuadrado de los gradientes.\n",
        "network.compile(optimizer='sgd',\n",
        "                loss='categorical_crossentropy',\n",
        "                metrics=['accuracy'])\n",
        "# La reducción de la pérdida se produce mediante el descenso de gradiente\n",
        "# estocástico minilote, cuyas reglas exactas están gobernadas por el optimizador\n",
        "# 'rmsprop'\n",
        "# 'accuracy': Solo tendremos en cuenta la fracción de imágenes que son\n",
        "# correctamente clasificadas "
      ],
      "execution_count": null,
      "outputs": []
    },
    {
      "cell_type": "markdown",
      "metadata": {
        "id": "j22qfRrsGlsU"
      },
      "source": [
        "Ahora vamos a entrenar el sistema de neuronas con fit:\n",
        "Para el entrenamiento, usamos 5 épocas, pero cambiamos la función de pérdida como se indica el enunciado."
      ]
    },
    {
      "cell_type": "code",
      "metadata": {
        "colab": {
          "base_uri": "https://localhost:8080/"
        },
        "id": "r1kN4mSeGp91",
        "outputId": "e849cddb-eff6-455b-f3f4-b7ae461e6f1e"
      },
      "source": [
        "# 7.- ENTRENAMOS LA RED CON EL JUEGO DE DATOS DE ENTRENAMIENTO\n",
        "# * epochs: Épocas: un límite arbitrario, definido como \n",
        "# \"una pasada sobre todo el conjunto de datos\", que se utiliza para \n",
        "# separar el entrenamiento en distintas fases, que es útil para el \n",
        "# registro y la evaluación periódica. Como no hay initial_epoch, en\n",
        "# este caso va hasta la época 5 desde 1.\n",
        "# tamaño del lote\n",
        "# * batch_size: Entero o NULO. Número de muestras por actualización de gradiente. \n",
        "# Si no se especifica, batch_size se establecerá de forma predeterminada en 32.\n",
        "network.fit(train_images, train_labels, epochs=5, batch_size=128)\n",
        "# La red empezará a iterar por lo datos de entrenamiento en minilotes de 128\n",
        "# muestras, 5 veces (cada iteración por los datos de entrenamiento recibe el \n",
        "# nombre de \"repetición\"). En cada iteración, la red computará los gradientes de\n",
        "# los pesos en relación con la pérdida en el lote y ajustará los pesos en\n",
        "# consecuencia. Tras estas 5 repeticiones, la red habrá realizado 2.345 ajustes\n",
        "# de gradiente (469 por repetición), la pérdida será lo bastante baja como para\n",
        "# que la red sea capaz de clasificar números escritos a mano con gran exactitud."
      ],
      "execution_count": null,
      "outputs": [
        {
          "output_type": "stream",
          "name": "stdout",
          "text": [
            "Epoch 1/5\n",
            "469/469 [==============================] - 2s 4ms/step - loss: 1.6725 - accuracy: 0.4072\n",
            "Epoch 2/5\n",
            "469/469 [==============================] - 2s 3ms/step - loss: 1.0457 - accuracy: 0.6615\n",
            "Epoch 3/5\n",
            "469/469 [==============================] - 2s 3ms/step - loss: 0.7981 - accuracy: 0.7451\n",
            "Epoch 4/5\n",
            "469/469 [==============================] - 2s 3ms/step - loss: 0.6918 - accuracy: 0.7656\n",
            "Epoch 5/5\n",
            "469/469 [==============================] - 2s 3ms/step - loss: 0.6363 - accuracy: 0.7780\n"
          ]
        },
        {
          "output_type": "execute_result",
          "data": {
            "text/plain": [
              "<keras.callbacks.History at 0x7f028ddc6690>"
            ]
          },
          "metadata": {},
          "execution_count": 491
        }
      ]
    },
    {
      "cell_type": "code",
      "metadata": {
        "colab": {
          "base_uri": "https://localhost:8080/"
        },
        "id": "N95iMjwPHHqG",
        "outputId": "706c8eae-1872-4cb6-fe3d-ff220e321ee9"
      },
      "source": [
        "# 8.- VERIFICAMOS NUESTRO MODELO YA ENTRENADO, CONTRA EL CONJUNTO DE PRUEBAS\n",
        "test_loss, test_acc = network.evaluate(test_images, test_labels)"
      ],
      "execution_count": null,
      "outputs": [
        {
          "output_type": "stream",
          "name": "stdout",
          "text": [
            "313/313 [==============================] - 1s 3ms/step - loss: 0.6396 - accuracy: 0.7715\n"
          ]
        }
      ]
    },
    {
      "cell_type": "code",
      "metadata": {
        "colab": {
          "base_uri": "https://localhost:8080/"
        },
        "id": "dH9IjMk6HQ1t",
        "outputId": "e2e7b25a-2e29-4a70-f0c0-d47cce4e6d3f"
      },
      "source": [
        "print('Precisión del test:', test_acc)\n",
        "# test_acc: 0.9777"
      ],
      "execution_count": null,
      "outputs": [
        {
          "output_type": "stream",
          "name": "stdout",
          "text": [
            "Precisión del test: 0.7714999914169312\n"
          ]
        }
      ]
    },
    {
      "cell_type": "markdown",
      "metadata": {
        "id": "PgUk1yzqAeT9"
      },
      "source": [
        "La precisión del test resulta ser algo menos de 80%. A continuación realizaremos la matriz de confusión."
      ]
    },
    {
      "cell_type": "code",
      "metadata": {
        "colab": {
          "base_uri": "https://localhost:8080/",
          "height": 311
        },
        "id": "3cDTuJUGAxww",
        "outputId": "7cfcb253-85ba-4a54-fa60-698997d6106c"
      },
      "source": [
        "def plot_confusion_matrix(cm, classes,\n",
        "                          normalize=False,\n",
        "                          title='Confusion matrix',\n",
        "                          cmap=plt.cm.Blues):\n",
        "    \"\"\"\n",
        "    This function prints and plots the confusion matrix.\n",
        "    Normalization can be applied by setting `normalize=True`.\n",
        "    \"\"\"\n",
        "    plt.imshow(cm, interpolation='nearest', cmap=cmap)\n",
        "    plt.title(title)\n",
        "    plt.colorbar()\n",
        "    tick_marks = np.arange(len(classes))\n",
        "    plt.xticks(tick_marks, classes, rotation=45)\n",
        "    plt.yticks(tick_marks, classes)\n",
        "\n",
        "    if normalize:\n",
        "        cm = cm.astype('float') / cm.sum(axis=1)[:, np.newaxis]\n",
        "\n",
        "    thresh = cm.max() / 2.\n",
        "    for i, j in itertools.product(range(cm.shape[0]), range(cm.shape[1])):\n",
        "        plt.text(j, i, cm[i, j],\n",
        "                 horizontalalignment=\"center\",\n",
        "                 color=\"white\" if cm[i, j] > thresh else \"black\")\n",
        "\n",
        "    plt.tight_layout()\n",
        "    plt.ylabel('Observación')\n",
        "    plt.xlabel('Predicción')\n",
        "\n",
        "\n",
        "    # Predict the values from the validation dataset\n",
        "Y_pred = network.predict(test_images)\n",
        "# Convert predictions classes to one hot vectors \n",
        "Y_pred_classes = np.argmax(Y_pred, axis = 1) \n",
        "# Convert validation observations to one hot vectors\n",
        "Y_true = np.argmax(test_labels, axis = 1) \n",
        "# compute the confusion matrix\n",
        "confusion_mtx = confusion_matrix(Y_true, Y_pred_classes) \n",
        "# plot the confusion matrix\n",
        "plot_confusion_matrix(confusion_mtx, classes = range(10))"
      ],
      "execution_count": null,
      "outputs": [
        {
          "output_type": "display_data",
          "data": {
            "image/png": "[encoded data removed]",
            "text/plain": [
              "<Figure size 432x288 with 2 Axes>"
            ]
          },
          "metadata": {
            "needs_background": "light"
          }
        }
      ]
    },
    {
      "cell_type": "markdown",
      "metadata": {
        "id": "TdBVCTn3xXnb"
      },
      "source": [
        "En la matriz de confusión se pueden apreciar la cantidad de veces que ha hacertado la RNA (la diagonal de la matriz) y la cantidad de veces que ha fallado con otra prenda distinta."
      ]
    },
    {
      "cell_type": "markdown",
      "metadata": {
        "id": "KhyLKIzKjz7X"
      },
      "source": [
        "Este ha sido el resultado del caso 1. A continuación, se harán el resto. \n",
        "Para los siguientes casos, se puede empezar directamente creando la red neuronal puesto que los datos anteriores sabemos qué están bien.\n",
        "En este caso, cambiamos la funcion sigmoidea por la rmsprop."
      ]
    },
    {
      "cell_type": "markdown",
      "metadata": {
        "id": "FqHZsy0Pezxt"
      },
      "source": [
        "Como se puede ver en la matriz, hay varias prendas que se pueden confundir con otras pero, en general, acierta bastante."
      ]
    },
    {
      "cell_type": "markdown",
      "metadata": {
        "id": "UTMDQIi33acM"
      },
      "source": [
        "## Apartado 4"
      ]
    },
    {
      "cell_type": "markdown",
      "metadata": {
        "id": "eHtXNwUt3eGl"
      },
      "source": [
        "Para este apartado, se compararán partes de las imagenes de prueba con el resto de las propias imagenes de prueba. Hay 60k imágenes. Podemos separar 50k y 10k para hacer la prueba:\n"
      ]
    },
    {
      "cell_type": "markdown",
      "metadata": {
        "id": "Zn7XGwE9584O"
      },
      "source": [
        "**IMPORTANTE: No ejecutar este entrenamiento ni los siguientes si se entrenó anteriormente la RNA.**"
      ]
    },
    {
      "cell_type": "code",
      "metadata": {
        "id": "GD8V1Vu131X2"
      },
      "source": [
        "train_images1= train_images[:50000]\n",
        "train_labels1=train_labels[:50000]\n",
        "test_images1=train_images[50000:]\n",
        "test_labels1=train_labels[50000:]\n"
      ],
      "execution_count": null,
      "outputs": []
    },
    {
      "cell_type": "code",
      "metadata": {
        "colab": {
          "base_uri": "https://localhost:8080/"
        },
        "id": "D0D2ZikI5SJ3",
        "outputId": "ba5f5069-72bf-4b6b-9e65-34626f3c8368"
      },
      "source": [
        "network.fit(train_images1, train_labels1, epochs=5, batch_size=128)"
      ],
      "execution_count": null,
      "outputs": [
        {
          "output_type": "stream",
          "name": "stdout",
          "text": [
            "Epoch 1/5\n",
            "391/391 [==============================] - 1s 3ms/step - loss: 0.6034 - accuracy: 0.7887\n",
            "Epoch 2/5\n",
            "391/391 [==============================] - 1s 3ms/step - loss: 0.5816 - accuracy: 0.7976\n",
            "Epoch 3/5\n",
            "391/391 [==============================] - 1s 3ms/step - loss: 0.5640 - accuracy: 0.8036\n",
            "Epoch 4/5\n",
            "391/391 [==============================] - 1s 3ms/step - loss: 0.5495 - accuracy: 0.8101\n",
            "Epoch 5/5\n",
            "391/391 [==============================] - 1s 3ms/step - loss: 0.5372 - accuracy: 0.8150\n"
          ]
        },
        {
          "output_type": "execute_result",
          "data": {
            "text/plain": [
              "<keras.callbacks.History at 0x7f02ab3b8110>"
            ]
          },
          "metadata": {},
          "execution_count": 496
        }
      ]
    },
    {
      "cell_type": "code",
      "metadata": {
        "colab": {
          "base_uri": "https://localhost:8080/"
        },
        "id": "3W-rKDSM5fe2",
        "outputId": "5878a41f-8968-4e22-b101-7a863953cc0f"
      },
      "source": [
        "# 8.- VERIFICAMOS NUESTRO MODELO YA ENTRENADO, CONTRA EL CONJUNTO DE PRUEBAS\n",
        "test_loss, test_acc = network.evaluate(test_images1, test_labels1)"
      ],
      "execution_count": null,
      "outputs": [
        {
          "output_type": "stream",
          "name": "stdout",
          "text": [
            "313/313 [==============================] - 1s 3ms/step - loss: 0.5381 - accuracy: 0.8111\n"
          ]
        }
      ]
    },
    {
      "cell_type": "code",
      "metadata": {
        "colab": {
          "base_uri": "https://localhost:8080/"
        },
        "id": "V6NppNob5j0m",
        "outputId": "84243f31-ea91-4d20-d15a-9413f8b0ef8d"
      },
      "source": [
        "print('Precisión del test:', test_acc)\n",
        "# test_acc: 0.9777"
      ],
      "execution_count": null,
      "outputs": [
        {
          "output_type": "stream",
          "name": "stdout",
          "text": [
            "Precisión del test: 0.8111000061035156\n"
          ]
        }
      ]
    },
    {
      "cell_type": "markdown",
      "metadata": {
        "id": "A0HqM8zE7x6H"
      },
      "source": [
        "##Apartado 5"
      ]
    },
    {
      "cell_type": "markdown",
      "metadata": {
        "id": "CDZiShdM8vgg"
      },
      "source": [
        "Para este apartado, vamos a predecir la imagen 6"
      ]
    },
    {
      "cell_type": "code",
      "metadata": {
        "colab": {
          "base_uri": "https://localhost:8080/"
        },
        "id": "OJ3MshAV81zv",
        "outputId": "9973d328-a747-4b91-d638-b32c34fe54f1"
      },
      "source": [
        "i = 0\n",
        "plt.figure(figsize=(6,3))\n",
        "plt.subplot(1,2,1)\n",
        "plot_image(i, predictions[i], test_labels0, test_images0.reshape(10000,28,28))\n",
        "plt.subplot(1,2,2)\n",
        "plot_value_array(i, predictions[i], test_labels0)\n",
        "plt.show()"
      ],
      "execution_count": null,
      "outputs": [
        {
          "output_type": "display_data",
          "data": {
            "image/png": "[encoded data removed]",
            "text/plain": [
              "<Figure size 432x216 with 2 Axes>"
            ]
          },
          "metadata": {
            "needs_background": "light"
          }
        }
      ]
    },
    {
      "cell_type": "markdown",
      "metadata": {
        "id": "vNApRD-plzY-"
      },
      "source": [
        "#Caso 2"
      ]
    },
    {
      "cell_type": "code",
      "metadata": {
        "colab": {
          "base_uri": "https://localhost:8080/"
        },
        "id": "eezZsh3ZkAm1",
        "outputId": "25213e97-4eec-41ea-ba9c-e961ad2469a9"
      },
      "source": [
        "network = models.Sequential(name='Modelo_Zalando2')\n",
        "network.add(layers.Dense(10, activation='relu', input_shape=(28*28,), name='Neurona1'))\n",
        "network.add(layers.Dense(10, activation='softmax', name='Neurona2'),)\n",
        "network.summary()\n"
      ],
      "execution_count": null,
      "outputs": [
        {
          "output_type": "stream",
          "name": "stdout",
          "text": [
            "Model: \"Modelo_Zalando2\"\n",
            "_________________________________________________________________\n",
            "Layer (type)                 Output Shape              Param #   \n",
            "=================================================================\n",
            "Neurona1 (Dense)             (None, 10)                7850      \n",
            "_________________________________________________________________\n",
            "Neurona2 (Dense)             (None, 10)                110       \n",
            "=================================================================\n",
            "Total params: 7,960\n",
            "Trainable params: 7,960\n",
            "Non-trainable params: 0\n",
            "_________________________________________________________________\n"
          ]
        }
      ]
    },
    {
      "cell_type": "markdown",
      "metadata": {
        "id": "jnp_I_4dpUvH"
      },
      "source": [
        "Según el summary, tenemos 2 capas neuronales de tipo dense de las cuales cada neurona de la primera capa estyá conectada a cada una de la segunda capa y, de la segunda capa salen 10 \"respuestas\" que equivaldrían a cada tipo de prenda de ropa."
      ]
    },
    {
      "cell_type": "markdown",
      "metadata": {
        "id": "3UucLsvdqydI"
      },
      "source": [
        "Ahora cambiamos el optimizador:"
      ]
    },
    {
      "cell_type": "code",
      "metadata": {
        "id": "OrmIQ5T4k-Mf"
      },
      "source": [
        "network.compile(optimizer='rmsprop', \n",
        "                loss='categorical_crossentropy',\n",
        "                metrics=['accuracy'])"
      ],
      "execution_count": null,
      "outputs": []
    },
    {
      "cell_type": "code",
      "metadata": {
        "colab": {
          "base_uri": "https://localhost:8080/"
        },
        "id": "bDAM-eJOlL9Q",
        "outputId": "51b7b8a1-2aeb-42c2-fcf2-2ab2fece03c1"
      },
      "source": [
        "network.fit(train_images, train_labels, epochs=5, batch_size=128)"
      ],
      "execution_count": null,
      "outputs": [
        {
          "output_type": "stream",
          "name": "stdout",
          "text": [
            "Epoch 1/5\n",
            "469/469 [==============================] - 2s 4ms/step - loss: 0.8629 - accuracy: 0.7145\n",
            "Epoch 2/5\n",
            "469/469 [==============================] - 2s 3ms/step - loss: 0.5340 - accuracy: 0.8175\n",
            "Epoch 3/5\n",
            "469/469 [==============================] - 2s 4ms/step - loss: 0.4864 - accuracy: 0.8315\n",
            "Epoch 4/5\n",
            "469/469 [==============================] - 2s 4ms/step - loss: 0.4592 - accuracy: 0.8409\n",
            "Epoch 5/5\n",
            "469/469 [==============================] - 2s 4ms/step - loss: 0.4442 - accuracy: 0.8457\n"
          ]
        },
        {
          "output_type": "execute_result",
          "data": {
            "text/plain": [
              "<keras.callbacks.History at 0x7f02a802c1d0>"
            ]
          },
          "metadata": {},
          "execution_count": 502
        }
      ]
    },
    {
      "cell_type": "code",
      "metadata": {
        "colab": {
          "base_uri": "https://localhost:8080/"
        },
        "id": "doii-C_plcyV",
        "outputId": "ac2edf7f-ed50-442b-8d86-c3ea72a8a939"
      },
      "source": [
        "#VERIFICAMOS NUESTRO MODELO YA ENTRENADO, CONTRA EL CONJUNTO DE PRUEBAS\n",
        "test_loss, test_acc = network.evaluate(test_images, test_labels)"
      ],
      "execution_count": null,
      "outputs": [
        {
          "output_type": "stream",
          "name": "stdout",
          "text": [
            "313/313 [==============================] - 1s 3ms/step - loss: 0.4701 - accuracy: 0.8368\n"
          ]
        }
      ]
    },
    {
      "cell_type": "code",
      "metadata": {
        "colab": {
          "base_uri": "https://localhost:8080/"
        },
        "id": "zKEo0Ucjlgkb",
        "outputId": "53ddbc6d-c3d5-4409-912a-62a9728e32fe"
      },
      "source": [
        "print('Precisión del test:', test_acc)"
      ],
      "execution_count": null,
      "outputs": [
        {
          "output_type": "stream",
          "name": "stdout",
          "text": [
            "Precisión del test: 0.8367999792098999\n"
          ]
        }
      ]
    },
    {
      "cell_type": "markdown",
      "metadata": {
        "id": "K10YgNvylkhA"
      },
      "source": [
        "En este caso, la precisión del test es másd del 80% por haber cambiado el optimizador. "
      ]
    },
    {
      "cell_type": "markdown",
      "metadata": {
        "id": "cPuuK8WGrR6p"
      },
      "source": [
        "Ahora viene la matriz de confusión:"
      ]
    },
    {
      "cell_type": "code",
      "metadata": {
        "colab": {
          "base_uri": "https://localhost:8080/"
        },
        "id": "X3xhc-LMmLPY",
        "outputId": "6cc64612-85d7-4174-ec67-7a7d26cd7c04"
      },
      "source": [
        "Y_pred = network.predict(test_images)\n",
        "# Convert predictions classes to one hot vectors \n",
        "Y_pred_classes = np.argmax(Y_pred, axis = 1) \n",
        "# Convert validation observations to one hot vectors\n",
        "Y_true = np.argmax(test_labels, axis = 1) \n",
        "# compute the confusion matrix\n",
        "confusion_mtx = confusion_matrix(Y_true, Y_pred_classes) \n",
        "# plot the confusion matrix\n",
        "plot_confusion_matrix(confusion_mtx, classes = range(10))"
      ],
      "execution_count": null,
      "outputs": [
        {
          "output_type": "display_data",
          "data": {
            "image/png": "[encoded data removed]",
            "text/plain": [
              "<Figure size 432x288 with 2 Axes>"
            ]
          },
          "metadata": {
            "needs_background": "light"
          }
        }
      ]
    },
    {
      "cell_type": "markdown",
      "metadata": {
        "id": "H1zk60Du6Rem"
      },
      "source": [
        "##Apartado 4\n"
      ]
    },
    {
      "cell_type": "markdown",
      "metadata": {
        "id": "WyPyBUT_6w7_"
      },
      "source": [
        "**IMPORTANTE: No ejecutar este entrenamiento ni los siguientes si se entrenó anteriormente la RNA.**"
      ]
    },
    {
      "cell_type": "code",
      "metadata": {
        "id": "KVbPOTJD6UvG"
      },
      "source": [
        "train_images1= train_images[:50000]\n",
        "train_labels1=train_labels[:50000]\n",
        "test_images1=train_images[50000:]\n",
        "test_labels1=train_labels[50000:]\n"
      ],
      "execution_count": null,
      "outputs": []
    },
    {
      "cell_type": "code",
      "metadata": {
        "colab": {
          "base_uri": "https://localhost:8080/"
        },
        "id": "foNBQjQx6UvG",
        "outputId": "a458b7e4-3b32-4df9-98a4-79ae8c5b9ec6"
      },
      "source": [
        "network.fit(train_images1, train_labels1, epochs=5, batch_size=128)"
      ],
      "execution_count": null,
      "outputs": [
        {
          "output_type": "stream",
          "name": "stdout",
          "text": [
            "Epoch 1/5\n",
            "391/391 [==============================] - 2s 4ms/step - loss: 0.4308 - accuracy: 0.8507\n",
            "Epoch 2/5\n",
            "391/391 [==============================] - 1s 4ms/step - loss: 0.4224 - accuracy: 0.8536\n",
            "Epoch 3/5\n",
            "391/391 [==============================] - 1s 4ms/step - loss: 0.4164 - accuracy: 0.8563\n",
            "Epoch 4/5\n",
            "391/391 [==============================] - 2s 4ms/step - loss: 0.4111 - accuracy: 0.8586\n",
            "Epoch 5/5\n",
            "391/391 [==============================] - 1s 4ms/step - loss: 0.4052 - accuracy: 0.8608\n"
          ]
        },
        {
          "output_type": "execute_result",
          "data": {
            "text/plain": [
              "<keras.callbacks.History at 0x7f0295827fd0>"
            ]
          },
          "metadata": {},
          "execution_count": 507
        }
      ]
    },
    {
      "cell_type": "code",
      "metadata": {
        "colab": {
          "base_uri": "https://localhost:8080/"
        },
        "id": "JWLJPIMy6UvG",
        "outputId": "503efb5c-a4ba-4141-9185-6ef1e35feda3"
      },
      "source": [
        "# 8.- VERIFICAMOS NUESTRO MODELO YA ENTRENADO, CONTRA EL CONJUNTO DE PRUEBAS\n",
        "test_loss, test_acc = network.evaluate(test_images1, test_labels1)"
      ],
      "execution_count": null,
      "outputs": [
        {
          "output_type": "stream",
          "name": "stdout",
          "text": [
            "313/313 [==============================] - 1s 3ms/step - loss: 0.4342 - accuracy: 0.8488\n"
          ]
        }
      ]
    },
    {
      "cell_type": "code",
      "metadata": {
        "colab": {
          "base_uri": "https://localhost:8080/"
        },
        "id": "9I2VMTG46UvG",
        "outputId": "8c3ee1c6-f1a4-4997-9109-995c77e13e91"
      },
      "source": [
        "print('Precisión del test:', test_acc)\n",
        "# test_acc: 0.9777"
      ],
      "execution_count": null,
      "outputs": [
        {
          "output_type": "stream",
          "name": "stdout",
          "text": [
            "Precisión del test: 0.848800003528595\n"
          ]
        }
      ]
    },
    {
      "cell_type": "markdown",
      "metadata": {
        "id": "cO_Kg5bnA0kS"
      },
      "source": [
        "##Apartado 5"
      ]
    },
    {
      "cell_type": "markdown",
      "metadata": {
        "id": "yWCJV66_A0kS"
      },
      "source": [
        "Para este apartado, vamos a predecir la imagen 6"
      ]
    },
    {
      "cell_type": "code",
      "metadata": {
        "colab": {
          "base_uri": "https://localhost:8080/"
        },
        "id": "VA9GIaeDA0kS",
        "outputId": "134ecda1-0cfc-4ec2-f4a1-89e1630e4265"
      },
      "source": [
        "i = 6\n",
        "plt.figure(figsize=(6,3))\n",
        "plt.subplot(1,2,1)\n",
        "plot_image(i, predictions[i], test_labels0, test_images0.reshape(10000,28,28))\n",
        "plt.subplot(1,2,2)\n",
        "plot_value_array(i, predictions[i], test_labels0)\n",
        "plt.show()"
      ],
      "execution_count": null,
      "outputs": [
        {
          "output_type": "display_data",
          "data": {
            "image/png": "[encoded data removed]",
            "text/plain": [
              "<Figure size 432x216 with 2 Axes>"
            ]
          },
          "metadata": {
            "needs_background": "light"
          }
        }
      ]
    },
    {
      "cell_type": "markdown",
      "metadata": {
        "id": "URtM8fMXpswf"
      },
      "source": [
        "#Caso 3\n"
      ]
    },
    {
      "cell_type": "code",
      "metadata": {
        "colab": {
          "base_uri": "https://localhost:8080/"
        },
        "id": "eXA1nu93qF2w",
        "outputId": "1d9b4c9f-e183-446a-ae07-6f4ee20ff110"
      },
      "source": [
        "network = models.Sequential(name='Modelo_Zalando3')\n",
        "network.add(layers.Dense(10, activation='sigmoid', input_shape=(28*28,), name='Neurona1'))\n",
        "network.add(layers.Dense(10, activation='softmax', name='Neurona2'),)\n",
        "network.summary()"
      ],
      "execution_count": null,
      "outputs": [
        {
          "output_type": "stream",
          "name": "stdout",
          "text": [
            "Model: \"Modelo_Zalando3\"\n",
            "_________________________________________________________________\n",
            "Layer (type)                 Output Shape              Param #   \n",
            "=================================================================\n",
            "Neurona1 (Dense)             (None, 10)                7850      \n",
            "_________________________________________________________________\n",
            "Neurona2 (Dense)             (None, 10)                110       \n",
            "=================================================================\n",
            "Total params: 7,960\n",
            "Trainable params: 7,960\n",
            "Non-trainable params: 0\n",
            "_________________________________________________________________\n"
          ]
        }
      ]
    },
    {
      "cell_type": "markdown",
      "metadata": {
        "id": "hq_RiDv1qQK4"
      },
      "source": [
        "Según el summary, tenemos 2 capas neuronales de tipo dense de las cuales cada neurona de la primera capa estyá conectada a cada una de la segunda capa y, de la segunda capa salen 10 \"respuestas\" que equivaldrían a cada tipo de prenda de ropa.\n",
        "En este caso, se ha cambiado la función de activación, pero a simple visa, no parece haber alterado nada del problema anterior."
      ]
    },
    {
      "cell_type": "markdown",
      "metadata": {
        "id": "2YWp6A9PqsZp"
      },
      "source": [
        "Volvemos a cambiar el optimizador:"
      ]
    },
    {
      "cell_type": "code",
      "metadata": {
        "id": "36xDxaV_qoAh"
      },
      "source": [
        "network.compile(optimizer='sgd', \n",
        "                loss='categorical_crossentropy',\n",
        "                metrics=['accuracy'])"
      ],
      "execution_count": null,
      "outputs": []
    },
    {
      "cell_type": "code",
      "metadata": {
        "colab": {
          "base_uri": "https://localhost:8080/"
        },
        "id": "eJtMZ8iXq4x4",
        "outputId": "d0a2d601-7f9a-4a36-d7aa-369a604caec1"
      },
      "source": [
        "network.fit(train_images, train_labels, epochs=5, batch_size=128)"
      ],
      "execution_count": null,
      "outputs": [
        {
          "output_type": "stream",
          "name": "stdout",
          "text": [
            "Epoch 1/5\n",
            "469/469 [==============================] - 2s 3ms/step - loss: 2.0750 - accuracy: 0.2737\n",
            "Epoch 2/5\n",
            "469/469 [==============================] - 2s 3ms/step - loss: 1.7780 - accuracy: 0.5224\n",
            "Epoch 3/5\n",
            "469/469 [==============================] - 2s 3ms/step - loss: 1.5777 - accuracy: 0.6140\n",
            "Epoch 4/5\n",
            "469/469 [==============================] - 2s 3ms/step - loss: 1.4217 - accuracy: 0.6457\n",
            "Epoch 5/5\n",
            "469/469 [==============================] - 2s 3ms/step - loss: 1.2977 - accuracy: 0.6675\n"
          ]
        },
        {
          "output_type": "execute_result",
          "data": {
            "text/plain": [
              "<keras.callbacks.History at 0x7f02956b1690>"
            ]
          },
          "metadata": {},
          "execution_count": 513
        }
      ]
    },
    {
      "cell_type": "code",
      "metadata": {
        "colab": {
          "base_uri": "https://localhost:8080/"
        },
        "id": "g6zmnVunrBso",
        "outputId": "c2122660-3fe4-46a9-c56d-108a02fb56f8"
      },
      "source": [
        "# 8.- VERIFICAMOS NUESTRO MODELO YA ENTRENADO, CONTRA EL CONJUNTO DE PRUEBAS\n",
        "test_loss, test_acc = network.evaluate(test_images, test_labels)"
      ],
      "execution_count": null,
      "outputs": [
        {
          "output_type": "stream",
          "name": "stdout",
          "text": [
            "313/313 [==============================] - 1s 3ms/step - loss: 1.2504 - accuracy: 0.6751\n"
          ]
        }
      ]
    },
    {
      "cell_type": "code",
      "metadata": {
        "colab": {
          "base_uri": "https://localhost:8080/"
        },
        "id": "OTmtyvnprGnC",
        "outputId": "6a98c8a9-83bf-4746-f060-3aae7c42681c"
      },
      "source": [
        "print('Precisión del test:', test_acc)"
      ],
      "execution_count": null,
      "outputs": [
        {
          "output_type": "stream",
          "name": "stdout",
          "text": [
            "Precisión del test: 0.6751000285148621\n"
          ]
        }
      ]
    },
    {
      "cell_type": "markdown",
      "metadata": {
        "id": "2gc88f7YrHVw"
      },
      "source": [
        "Para el caso 3, la precisión ha bajado bastante por cambiar de función de activación."
      ]
    },
    {
      "cell_type": "markdown",
      "metadata": {
        "id": "qYmfiyF2rO4p"
      },
      "source": [
        "A continuación se muestra la matrix de confusión:"
      ]
    },
    {
      "cell_type": "code",
      "metadata": {
        "colab": {
          "base_uri": "https://localhost:8080/",
          "height": 311
        },
        "id": "z78k4kb5rcqw",
        "outputId": "5d8692af-6eb9-4af7-83fb-b1a21f2dd4b4"
      },
      "source": [
        "Y_pred = network.predict(test_images)\n",
        "# Convert predictions classes to one hot vectors \n",
        "Y_pred_classes = np.argmax(Y_pred, axis = 1) \n",
        "# Convert validation observations to one hot vectors\n",
        "Y_true = np.argmax(test_labels, axis = 1) \n",
        "# compute the confusion matrix\n",
        "confusion_mtx = confusion_matrix(Y_true, Y_pred_classes) \n",
        "# plot the confusion matrix\n",
        "plot_confusion_matrix(confusion_mtx, classes = range(10))"
      ],
      "execution_count": null,
      "outputs": [
        {
          "output_type": "display_data",
          "data": {
            "image/png": "[encoded data removed]",
            "text/plain": [
              "<Figure size 432x288 with 2 Axes>"
            ]
          },
          "metadata": {
            "needs_background": "light"
          }
        }
      ]
    },
    {
      "cell_type": "markdown",
      "metadata": {
        "id": "CNHo1wOsriXo"
      },
      "source": [
        "Se pueden apreciar que en algunas prendas tiende a equivocarse."
      ]
    },
    {
      "cell_type": "markdown",
      "metadata": {
        "id": "WGLnxJZ963Em"
      },
      "source": [
        "##Apartado 4"
      ]
    },
    {
      "cell_type": "markdown",
      "metadata": {
        "id": "QrPCphT265Qf"
      },
      "source": [
        "**IMPORTANTE: No ejecutar este entrenamiento ni los siguientes si se entrenó anteriormente la RNA.**"
      ]
    },
    {
      "cell_type": "code",
      "metadata": {
        "id": "jiGPg00V65Qf"
      },
      "source": [
        "train_images1= train_images[:50000]\n",
        "train_labels1=train_labels[:50000]\n",
        "test_images1=train_images[50000:]\n",
        "test_labels1=train_labels[50000:]\n"
      ],
      "execution_count": null,
      "outputs": []
    },
    {
      "cell_type": "code",
      "metadata": {
        "colab": {
          "base_uri": "https://localhost:8080/"
        },
        "id": "_cWNEkuq65Qf",
        "outputId": "df049ab7-2195-4d98-8588-7bae9e5f5713"
      },
      "source": [
        "network.fit(train_images1, train_labels1, epochs=5, batch_size=128)"
      ],
      "execution_count": null,
      "outputs": [
        {
          "output_type": "stream",
          "name": "stdout",
          "text": [
            "Epoch 1/5\n",
            "391/391 [==============================] - 1s 3ms/step - loss: 1.2056 - accuracy: 0.6835\n",
            "Epoch 2/5\n",
            "391/391 [==============================] - 1s 3ms/step - loss: 1.1359 - accuracy: 0.6948\n",
            "Epoch 3/5\n",
            "391/391 [==============================] - 1s 3ms/step - loss: 1.0773 - accuracy: 0.7036\n",
            "Epoch 4/5\n",
            "391/391 [==============================] - 1s 3ms/step - loss: 1.0278 - accuracy: 0.7122\n",
            "Epoch 5/5\n",
            "391/391 [==============================] - 1s 3ms/step - loss: 0.9856 - accuracy: 0.7174\n"
          ]
        },
        {
          "output_type": "execute_result",
          "data": {
            "text/plain": [
              "<keras.callbacks.History at 0x7f02999ab3d0>"
            ]
          },
          "metadata": {},
          "execution_count": 518
        }
      ]
    },
    {
      "cell_type": "code",
      "metadata": {
        "colab": {
          "base_uri": "https://localhost:8080/"
        },
        "id": "M4Rv3cTu65Qf",
        "outputId": "5838899c-67f2-49a5-e652-cdcd04fd63cc"
      },
      "source": [
        "# 8.- VERIFICAMOS NUESTRO MODELO YA ENTRENADO, CONTRA EL CONJUNTO DE PRUEBAS\n",
        "test_loss, test_acc = network.evaluate(test_images1, test_labels1)"
      ],
      "execution_count": null,
      "outputs": [
        {
          "output_type": "stream",
          "name": "stdout",
          "text": [
            "313/313 [==============================] - 1s 3ms/step - loss: 0.9653 - accuracy: 0.7263\n"
          ]
        }
      ]
    },
    {
      "cell_type": "code",
      "metadata": {
        "colab": {
          "base_uri": "https://localhost:8080/"
        },
        "id": "bsDf8uBw65Qg",
        "outputId": "cd82cd44-43dc-45b8-83ee-c22559806937"
      },
      "source": [
        "print('Precisión del test:', test_acc)\n",
        "# test_acc: 0.9777"
      ],
      "execution_count": null,
      "outputs": [
        {
          "output_type": "stream",
          "name": "stdout",
          "text": [
            "Precisión del test: 0.7263000011444092\n"
          ]
        }
      ]
    },
    {
      "cell_type": "markdown",
      "metadata": {
        "id": "slc5ba0RA6Y_"
      },
      "source": [
        "##Apartado 5"
      ]
    },
    {
      "cell_type": "markdown",
      "metadata": {
        "id": "B2QPLBIgA6Y_"
      },
      "source": [
        "Para este apartado, vamos a predecir la imagen 6"
      ]
    },
    {
      "cell_type": "code",
      "metadata": {
        "colab": {
          "base_uri": "https://localhost:8080/",
          "height": 211
        },
        "id": "gLxvo5XLA6ZA",
        "outputId": "3b52f32a-7059-4e31-b794-79cd748e520a"
      },
      "source": [
        "i = 6\n",
        "plt.figure(figsize=(6,3))\n",
        "plt.subplot(1,2,1)\n",
        "plot_image(i, predictions[i], test_labels0, test_images0.reshape(10000,28,28))\n",
        "plt.subplot(1,2,2)\n",
        "plot_value_array(i, predictions[i], test_labels0)\n",
        "plt.show()"
      ],
      "execution_count": null,
      "outputs": [
        {
          "output_type": "display_data",
          "data": {
            "image/png": "[encoded data removed]",
            "text/plain": [
              "<Figure size 432x216 with 2 Axes>"
            ]
          },
          "metadata": {
            "needs_background": "light"
          }
        }
      ]
    },
    {
      "cell_type": "markdown",
      "metadata": {
        "id": "MjUbF2ZqCrt5"
      },
      "source": [
        "##Apartado 7"
      ]
    },
    {
      "cell_type": "markdown",
      "metadata": {
        "id": "BHbC1iE5CvaS"
      },
      "source": [
        "Mejorar este caso usando el optimizador adam y la funcion de perdida sparse_categorical_crossentropy"
      ]
    },
    {
      "cell_type": "code",
      "metadata": {
        "colab": {
          "base_uri": "https://localhost:8080/"
        },
        "id": "-C-iiUH0DTiZ",
        "outputId": "455589cc-bacb-40a2-876c-4ab4e6a8be6a"
      },
      "source": [
        "network = models.Sequential(name='Modelo_Zalando3')\n",
        "network.add(layers.Dense(10, activation='sigmoid', input_shape=(28*28,), name='Neurona1'))\n",
        "network.add(layers.Dense(10, activation='softmax', name='Neurona2'),)\n",
        "network.summary()"
      ],
      "execution_count": null,
      "outputs": [
        {
          "output_type": "stream",
          "name": "stdout",
          "text": [
            "Model: \"Modelo_Zalando3\"\n",
            "_________________________________________________________________\n",
            "Layer (type)                 Output Shape              Param #   \n",
            "=================================================================\n",
            "Neurona1 (Dense)             (None, 10)                7850      \n",
            "_________________________________________________________________\n",
            "Neurona2 (Dense)             (None, 10)                110       \n",
            "=================================================================\n",
            "Total params: 7,960\n",
            "Trainable params: 7,960\n",
            "Non-trainable params: 0\n",
            "_________________________________________________________________\n"
          ]
        }
      ]
    },
    {
      "cell_type": "code",
      "metadata": {
        "id": "CMaVK4VYC8KB"
      },
      "source": [
        "network.compile(optimizer='adam', \n",
        "                loss='sparse_categorical_crossentropy',\n",
        "                metrics=['accuracy'])"
      ],
      "execution_count": null,
      "outputs": []
    },
    {
      "cell_type": "code",
      "metadata": {
        "colab": {
          "base_uri": "https://localhost:8080/",
          "height": 748
        },
        "id": "5PgC0eL7DGKR",
        "outputId": "49eb56dd-dd74-4b69-ea8a-677a4eed16cc"
      },
      "source": [
        "network.fit(train_images, train_labels, epochs=5, batch_size=128)"
      ],
      "execution_count": null,
      "outputs": [
        {
          "output_type": "stream",
          "name": "stdout",
          "text": [
            "Epoch 1/5\n"
          ]
        },
        {
          "output_type": "error",
          "ename": "ValueError",
          "evalue": "ignored",
          "traceback": [
            "\u001b[0;31m---------------------------------------------------------------------------\u001b[0m",
            "\u001b[0;31mValueError\u001b[0m                                Traceback (most recent call last)",
            "\u001b[0;32m<ipython-input-597-6d1e9003fe60>\u001b[0m in \u001b[0;36m<module>\u001b[0;34m()\u001b[0m\n\u001b[0;32m----> 1\u001b[0;31m \u001b[0mnetwork\u001b[0m\u001b[0;34m.\u001b[0m\u001b[0mfit\u001b[0m\u001b[0;34m(\u001b[0m\u001b[0mtrain_images0\u001b[0m\u001b[0;34m,\u001b[0m \u001b[0mtrain_labels0\u001b[0m\u001b[0;34m,\u001b[0m \u001b[0mepochs\u001b[0m\u001b[0;34m=\u001b[0m\u001b[0;36m5\u001b[0m\u001b[0;34m,\u001b[0m \u001b[0mbatch_size\u001b[0m\u001b[0;34m=\u001b[0m\u001b[0;36m128\u001b[0m\u001b[0;34m)\u001b[0m\u001b[0;34m\u001b[0m\u001b[0;34m\u001b[0m\u001b[0m\n\u001b[0m",
            "\u001b[0;32m/usr/local/lib/python3.7/dist-packages/keras/engine/training.py\u001b[0m in \u001b[0;36mfit\u001b[0;34m(self, x, y, batch_size, epochs, verbose, callbacks, validation_split, validation_data, shuffle, class_weight, sample_weight, initial_epoch, steps_per_epoch, validation_steps, validation_batch_size, validation_freq, max_queue_size, workers, use_multiprocessing)\u001b[0m\n\u001b[1;32m   1182\u001b[0m                 _r=1):\n\u001b[1;32m   1183\u001b[0m               \u001b[0mcallbacks\u001b[0m\u001b[0;34m.\u001b[0m\u001b[0mon_train_batch_begin\u001b[0m\u001b[0;34m(\u001b[0m\u001b[0mstep\u001b[0m\u001b[0;34m)\u001b[0m\u001b[0;34m\u001b[0m\u001b[0;34m\u001b[0m\u001b[0m\n\u001b[0;32m-> 1184\u001b[0;31m               \u001b[0mtmp_logs\u001b[0m \u001b[0;34m=\u001b[0m \u001b[0mself\u001b[0m\u001b[0;34m.\u001b[0m\u001b[0mtrain_function\u001b[0m\u001b[0;34m(\u001b[0m\u001b[0miterator\u001b[0m\u001b[0;34m)\u001b[0m\u001b[0;34m\u001b[0m\u001b[0;34m\u001b[0m\u001b[0m\n\u001b[0m\u001b[1;32m   1185\u001b[0m               \u001b[0;32mif\u001b[0m \u001b[0mdata_handler\u001b[0m\u001b[0;34m.\u001b[0m\u001b[0mshould_sync\u001b[0m\u001b[0;34m:\u001b[0m\u001b[0;34m\u001b[0m\u001b[0;34m\u001b[0m\u001b[0m\n\u001b[1;32m   1186\u001b[0m                 \u001b[0mcontext\u001b[0m\u001b[0;34m.\u001b[0m\u001b[0masync_wait\u001b[0m\u001b[0;34m(\u001b[0m\u001b[0;34m)\u001b[0m\u001b[0;34m\u001b[0m\u001b[0;34m\u001b[0m\u001b[0m\n",
            "\u001b[0;32m/usr/local/lib/python3.7/dist-packages/tensorflow/python/eager/def_function.py\u001b[0m in \u001b[0;36m__call__\u001b[0;34m(self, *args, **kwds)\u001b[0m\n\u001b[1;32m    883\u001b[0m \u001b[0;34m\u001b[0m\u001b[0m\n\u001b[1;32m    884\u001b[0m       \u001b[0;32mwith\u001b[0m \u001b[0mOptionalXlaContext\u001b[0m\u001b[0;34m(\u001b[0m\u001b[0mself\u001b[0m\u001b[0;34m.\u001b[0m\u001b[0m_jit_compile\u001b[0m\u001b[0;34m)\u001b[0m\u001b[0;34m:\u001b[0m\u001b[0;34m\u001b[0m\u001b[0;34m\u001b[0m\u001b[0m\n\u001b[0;32m--> 885\u001b[0;31m         \u001b[0mresult\u001b[0m \u001b[0;34m=\u001b[0m \u001b[0mself\u001b[0m\u001b[0;34m.\u001b[0m\u001b[0m_call\u001b[0m\u001b[0;34m(\u001b[0m\u001b[0;34m*\u001b[0m\u001b[0margs\u001b[0m\u001b[0;34m,\u001b[0m \u001b[0;34m**\u001b[0m\u001b[0mkwds\u001b[0m\u001b[0;34m)\u001b[0m\u001b[0;34m\u001b[0m\u001b[0;34m\u001b[0m\u001b[0m\n\u001b[0m\u001b[1;32m    886\u001b[0m \u001b[0;34m\u001b[0m\u001b[0m\n\u001b[1;32m    887\u001b[0m       \u001b[0mnew_tracing_count\u001b[0m \u001b[0;34m=\u001b[0m \u001b[0mself\u001b[0m\u001b[0;34m.\u001b[0m\u001b[0mexperimental_get_tracing_count\u001b[0m\u001b[0;34m(\u001b[0m\u001b[0;34m)\u001b[0m\u001b[0;34m\u001b[0m\u001b[0;34m\u001b[0m\u001b[0m\n",
            "\u001b[0;32m/usr/local/lib/python3.7/dist-packages/tensorflow/python/eager/def_function.py\u001b[0m in \u001b[0;36m_call\u001b[0;34m(self, *args, **kwds)\u001b[0m\n\u001b[1;32m    915\u001b[0m       \u001b[0;31m# In this case we have created variables on the first call, so we run the\u001b[0m\u001b[0;34m\u001b[0m\u001b[0;34m\u001b[0m\u001b[0;34m\u001b[0m\u001b[0m\n\u001b[1;32m    916\u001b[0m       \u001b[0;31m# defunned version which is guaranteed to never create variables.\u001b[0m\u001b[0;34m\u001b[0m\u001b[0;34m\u001b[0m\u001b[0;34m\u001b[0m\u001b[0m\n\u001b[0;32m--> 917\u001b[0;31m       \u001b[0;32mreturn\u001b[0m \u001b[0mself\u001b[0m\u001b[0;34m.\u001b[0m\u001b[0m_stateless_fn\u001b[0m\u001b[0;34m(\u001b[0m\u001b[0;34m*\u001b[0m\u001b[0margs\u001b[0m\u001b[0;34m,\u001b[0m \u001b[0;34m**\u001b[0m\u001b[0mkwds\u001b[0m\u001b[0;34m)\u001b[0m  \u001b[0;31m# pylint: disable=not-callable\u001b[0m\u001b[0;34m\u001b[0m\u001b[0;34m\u001b[0m\u001b[0m\n\u001b[0m\u001b[1;32m    918\u001b[0m     \u001b[0;32melif\u001b[0m \u001b[0mself\u001b[0m\u001b[0;34m.\u001b[0m\u001b[0m_stateful_fn\u001b[0m \u001b[0;32mis\u001b[0m \u001b[0;32mnot\u001b[0m \u001b[0;32mNone\u001b[0m\u001b[0;34m:\u001b[0m\u001b[0;34m\u001b[0m\u001b[0;34m\u001b[0m\u001b[0m\n\u001b[1;32m    919\u001b[0m       \u001b[0;31m# Release the lock early so that multiple threads can perform the call\u001b[0m\u001b[0;34m\u001b[0m\u001b[0;34m\u001b[0m\u001b[0;34m\u001b[0m\u001b[0m\n",
            "\u001b[0;32m/usr/local/lib/python3.7/dist-packages/tensorflow/python/eager/function.py\u001b[0m in \u001b[0;36m__call__\u001b[0;34m(self, *args, **kwargs)\u001b[0m\n\u001b[1;32m   3036\u001b[0m     \u001b[0;32mwith\u001b[0m \u001b[0mself\u001b[0m\u001b[0;34m.\u001b[0m\u001b[0m_lock\u001b[0m\u001b[0;34m:\u001b[0m\u001b[0;34m\u001b[0m\u001b[0;34m\u001b[0m\u001b[0m\n\u001b[1;32m   3037\u001b[0m       (graph_function,\n\u001b[0;32m-> 3038\u001b[0;31m        filtered_flat_args) = self._maybe_define_function(args, kwargs)\n\u001b[0m\u001b[1;32m   3039\u001b[0m     return graph_function._call_flat(\n\u001b[1;32m   3040\u001b[0m         filtered_flat_args, captured_inputs=graph_function.captured_inputs)  # pylint: disable=protected-access\n",
            "\u001b[0;32m/usr/local/lib/python3.7/dist-packages/tensorflow/python/eager/function.py\u001b[0m in \u001b[0;36m_maybe_define_function\u001b[0;34m(self, args, kwargs)\u001b[0m\n\u001b[1;32m   3458\u001b[0m               call_context_key in self._function_cache.missed):\n\u001b[1;32m   3459\u001b[0m             return self._define_function_with_shape_relaxation(\n\u001b[0;32m-> 3460\u001b[0;31m                 args, kwargs, flat_args, filtered_flat_args, cache_key_context)\n\u001b[0m\u001b[1;32m   3461\u001b[0m \u001b[0;34m\u001b[0m\u001b[0m\n\u001b[1;32m   3462\u001b[0m           \u001b[0mself\u001b[0m\u001b[0;34m.\u001b[0m\u001b[0m_function_cache\u001b[0m\u001b[0;34m.\u001b[0m\u001b[0mmissed\u001b[0m\u001b[0;34m.\u001b[0m\u001b[0madd\u001b[0m\u001b[0;34m(\u001b[0m\u001b[0mcall_context_key\u001b[0m\u001b[0;34m)\u001b[0m\u001b[0;34m\u001b[0m\u001b[0;34m\u001b[0m\u001b[0m\n",
            "\u001b[0;32m/usr/local/lib/python3.7/dist-packages/tensorflow/python/eager/function.py\u001b[0m in \u001b[0;36m_define_function_with_shape_relaxation\u001b[0;34m(self, args, kwargs, flat_args, filtered_flat_args, cache_key_context)\u001b[0m\n\u001b[1;32m   3380\u001b[0m \u001b[0;34m\u001b[0m\u001b[0m\n\u001b[1;32m   3381\u001b[0m     graph_function = self._create_graph_function(\n\u001b[0;32m-> 3382\u001b[0;31m         args, kwargs, override_flat_arg_shapes=relaxed_arg_shapes)\n\u001b[0m\u001b[1;32m   3383\u001b[0m     \u001b[0mself\u001b[0m\u001b[0;34m.\u001b[0m\u001b[0m_function_cache\u001b[0m\u001b[0;34m.\u001b[0m\u001b[0marg_relaxed\u001b[0m\u001b[0;34m[\u001b[0m\u001b[0mrank_only_cache_key\u001b[0m\u001b[0;34m]\u001b[0m \u001b[0;34m=\u001b[0m \u001b[0mgraph_function\u001b[0m\u001b[0;34m\u001b[0m\u001b[0;34m\u001b[0m\u001b[0m\n\u001b[1;32m   3384\u001b[0m \u001b[0;34m\u001b[0m\u001b[0m\n",
            "\u001b[0;32m/usr/local/lib/python3.7/dist-packages/tensorflow/python/eager/function.py\u001b[0m in \u001b[0;36m_create_graph_function\u001b[0;34m(self, args, kwargs, override_flat_arg_shapes)\u001b[0m\n\u001b[1;32m   3306\u001b[0m             \u001b[0marg_names\u001b[0m\u001b[0;34m=\u001b[0m\u001b[0marg_names\u001b[0m\u001b[0;34m,\u001b[0m\u001b[0;34m\u001b[0m\u001b[0;34m\u001b[0m\u001b[0m\n\u001b[1;32m   3307\u001b[0m             \u001b[0moverride_flat_arg_shapes\u001b[0m\u001b[0;34m=\u001b[0m\u001b[0moverride_flat_arg_shapes\u001b[0m\u001b[0;34m,\u001b[0m\u001b[0;34m\u001b[0m\u001b[0;34m\u001b[0m\u001b[0m\n\u001b[0;32m-> 3308\u001b[0;31m             capture_by_value=self._capture_by_value),\n\u001b[0m\u001b[1;32m   3309\u001b[0m         \u001b[0mself\u001b[0m\u001b[0;34m.\u001b[0m\u001b[0m_function_attributes\u001b[0m\u001b[0;34m,\u001b[0m\u001b[0;34m\u001b[0m\u001b[0;34m\u001b[0m\u001b[0m\n\u001b[1;32m   3310\u001b[0m         \u001b[0mfunction_spec\u001b[0m\u001b[0;34m=\u001b[0m\u001b[0mself\u001b[0m\u001b[0;34m.\u001b[0m\u001b[0mfunction_spec\u001b[0m\u001b[0;34m,\u001b[0m\u001b[0;34m\u001b[0m\u001b[0;34m\u001b[0m\u001b[0m\n",
            "\u001b[0;32m/usr/local/lib/python3.7/dist-packages/tensorflow/python/framework/func_graph.py\u001b[0m in \u001b[0;36mfunc_graph_from_py_func\u001b[0;34m(name, python_func, args, kwargs, signature, func_graph, autograph, autograph_options, add_control_dependencies, arg_names, op_return_value, collections, capture_by_value, override_flat_arg_shapes, acd_record_initial_resource_uses)\u001b[0m\n\u001b[1;32m   1005\u001b[0m         \u001b[0m_\u001b[0m\u001b[0;34m,\u001b[0m \u001b[0moriginal_func\u001b[0m \u001b[0;34m=\u001b[0m \u001b[0mtf_decorator\u001b[0m\u001b[0;34m.\u001b[0m\u001b[0munwrap\u001b[0m\u001b[0;34m(\u001b[0m\u001b[0mpython_func\u001b[0m\u001b[0;34m)\u001b[0m\u001b[0;34m\u001b[0m\u001b[0;34m\u001b[0m\u001b[0m\n\u001b[1;32m   1006\u001b[0m \u001b[0;34m\u001b[0m\u001b[0m\n\u001b[0;32m-> 1007\u001b[0;31m       \u001b[0mfunc_outputs\u001b[0m \u001b[0;34m=\u001b[0m \u001b[0mpython_func\u001b[0m\u001b[0;34m(\u001b[0m\u001b[0;34m*\u001b[0m\u001b[0mfunc_args\u001b[0m\u001b[0;34m,\u001b[0m \u001b[0;34m**\u001b[0m\u001b[0mfunc_kwargs\u001b[0m\u001b[0;34m)\u001b[0m\u001b[0;34m\u001b[0m\u001b[0;34m\u001b[0m\u001b[0m\n\u001b[0m\u001b[1;32m   1008\u001b[0m \u001b[0;34m\u001b[0m\u001b[0m\n\u001b[1;32m   1009\u001b[0m       \u001b[0;31m# invariant: `func_outputs` contains only Tensors, CompositeTensors,\u001b[0m\u001b[0;34m\u001b[0m\u001b[0;34m\u001b[0m\u001b[0;34m\u001b[0m\u001b[0m\n",
            "\u001b[0;32m/usr/local/lib/python3.7/dist-packages/tensorflow/python/eager/def_function.py\u001b[0m in \u001b[0;36mwrapped_fn\u001b[0;34m(*args, **kwds)\u001b[0m\n\u001b[1;32m    666\u001b[0m         \u001b[0;31m# the function a weak reference to itself to avoid a reference cycle.\u001b[0m\u001b[0;34m\u001b[0m\u001b[0;34m\u001b[0m\u001b[0;34m\u001b[0m\u001b[0m\n\u001b[1;32m    667\u001b[0m         \u001b[0;32mwith\u001b[0m \u001b[0mOptionalXlaContext\u001b[0m\u001b[0;34m(\u001b[0m\u001b[0mcompile_with_xla\u001b[0m\u001b[0;34m)\u001b[0m\u001b[0;34m:\u001b[0m\u001b[0;34m\u001b[0m\u001b[0;34m\u001b[0m\u001b[0m\n\u001b[0;32m--> 668\u001b[0;31m           \u001b[0mout\u001b[0m \u001b[0;34m=\u001b[0m \u001b[0mweak_wrapped_fn\u001b[0m\u001b[0;34m(\u001b[0m\u001b[0;34m)\u001b[0m\u001b[0;34m.\u001b[0m\u001b[0m__wrapped__\u001b[0m\u001b[0;34m(\u001b[0m\u001b[0;34m*\u001b[0m\u001b[0margs\u001b[0m\u001b[0;34m,\u001b[0m \u001b[0;34m**\u001b[0m\u001b[0mkwds\u001b[0m\u001b[0;34m)\u001b[0m\u001b[0;34m\u001b[0m\u001b[0;34m\u001b[0m\u001b[0m\n\u001b[0m\u001b[1;32m    669\u001b[0m         \u001b[0;32mreturn\u001b[0m \u001b[0mout\u001b[0m\u001b[0;34m\u001b[0m\u001b[0;34m\u001b[0m\u001b[0m\n\u001b[1;32m    670\u001b[0m \u001b[0;34m\u001b[0m\u001b[0m\n",
            "\u001b[0;32m/usr/local/lib/python3.7/dist-packages/tensorflow/python/framework/func_graph.py\u001b[0m in \u001b[0;36mwrapper\u001b[0;34m(*args, **kwargs)\u001b[0m\n\u001b[1;32m    992\u001b[0m           \u001b[0;32mexcept\u001b[0m \u001b[0mException\u001b[0m \u001b[0;32mas\u001b[0m \u001b[0me\u001b[0m\u001b[0;34m:\u001b[0m  \u001b[0;31m# pylint:disable=broad-except\u001b[0m\u001b[0;34m\u001b[0m\u001b[0;34m\u001b[0m\u001b[0m\n\u001b[1;32m    993\u001b[0m             \u001b[0;32mif\u001b[0m \u001b[0mhasattr\u001b[0m\u001b[0;34m(\u001b[0m\u001b[0me\u001b[0m\u001b[0;34m,\u001b[0m \u001b[0;34m\"ag_error_metadata\"\u001b[0m\u001b[0;34m)\u001b[0m\u001b[0;34m:\u001b[0m\u001b[0;34m\u001b[0m\u001b[0;34m\u001b[0m\u001b[0m\n\u001b[0;32m--> 994\u001b[0;31m               \u001b[0;32mraise\u001b[0m \u001b[0me\u001b[0m\u001b[0;34m.\u001b[0m\u001b[0mag_error_metadata\u001b[0m\u001b[0;34m.\u001b[0m\u001b[0mto_exception\u001b[0m\u001b[0;34m(\u001b[0m\u001b[0me\u001b[0m\u001b[0;34m)\u001b[0m\u001b[0;34m\u001b[0m\u001b[0;34m\u001b[0m\u001b[0m\n\u001b[0m\u001b[1;32m    995\u001b[0m             \u001b[0;32melse\u001b[0m\u001b[0;34m:\u001b[0m\u001b[0;34m\u001b[0m\u001b[0;34m\u001b[0m\u001b[0m\n\u001b[1;32m    996\u001b[0m               \u001b[0;32mraise\u001b[0m\u001b[0;34m\u001b[0m\u001b[0;34m\u001b[0m\u001b[0m\n",
            "\u001b[0;31mValueError\u001b[0m: in user code:\n\n    /usr/local/lib/python3.7/dist-packages/keras/engine/training.py:853 train_function  *\n        return step_function(self, iterator)\n    /usr/local/lib/python3.7/dist-packages/keras/engine/training.py:842 step_function  **\n        outputs = model.distribute_strategy.run(run_step, args=(data,))\n    /usr/local/lib/python3.7/dist-packages/tensorflow/python/distribute/distribute_lib.py:1286 run\n        return self._extended.call_for_each_replica(fn, args=args, kwargs=kwargs)\n    /usr/local/lib/python3.7/dist-packages/tensorflow/python/distribute/distribute_lib.py:2849 call_for_each_replica\n        return self._call_for_each_replica(fn, args, kwargs)\n    /usr/local/lib/python3.7/dist-packages/tensorflow/python/distribute/distribute_lib.py:3632 _call_for_each_replica\n        return fn(*args, **kwargs)\n    /usr/local/lib/python3.7/dist-packages/keras/engine/training.py:835 run_step  **\n        outputs = model.train_step(data)\n    /usr/local/lib/python3.7/dist-packages/keras/engine/training.py:787 train_step\n        y_pred = self(x, training=True)\n    /usr/local/lib/python3.7/dist-packages/keras/engine/base_layer.py:1020 __call__\n        input_spec.assert_input_compatibility(self.input_spec, inputs, self.name)\n    /usr/local/lib/python3.7/dist-packages/keras/engine/input_spec.py:254 assert_input_compatibility\n        ' but received input with shape ' + display_shape(x.shape))\n\n    ValueError: Input 0 of layer Modelo_Zalando3 is incompatible with the layer: expected axis -1 of input shape to have value 784 but received input with shape (None, 28, 28)\n"
          ]
        }
      ]
    },
    {
      "cell_type": "markdown",
      "metadata": {
        "id": "8v43C794EKJa"
      },
      "source": [
        "Hay un problema al usar el nuevo optimizador con la función de pérdida."
      ]
    },
    {
      "cell_type": "markdown",
      "metadata": {
        "id": "lYGk_C04rqov"
      },
      "source": [
        "#Caso 4"
      ]
    },
    {
      "cell_type": "markdown",
      "metadata": {
        "id": "u7F2ZZLfr3-w"
      },
      "source": [
        "Se mantiene la función de activación sigmoid"
      ]
    },
    {
      "cell_type": "code",
      "metadata": {
        "colab": {
          "base_uri": "https://localhost:8080/"
        },
        "id": "RG22HPBXrvfo",
        "outputId": "bb15a9a9-6040-4ba8-a8fa-b42fe459f128"
      },
      "source": [
        "network = models.Sequential(name='Modelo_Zalando4')\n",
        "network.add(layers.Dense(10, activation='sigmoid', input_shape=(28*28,), name='Neurona1'))\n",
        "network.add(layers.Dense(10, activation='softmax', name='Neurona2'),)\n",
        "network.summary()"
      ],
      "execution_count": null,
      "outputs": [
        {
          "output_type": "stream",
          "name": "stdout",
          "text": [
            "Model: \"Modelo_Zalando4\"\n",
            "_________________________________________________________________\n",
            "Layer (type)                 Output Shape              Param #   \n",
            "=================================================================\n",
            "Neurona1 (Dense)             (None, 10)                7850      \n",
            "_________________________________________________________________\n",
            "Neurona2 (Dense)             (None, 10)                110       \n",
            "=================================================================\n",
            "Total params: 7,960\n",
            "Trainable params: 7,960\n",
            "Non-trainable params: 0\n",
            "_________________________________________________________________\n"
          ]
        }
      ]
    },
    {
      "cell_type": "markdown",
      "metadata": {
        "id": "ZUkkfmwbsB7h"
      },
      "source": [
        "Según el summary, tenemos 2 capas neuronales de tipo dense de las cuales cada neurona de la primera capa estyá conectada a cada una de la segunda capa y, de la segunda capa salen 10 \"respuestas\" que equivaldrían a cada tipo de prenda de ropa. "
      ]
    },
    {
      "cell_type": "markdown",
      "metadata": {
        "id": "F-cA3VygsFjo"
      },
      "source": [
        "A estas alturas, podríamos asumir que, en el summary no va a cambiar nada a pesar de que cambiemos la función de activación (ni el optimizador). Eso si, al cambiar el numero de neuronas, como pasará a continuación, veremos cambios."
      ]
    },
    {
      "cell_type": "markdown",
      "metadata": {
        "id": "9bcUHJn_sccZ"
      },
      "source": [
        "Ahora volvemos al optimizador rmsprop"
      ]
    },
    {
      "cell_type": "code",
      "metadata": {
        "id": "wZaU2oNTsbIh"
      },
      "source": [
        "network.compile(optimizer='rmsprop', \n",
        "                loss='categorical_crossentropy',\n",
        "                metrics=['accuracy'])"
      ],
      "execution_count": null,
      "outputs": []
    },
    {
      "cell_type": "code",
      "metadata": {
        "colab": {
          "base_uri": "https://localhost:8080/"
        },
        "id": "OGw_2rhisoZo",
        "outputId": "486acbd0-dc01-4ee2-83c1-4c4b4d897faf"
      },
      "source": [
        "network.fit(train_images, train_labels, epochs=5, batch_size=128)"
      ],
      "execution_count": null,
      "outputs": [
        {
          "output_type": "stream",
          "name": "stdout",
          "text": [
            "Epoch 1/5\n",
            "469/469 [==============================] - 2s 4ms/step - loss: 1.4844 - accuracy: 0.5913\n",
            "Epoch 2/5\n",
            "469/469 [==============================] - 2s 4ms/step - loss: 0.8522 - accuracy: 0.7865\n",
            "Epoch 3/5\n",
            "469/469 [==============================] - 2s 4ms/step - loss: 0.6270 - accuracy: 0.8120\n",
            "Epoch 4/5\n",
            "469/469 [==============================] - 2s 4ms/step - loss: 0.5407 - accuracy: 0.8251\n",
            "Epoch 5/5\n",
            "469/469 [==============================] - 2s 4ms/step - loss: 0.4982 - accuracy: 0.8340\n"
          ]
        },
        {
          "output_type": "execute_result",
          "data": {
            "text/plain": [
              "<keras.callbacks.History at 0x7f028d7eb250>"
            ]
          },
          "metadata": {},
          "execution_count": 524
        }
      ]
    },
    {
      "cell_type": "code",
      "metadata": {
        "colab": {
          "base_uri": "https://localhost:8080/"
        },
        "id": "hdh7XFROstla",
        "outputId": "067477ca-05f6-4e8c-a7fa-7dc5818b5f91"
      },
      "source": [
        "# 8.- VERIFICAMOS NUESTRO MODELO YA ENTRENADO, CONTRA EL CONJUNTO DE PRUEBAS\n",
        "test_loss, test_acc = network.evaluate(test_images, test_labels)"
      ],
      "execution_count": null,
      "outputs": [
        {
          "output_type": "stream",
          "name": "stdout",
          "text": [
            "313/313 [==============================] - 1s 3ms/step - loss: 0.5165 - accuracy: 0.8225\n"
          ]
        }
      ]
    },
    {
      "cell_type": "code",
      "metadata": {
        "colab": {
          "base_uri": "https://localhost:8080/"
        },
        "id": "eIxsdA7LswBB",
        "outputId": "14908801-47c2-4e97-e24a-86532688f1ec"
      },
      "source": [
        "print('Precisión del test:', test_acc)"
      ],
      "execution_count": null,
      "outputs": [
        {
          "output_type": "stream",
          "name": "stdout",
          "text": [
            "Precisión del test: 0.8224999904632568\n"
          ]
        }
      ]
    },
    {
      "cell_type": "markdown",
      "metadata": {
        "id": "0AzovsJTswt5"
      },
      "source": [
        "Para el caso 4, con sigmoid y rmsprop, hemos mejorado del caso anterior. Se podría decir que esta combinación de función de activación y optimizador es mejor que la del caso 3."
      ]
    },
    {
      "cell_type": "markdown",
      "metadata": {
        "id": "o40LAlDXtADJ"
      },
      "source": [
        "Ahora se mostrará la matriz de confusión:"
      ]
    },
    {
      "cell_type": "code",
      "metadata": {
        "colab": {
          "base_uri": "https://localhost:8080/"
        },
        "id": "1A4dNoSBtFeS",
        "outputId": "9cc57b7b-928b-4272-e963-8459e2e0a557"
      },
      "source": [
        "Y_pred = network.predict(test_images)\n",
        "# Convert predictions classes to one hot vectors \n",
        "Y_pred_classes = np.argmax(Y_pred, axis = 1) \n",
        "# Convert validation observations to one hot vectors\n",
        "Y_true = np.argmax(test_labels, axis = 1) \n",
        "# compute the confusion matrix\n",
        "confusion_mtx = confusion_matrix(Y_true, Y_pred_classes) \n",
        "# plot the confusion matrix\n",
        "plot_confusion_matrix(confusion_mtx, classes = range(10))"
      ],
      "execution_count": null,
      "outputs": [
        {
          "output_type": "display_data",
          "data": {
            "image/png": "[encoded data removed]",
            "text/plain": [
              "<Figure size 432x288 with 2 Axes>"
            ]
          },
          "metadata": {
            "needs_background": "light"
          }
        }
      ]
    },
    {
      "cell_type": "markdown",
      "metadata": {
        "id": "WlNBqjYAtHZi"
      },
      "source": [
        "Efectivamente, falla menos que el caso anterior."
      ]
    },
    {
      "cell_type": "markdown",
      "metadata": {
        "id": "eOTPi4R67BYP"
      },
      "source": [
        "##Apartado 4"
      ]
    },
    {
      "cell_type": "markdown",
      "metadata": {
        "id": "-7MJj1a_7DbB"
      },
      "source": [
        "**IMPORTANTE: No ejecutar este entrenamiento ni los siguientes si se entrenó anteriormente la RNA.**"
      ]
    },
    {
      "cell_type": "code",
      "metadata": {
        "id": "RT-rYMuR7DbB"
      },
      "source": [
        "train_images1= train_images[:50000]\n",
        "train_labels1=train_labels[:50000]\n",
        "test_images1=train_images[50000:]\n",
        "test_labels1=train_labels[50000:]\n"
      ],
      "execution_count": null,
      "outputs": []
    },
    {
      "cell_type": "code",
      "metadata": {
        "colab": {
          "base_uri": "https://localhost:8080/"
        },
        "id": "_hA3azx57DbB",
        "outputId": "4747a47d-61d2-49c3-ec05-964fe7fb24b0"
      },
      "source": [
        "network.fit(train_images1, train_labels1, epochs=5, batch_size=128)"
      ],
      "execution_count": null,
      "outputs": [
        {
          "output_type": "stream",
          "name": "stdout",
          "text": [
            "Epoch 1/5\n",
            "391/391 [==============================] - 1s 4ms/step - loss: 0.4747 - accuracy: 0.8388\n",
            "Epoch 2/5\n",
            "391/391 [==============================] - 1s 4ms/step - loss: 0.4590 - accuracy: 0.8430\n",
            "Epoch 3/5\n",
            "391/391 [==============================] - 1s 4ms/step - loss: 0.4470 - accuracy: 0.8451\n",
            "Epoch 4/5\n",
            "391/391 [==============================] - 1s 4ms/step - loss: 0.4366 - accuracy: 0.8487\n",
            "Epoch 5/5\n",
            "391/391 [==============================] - 1s 4ms/step - loss: 0.4282 - accuracy: 0.8509\n"
          ]
        },
        {
          "output_type": "execute_result",
          "data": {
            "text/plain": [
              "<keras.callbacks.History at 0x7f028dd63d10>"
            ]
          },
          "metadata": {},
          "execution_count": 529
        }
      ]
    },
    {
      "cell_type": "code",
      "metadata": {
        "colab": {
          "base_uri": "https://localhost:8080/"
        },
        "id": "NRo9Q25s7DbB",
        "outputId": "012e95e7-a978-44dc-d207-eca24b54b61d"
      },
      "source": [
        "# 8.- VERIFICAMOS NUESTRO MODELO YA ENTRENADO, CONTRA EL CONJUNTO DE PRUEBAS\n",
        "test_loss, test_acc = network.evaluate(test_images1, test_labels1)"
      ],
      "execution_count": null,
      "outputs": [
        {
          "output_type": "stream",
          "name": "stdout",
          "text": [
            "313/313 [==============================] - 1s 3ms/step - loss: 0.4400 - accuracy: 0.8478\n"
          ]
        }
      ]
    },
    {
      "cell_type": "code",
      "metadata": {
        "colab": {
          "base_uri": "https://localhost:8080/"
        },
        "id": "3jCdEF6d7DbC",
        "outputId": "8ae458b1-dd42-4dd3-ad65-84b858fa2c92"
      },
      "source": [
        "print('Precisión del test:', test_acc)\n",
        "# test_acc: 0.9777"
      ],
      "execution_count": null,
      "outputs": [
        {
          "output_type": "stream",
          "name": "stdout",
          "text": [
            "Precisión del test: 0.8478000164031982\n"
          ]
        }
      ]
    },
    {
      "cell_type": "markdown",
      "metadata": {
        "id": "M-PvuaoHA76G"
      },
      "source": [
        "##Apartado 5"
      ]
    },
    {
      "cell_type": "markdown",
      "metadata": {
        "id": "y8vhoq13A76G"
      },
      "source": [
        "Para este apartado, vamos a predecir la imagen 6"
      ]
    },
    {
      "cell_type": "code",
      "metadata": {
        "colab": {
          "base_uri": "https://localhost:8080/"
        },
        "id": "grO9pLgtA76G",
        "outputId": "80ad9d88-a4ce-4733-86a5-3224f30a62d1"
      },
      "source": [
        "i = 6\n",
        "plt.figure(figsize=(6,3))\n",
        "plt.subplot(1,2,1)\n",
        "plot_image(i, predictions[i], test_labels0, test_images0.reshape(10000,28,28))\n",
        "plt.subplot(1,2,2)\n",
        "plot_value_array(i, predictions[i], test_labels0)\n",
        "plt.show()"
      ],
      "execution_count": null,
      "outputs": [
        {
          "output_type": "display_data",
          "data": {
            "image/png": "[encoded data removed]",
            "text/plain": [
              "<Figure size 432x216 with 2 Axes>"
            ]
          },
          "metadata": {
            "needs_background": "light"
          }
        }
      ]
    },
    {
      "cell_type": "markdown",
      "metadata": {
        "id": "Be1U_KnWtNgA"
      },
      "source": [
        "#Caso 5"
      ]
    },
    {
      "cell_type": "markdown",
      "metadata": {
        "id": "5rNMFouUtQkp"
      },
      "source": [
        "A partir de este caso, aumentamos el número de neuronas a 512 (en la primera capa), a ver si apreciamos algun cambio."
      ]
    },
    {
      "cell_type": "markdown",
      "metadata": {
        "id": "jEiYysZJtrep"
      },
      "source": [
        "Usamos la función relu de nuevo y con el optimizador sgd:"
      ]
    },
    {
      "cell_type": "code",
      "metadata": {
        "colab": {
          "base_uri": "https://localhost:8080/"
        },
        "id": "61piIOb1tQvJ",
        "outputId": "755d4dff-4405-4232-fad7-0dca1f65acf8"
      },
      "source": [
        "network = models.Sequential(name='Modelo_Zalando5')\n",
        "network.add(layers.Dense(512, activation='relu', input_shape=(28*28,), name='Neurona1'))\n",
        "network.add(layers.Dense(10, activation='softmax', name='Neurona2'),)\n",
        "network.summary()"
      ],
      "execution_count": null,
      "outputs": [
        {
          "output_type": "stream",
          "name": "stdout",
          "text": [
            "Model: \"Modelo_Zalando5\"\n",
            "_________________________________________________________________\n",
            "Layer (type)                 Output Shape              Param #   \n",
            "=================================================================\n",
            "Neurona1 (Dense)             (None, 512)               401920    \n",
            "_________________________________________________________________\n",
            "Neurona2 (Dense)             (None, 10)                5130      \n",
            "=================================================================\n",
            "Total params: 407,050\n",
            "Trainable params: 407,050\n",
            "Non-trainable params: 0\n",
            "_________________________________________________________________\n"
          ]
        }
      ]
    },
    {
      "cell_type": "markdown",
      "metadata": {
        "id": "Ua55APcrtzU7"
      },
      "source": [
        "Aqí lo que cambia es el número de interacciones entre las neuronas, que serán más. Por el resto, sigue comportándose como las anteriores."
      ]
    },
    {
      "cell_type": "code",
      "metadata": {
        "id": "C7y_bNpkuAqq"
      },
      "source": [
        "network.compile(optimizer='sgd', \n",
        "                loss='categorical_crossentropy',\n",
        "                metrics=['accuracy'])"
      ],
      "execution_count": null,
      "outputs": []
    },
    {
      "cell_type": "code",
      "metadata": {
        "colab": {
          "base_uri": "https://localhost:8080/"
        },
        "id": "wUXfmPiLuBJp",
        "outputId": "bd843599-bbe4-44de-b770-8ce9894f8910"
      },
      "source": [
        "network.fit(train_images, train_labels, epochs=5, batch_size=128)"
      ],
      "execution_count": null,
      "outputs": [
        {
          "output_type": "stream",
          "name": "stdout",
          "text": [
            "Epoch 1/5\n",
            "469/469 [==============================] - 2s 4ms/step - loss: 1.0042 - accuracy: 0.6970\n",
            "Epoch 2/5\n",
            "469/469 [==============================] - 2s 4ms/step - loss: 0.6510 - accuracy: 0.7940\n",
            "Epoch 3/5\n",
            "469/469 [==============================] - 2s 3ms/step - loss: 0.5758 - accuracy: 0.8143\n",
            "Epoch 4/5\n",
            "469/469 [==============================] - 2s 4ms/step - loss: 0.5361 - accuracy: 0.8244\n",
            "Epoch 5/5\n",
            "469/469 [==============================] - 2s 4ms/step - loss: 0.5098 - accuracy: 0.8314\n"
          ]
        },
        {
          "output_type": "execute_result",
          "data": {
            "text/plain": [
              "<keras.callbacks.History at 0x7f028dd67590>"
            ]
          },
          "metadata": {},
          "execution_count": 535
        }
      ]
    },
    {
      "cell_type": "code",
      "metadata": {
        "colab": {
          "base_uri": "https://localhost:8080/"
        },
        "id": "vX2XXwjWvLir",
        "outputId": "c8e65135-ffdd-4fe4-f6f7-1a906d47c7b9"
      },
      "source": [
        "# 8.- VERIFICAMOS NUESTRO MODELO YA ENTRENADO, CONTRA EL CONJUNTO DE PRUEBAS\n",
        "test_loss, test_acc = network.evaluate(test_images, test_labels)"
      ],
      "execution_count": null,
      "outputs": [
        {
          "output_type": "stream",
          "name": "stdout",
          "text": [
            "313/313 [==============================] - 1s 3ms/step - loss: 0.5235 - accuracy: 0.8234\n"
          ]
        }
      ]
    },
    {
      "cell_type": "code",
      "metadata": {
        "colab": {
          "base_uri": "https://localhost:8080/"
        },
        "id": "z0NcVKZNvOG6",
        "outputId": "d064bb1a-6c39-4147-c114-51760be46d4e"
      },
      "source": [
        "print('Precisión del test:', test_acc)"
      ],
      "execution_count": null,
      "outputs": [
        {
          "output_type": "stream",
          "name": "stdout",
          "text": [
            "Precisión del test: 0.8234000205993652\n"
          ]
        }
      ]
    },
    {
      "cell_type": "markdown",
      "metadata": {
        "id": "e61CreFNvQmy"
      },
      "source": [
        "En el caso 5, al haber aumentado las neuronas, ha aumentado ligeramente la precisión en comparación con el caso 1 (que tiene la misma función de activación y optimizador que este caso)."
      ]
    },
    {
      "cell_type": "markdown",
      "metadata": {
        "id": "OJKu5EzBvj78"
      },
      "source": [
        "A continuación, la matriz de confusión."
      ]
    },
    {
      "cell_type": "code",
      "metadata": {
        "colab": {
          "base_uri": "https://localhost:8080/",
          "height": 311
        },
        "id": "pfQ0aimVvm_y",
        "outputId": "a123d493-2544-4f11-ec79-e0737b92de9b"
      },
      "source": [
        "Y_pred = network.predict(test_images)\n",
        "# Convert predictions classes to one hot vectors \n",
        "Y_pred_classes = np.argmax(Y_pred, axis = 1) \n",
        "# Convert validation observations to one hot vectors\n",
        "Y_true = np.argmax(test_labels, axis = 1) \n",
        "# compute the confusion matrix\n",
        "confusion_mtx = confusion_matrix(Y_true, Y_pred_classes) \n",
        "# plot the confusion matrix\n",
        "plot_confusion_matrix(confusion_mtx, classes = range(10))"
      ],
      "execution_count": null,
      "outputs": [
        {
          "output_type": "display_data",
          "data": {
            "image/png": "[encoded data removed]",
            "text/plain": [
              "<Figure size 432x288 with 2 Axes>"
            ]
          },
          "metadata": {
            "needs_background": "light"
          }
        }
      ]
    },
    {
      "cell_type": "markdown",
      "metadata": {
        "id": "LJWx21HqvuAZ"
      },
      "source": [
        "A medida que vamos viendo las distintas matrices, podemos observar que algunas prendas, como la camisa (6) suelen confundirse con otras, como con la camiseta (0) y con el jersey(2)."
      ]
    },
    {
      "cell_type": "markdown",
      "metadata": {
        "id": "wrJuQzlP7FrF"
      },
      "source": [
        "##Apartado 4"
      ]
    },
    {
      "cell_type": "markdown",
      "metadata": {
        "id": "QOZ92maY7Kfm"
      },
      "source": [
        "**IMPORTANTE: No ejecutar este entrenamiento ni los siguientes si se entrenó anteriormente la RNA.**"
      ]
    },
    {
      "cell_type": "code",
      "metadata": {
        "id": "qP5MadZF7Kfm"
      },
      "source": [
        "train_images1= train_images[:50000]\n",
        "train_labels1=train_labels[:50000]\n",
        "test_images1=train_images[50000:]\n",
        "test_labels1=train_labels[50000:]\n"
      ],
      "execution_count": null,
      "outputs": []
    },
    {
      "cell_type": "code",
      "metadata": {
        "colab": {
          "base_uri": "https://localhost:8080/"
        },
        "id": "aOX038SE7Kfm",
        "outputId": "b3d2d5ba-5eca-414c-911c-1daffc7c5ac1"
      },
      "source": [
        "network.fit(train_images1, train_labels1, epochs=5, batch_size=128)"
      ],
      "execution_count": null,
      "outputs": [
        {
          "output_type": "stream",
          "name": "stdout",
          "text": [
            "Epoch 1/5\n",
            "391/391 [==============================] - 1s 4ms/step - loss: 0.4917 - accuracy: 0.8369\n",
            "Epoch 2/5\n",
            "391/391 [==============================] - 1s 4ms/step - loss: 0.4786 - accuracy: 0.8402\n",
            "Epoch 3/5\n",
            "391/391 [==============================] - 1s 3ms/step - loss: 0.4675 - accuracy: 0.8436\n",
            "Epoch 4/5\n",
            "391/391 [==============================] - 1s 3ms/step - loss: 0.4587 - accuracy: 0.8453\n",
            "Epoch 5/5\n",
            "391/391 [==============================] - 1s 3ms/step - loss: 0.4513 - accuracy: 0.8489\n"
          ]
        },
        {
          "output_type": "execute_result",
          "data": {
            "text/plain": [
              "<keras.callbacks.History at 0x7f028d3f1fd0>"
            ]
          },
          "metadata": {},
          "execution_count": 540
        }
      ]
    },
    {
      "cell_type": "code",
      "metadata": {
        "colab": {
          "base_uri": "https://localhost:8080/"
        },
        "id": "9kODEi9v7Kfn",
        "outputId": "c65ef5c5-a1f9-402e-f575-b2fb259afc0c"
      },
      "source": [
        "# 8.- VERIFICAMOS NUESTRO MODELO YA ENTRENADO, CONTRA EL CONJUNTO DE PRUEBAS\n",
        "test_loss, test_acc = network.evaluate(test_images1, test_labels1)"
      ],
      "execution_count": null,
      "outputs": [
        {
          "output_type": "stream",
          "name": "stdout",
          "text": [
            "313/313 [==============================] - 1s 3ms/step - loss: 0.4551 - accuracy: 0.8382\n"
          ]
        }
      ]
    },
    {
      "cell_type": "code",
      "metadata": {
        "colab": {
          "base_uri": "https://localhost:8080/"
        },
        "id": "ZGnlA1oV7Kfn",
        "outputId": "11df51bb-7af3-412a-9773-52005448649a"
      },
      "source": [
        "print('Precisión del test:', test_acc)\n",
        "# test_acc: 0.9777"
      ],
      "execution_count": null,
      "outputs": [
        {
          "output_type": "stream",
          "name": "stdout",
          "text": [
            "Precisión del test: 0.8381999731063843\n"
          ]
        }
      ]
    },
    {
      "cell_type": "markdown",
      "metadata": {
        "id": "9Yq8FNA3A9ai"
      },
      "source": [
        "##Apartado 5"
      ]
    },
    {
      "cell_type": "markdown",
      "metadata": {
        "id": "_-n6LS0eA9ai"
      },
      "source": [
        "Para este apartado, vamos a predecir la imagen 6"
      ]
    },
    {
      "cell_type": "code",
      "metadata": {
        "colab": {
          "base_uri": "https://localhost:8080/",
          "height": 211
        },
        "id": "oZC8XvHaA9ai",
        "outputId": "b29cee88-6113-4e0d-b3f9-c2d9b27dc225"
      },
      "source": [
        "i = 6\n",
        "plt.figure(figsize=(6,3))\n",
        "plt.subplot(1,2,1)\n",
        "plot_image(i, predictions[i], test_labels0, test_images0.reshape(10000,28,28))\n",
        "plt.subplot(1,2,2)\n",
        "plot_value_array(i, predictions[i], test_labels0)\n",
        "plt.show()"
      ],
      "execution_count": null,
      "outputs": [
        {
          "output_type": "display_data",
          "data": {
            "image/png": "[encoded data removed]",
            "text/plain": [
              "<Figure size 432x216 with 2 Axes>"
            ]
          },
          "metadata": {
            "needs_background": "light"
          }
        }
      ]
    },
    {
      "cell_type": "markdown",
      "metadata": {
        "id": "J8ZSFHFkwCf7"
      },
      "source": [
        "#Caso 6"
      ]
    },
    {
      "cell_type": "markdown",
      "metadata": {
        "id": "TWlLluxZwEEi"
      },
      "source": [
        "En este caso, usamos el optimizador rmsprop."
      ]
    },
    {
      "cell_type": "code",
      "metadata": {
        "colab": {
          "base_uri": "https://localhost:8080/"
        },
        "id": "Ek9m8pSpwL7i",
        "outputId": "9c71b859-d247-4ec0-eb78-83a4eb129340"
      },
      "source": [
        "network = models.Sequential(name='Modelo_Zalando6')\n",
        "network.add(layers.Dense(512, activation='relu', input_shape=(28*28,), name='Neurona1'))\n",
        "network.add(layers.Dense(10, activation='softmax', name='Neurona2'),)\n",
        "network.summary()"
      ],
      "execution_count": null,
      "outputs": [
        {
          "output_type": "stream",
          "name": "stdout",
          "text": [
            "Model: \"Modelo_Zalando6\"\n",
            "_________________________________________________________________\n",
            "Layer (type)                 Output Shape              Param #   \n",
            "=================================================================\n",
            "Neurona1 (Dense)             (None, 512)               401920    \n",
            "_________________________________________________________________\n",
            "Neurona2 (Dense)             (None, 10)                5130      \n",
            "=================================================================\n",
            "Total params: 407,050\n",
            "Trainable params: 407,050\n",
            "Non-trainable params: 0\n",
            "_________________________________________________________________\n"
          ]
        }
      ]
    },
    {
      "cell_type": "markdown",
      "metadata": {
        "id": "ycKb7GhAwUnx"
      },
      "source": [
        "Exactamente como el caso anterior."
      ]
    },
    {
      "cell_type": "markdown",
      "metadata": {
        "id": "vL3jXIjbwZv6"
      },
      "source": [
        "Ahora cambiamos el optimizador."
      ]
    },
    {
      "cell_type": "code",
      "metadata": {
        "id": "oTJsHw1kwXTj"
      },
      "source": [
        "network.compile(optimizer='rmsprop', \n",
        "                loss='categorical_crossentropy',\n",
        "                metrics=['accuracy'])"
      ],
      "execution_count": null,
      "outputs": []
    },
    {
      "cell_type": "code",
      "metadata": {
        "colab": {
          "base_uri": "https://localhost:8080/"
        },
        "id": "GjTPEdXFwr8D",
        "outputId": "6fba632c-470d-4ffa-ee7d-eb46c3f5e1b7"
      },
      "source": [
        "network.fit(train_images, train_labels, epochs=5, batch_size=128)"
      ],
      "execution_count": null,
      "outputs": [
        {
          "output_type": "stream",
          "name": "stdout",
          "text": [
            "Epoch 1/5\n",
            "469/469 [==============================] - 2s 4ms/step - loss: 0.5585 - accuracy: 0.8020\n",
            "Epoch 2/5\n",
            "469/469 [==============================] - 2s 4ms/step - loss: 0.3812 - accuracy: 0.8591\n",
            "Epoch 3/5\n",
            "469/469 [==============================] - 2s 4ms/step - loss: 0.3364 - accuracy: 0.8748\n",
            "Epoch 4/5\n",
            "469/469 [==============================] - 2s 4ms/step - loss: 0.3126 - accuracy: 0.8854\n",
            "Epoch 5/5\n",
            "469/469 [==============================] - 2s 4ms/step - loss: 0.2926 - accuracy: 0.8928\n"
          ]
        },
        {
          "output_type": "execute_result",
          "data": {
            "text/plain": [
              "<keras.callbacks.History at 0x7f028d3f1710>"
            ]
          },
          "metadata": {},
          "execution_count": 546
        }
      ]
    },
    {
      "cell_type": "code",
      "metadata": {
        "colab": {
          "base_uri": "https://localhost:8080/"
        },
        "id": "qQZ6IfYswwxD",
        "outputId": "a695f971-c453-491f-f1a6-95015a0119e2"
      },
      "source": [
        "# 8.- VERIFICAMOS NUESTRO MODELO YA ENTRENADO, CONTRA EL CONJUNTO DE PRUEBAS\n",
        "test_loss, test_acc = network.evaluate(test_images, test_labels)"
      ],
      "execution_count": null,
      "outputs": [
        {
          "output_type": "stream",
          "name": "stdout",
          "text": [
            "313/313 [==============================] - 1s 3ms/step - loss: 0.3524 - accuracy: 0.8764\n"
          ]
        }
      ]
    },
    {
      "cell_type": "code",
      "metadata": {
        "colab": {
          "base_uri": "https://localhost:8080/"
        },
        "id": "3msN4mYCwzJS",
        "outputId": "c6d4cf25-a995-40cd-ebb2-c359941da1ac"
      },
      "source": [
        "print('Precisión del test:', test_acc)"
      ],
      "execution_count": null,
      "outputs": [
        {
          "output_type": "stream",
          "name": "stdout",
          "text": [
            "Precisión del test: 0.8763999938964844\n"
          ]
        }
      ]
    },
    {
      "cell_type": "markdown",
      "metadata": {
        "id": "XIKOZk5Zw0Mr"
      },
      "source": [
        "En este caso, hemos obtenido un 85% de precisión: Un resultado bastante alto en comparación con algunos anteriores. Esta combinación parece buena para la red neuronal. También mejora del caso 2 al aumentar el número de neuronas."
      ]
    },
    {
      "cell_type": "markdown",
      "metadata": {
        "id": "Xy9r4hbyxP0s"
      },
      "source": [
        "La matriz de confusión:"
      ]
    },
    {
      "cell_type": "code",
      "metadata": {
        "colab": {
          "base_uri": "https://localhost:8080/"
        },
        "id": "nz6rgsdTxSFr",
        "outputId": "0744ed68-e6e6-4d5c-8af0-f711043d96a8"
      },
      "source": [
        "Y_pred = network.predict(test_images)\n",
        "# Convert predictions classes to one hot vectors \n",
        "Y_pred_classes = np.argmax(Y_pred, axis = 1) \n",
        "# Convert validation observations to one hot vectors\n",
        "Y_true = np.argmax(test_labels, axis = 1) \n",
        "# compute the confusion matrix\n",
        "confusion_mtx = confusion_matrix(Y_true, Y_pred_classes) \n",
        "# plot the confusion matrix\n",
        "plot_confusion_matrix(confusion_mtx, classes = range(10))"
      ],
      "execution_count": null,
      "outputs": [
        {
          "output_type": "display_data",
          "data": {
            "image/png": "[encoded data removed]",
            "text/plain": [
              "<Figure size 432x288 with 2 Axes>"
            ]
          },
          "metadata": {
            "needs_background": "light"
          }
        }
      ]
    },
    {
      "cell_type": "markdown",
      "metadata": {
        "id": "OaBpJt1P7MvW"
      },
      "source": [
        "## Apartado 4"
      ]
    },
    {
      "cell_type": "markdown",
      "metadata": {
        "id": "vgOoPnva7N_9"
      },
      "source": [
        "**IMPORTANTE: No ejecutar este entrenamiento ni los siguientes si se entrenó anteriormente la RNA.**"
      ]
    },
    {
      "cell_type": "code",
      "metadata": {
        "id": "pNZUM4Ez7N_9"
      },
      "source": [
        "train_images1= train_images[:50000]\n",
        "train_labels1=train_labels[:50000]\n",
        "test_images1=train_images[50000:]\n",
        "test_labels1=train_labels[50000:]\n"
      ],
      "execution_count": null,
      "outputs": []
    },
    {
      "cell_type": "code",
      "metadata": {
        "colab": {
          "base_uri": "https://localhost:8080/"
        },
        "id": "AqlJCSbs7N_9",
        "outputId": "1fe8dfd3-2dc2-498e-bd4e-b4bdcdf66ec2"
      },
      "source": [
        "network.fit(train_images1, train_labels1, epochs=5, batch_size=128)"
      ],
      "execution_count": null,
      "outputs": [
        {
          "output_type": "stream",
          "name": "stdout",
          "text": [
            "Epoch 1/5\n",
            "391/391 [==============================] - 2s 4ms/step - loss: 0.2758 - accuracy: 0.8974\n",
            "Epoch 2/5\n",
            "391/391 [==============================] - 2s 4ms/step - loss: 0.2629 - accuracy: 0.9025\n",
            "Epoch 3/5\n",
            "391/391 [==============================] - 2s 4ms/step - loss: 0.2522 - accuracy: 0.9063\n",
            "Epoch 4/5\n",
            "391/391 [==============================] - 2s 4ms/step - loss: 0.2395 - accuracy: 0.9122\n",
            "Epoch 5/5\n",
            "391/391 [==============================] - 2s 4ms/step - loss: 0.2322 - accuracy: 0.9136\n"
          ]
        },
        {
          "output_type": "execute_result",
          "data": {
            "text/plain": [
              "<keras.callbacks.History at 0x7f028dd7f290>"
            ]
          },
          "metadata": {},
          "execution_count": 551
        }
      ]
    },
    {
      "cell_type": "code",
      "metadata": {
        "colab": {
          "base_uri": "https://localhost:8080/"
        },
        "id": "jpJOJfAw7N_9",
        "outputId": "4951b31f-9f8b-4ea7-b0a2-fe9472695693"
      },
      "source": [
        "# 8.- VERIFICAMOS NUESTRO MODELO YA ENTRENADO, CONTRA EL CONJUNTO DE PRUEBAS\n",
        "test_loss, test_acc = network.evaluate(test_images1, test_labels1)"
      ],
      "execution_count": null,
      "outputs": [
        {
          "output_type": "stream",
          "name": "stdout",
          "text": [
            "313/313 [==============================] - 1s 3ms/step - loss: 0.2756 - accuracy: 0.9051\n"
          ]
        }
      ]
    },
    {
      "cell_type": "code",
      "metadata": {
        "colab": {
          "base_uri": "https://localhost:8080/"
        },
        "id": "i6HpU9sS7N_-",
        "outputId": "0043b2ea-8eaf-45d4-9ee4-d1bcf263a354"
      },
      "source": [
        "print('Precisión del test:', test_acc)\n",
        "# test_acc: 0.9777"
      ],
      "execution_count": null,
      "outputs": [
        {
          "output_type": "stream",
          "name": "stdout",
          "text": [
            "Precisión del test: 0.9050999879837036\n"
          ]
        }
      ]
    },
    {
      "cell_type": "markdown",
      "metadata": {
        "id": "kf-wJ6BuA-2p"
      },
      "source": [
        "##Apartado 5"
      ]
    },
    {
      "cell_type": "markdown",
      "metadata": {
        "id": "Yc9sPJ_ZA-2p"
      },
      "source": [
        "Para este apartado, vamos a predecir la imagen 6"
      ]
    },
    {
      "cell_type": "code",
      "metadata": {
        "colab": {
          "base_uri": "https://localhost:8080/"
        },
        "id": "XtzwJmjFA-2p",
        "outputId": "64df21a6-1180-4b90-8f2a-28723020a77c"
      },
      "source": [
        "i = 6\n",
        "plt.figure(figsize=(6,3))\n",
        "plt.subplot(1,2,1)\n",
        "plot_image(i, predictions[i], test_labels0, test_images0.reshape(10000,28,28))\n",
        "plt.subplot(1,2,2)\n",
        "plot_value_array(i, predictions[i], test_labels0)\n",
        "plt.show()"
      ],
      "execution_count": null,
      "outputs": [
        {
          "output_type": "display_data",
          "data": {
            "image/png": "[encoded data removed]",
            "text/plain": [
              "<Figure size 432x216 with 2 Axes>"
            ]
          },
          "metadata": {
            "needs_background": "light"
          }
        }
      ]
    },
    {
      "cell_type": "markdown",
      "metadata": {
        "id": "cvuTfWIVxs09"
      },
      "source": [
        "#Caso 7"
      ]
    },
    {
      "cell_type": "markdown",
      "metadata": {
        "id": "GMqoNPXMxyET"
      },
      "source": [
        "Para los dos últimos casos usaremos la función sigmoid y, en este caso, el optimizador sgd."
      ]
    },
    {
      "cell_type": "code",
      "metadata": {
        "colab": {
          "base_uri": "https://localhost:8080/"
        },
        "id": "_8JJRPT7x4yj",
        "outputId": "6efe5a22-0e86-4057-c443-4a97946cfd2c"
      },
      "source": [
        "network = models.Sequential(name='Modelo_Zalando7')\n",
        "network.add(layers.Dense(512, activation='sigmoid', input_shape=(28*28,), name='Neurona1'))\n",
        "network.add(layers.Dense(10, activation='softmax', name='Neurona2'),)\n",
        "network.summary()"
      ],
      "execution_count": null,
      "outputs": [
        {
          "output_type": "stream",
          "name": "stdout",
          "text": [
            "Model: \"Modelo_Zalando7\"\n",
            "_________________________________________________________________\n",
            "Layer (type)                 Output Shape              Param #   \n",
            "=================================================================\n",
            "Neurona1 (Dense)             (None, 512)               401920    \n",
            "_________________________________________________________________\n",
            "Neurona2 (Dense)             (None, 10)                5130      \n",
            "=================================================================\n",
            "Total params: 407,050\n",
            "Trainable params: 407,050\n",
            "Non-trainable params: 0\n",
            "_________________________________________________________________\n"
          ]
        }
      ]
    },
    {
      "cell_type": "markdown",
      "metadata": {
        "id": "XC2A_cSfyHkD"
      },
      "source": [
        "Volvemos a cambiar el optimizador:"
      ]
    },
    {
      "cell_type": "code",
      "metadata": {
        "id": "qPvNozHVyFyz"
      },
      "source": [
        "network.compile(optimizer='sgd', \n",
        "                loss='categorical_crossentropy',\n",
        "                metrics=['accuracy'])"
      ],
      "execution_count": null,
      "outputs": []
    },
    {
      "cell_type": "code",
      "metadata": {
        "colab": {
          "base_uri": "https://localhost:8080/"
        },
        "id": "fnMiInXgyNG7",
        "outputId": "6f431533-d28a-4684-814f-6e0843a9baf8"
      },
      "source": [
        "network.fit(train_images, train_labels, epochs=5, batch_size=128)"
      ],
      "execution_count": null,
      "outputs": [
        {
          "output_type": "stream",
          "name": "stdout",
          "text": [
            "Epoch 1/5\n",
            "469/469 [==============================] - 2s 4ms/step - loss: 1.6941 - accuracy: 0.5788\n",
            "Epoch 2/5\n",
            "469/469 [==============================] - 2s 4ms/step - loss: 1.1213 - accuracy: 0.7131\n",
            "Epoch 3/5\n",
            "469/469 [==============================] - 2s 4ms/step - loss: 0.9216 - accuracy: 0.7328\n",
            "Epoch 4/5\n",
            "469/469 [==============================] - 2s 4ms/step - loss: 0.8214 - accuracy: 0.7433\n",
            "Epoch 5/5\n",
            "469/469 [==============================] - 2s 4ms/step - loss: 0.7607 - accuracy: 0.7520\n"
          ]
        },
        {
          "output_type": "execute_result",
          "data": {
            "text/plain": [
              "<keras.callbacks.History at 0x7f028d7eb810>"
            ]
          },
          "metadata": {},
          "execution_count": 557
        }
      ]
    },
    {
      "cell_type": "code",
      "metadata": {
        "colab": {
          "base_uri": "https://localhost:8080/"
        },
        "id": "AoNtlFTiyWsj",
        "outputId": "d498c711-9a26-4839-9697-4f8dc7125ee7"
      },
      "source": [
        "# 8.- VERIFICAMOS NUESTRO MODELO YA ENTRENADO, CONTRA EL CONJUNTO DE PRUEBAS\n",
        "test_loss, test_acc = network.evaluate(test_images, test_labels)"
      ],
      "execution_count": null,
      "outputs": [
        {
          "output_type": "stream",
          "name": "stdout",
          "text": [
            "313/313 [==============================] - 1s 3ms/step - loss: 0.7492 - accuracy: 0.7503\n"
          ]
        }
      ]
    },
    {
      "cell_type": "code",
      "metadata": {
        "colab": {
          "base_uri": "https://localhost:8080/"
        },
        "id": "7pLedPWryYjb",
        "outputId": "8183d779-acc8-46b0-e6a6-3d87161da2a2"
      },
      "source": [
        "print('Precisión del test:', test_acc)"
      ],
      "execution_count": null,
      "outputs": [
        {
          "output_type": "stream",
          "name": "stdout",
          "text": [
            "Precisión del test: 0.7502999901771545\n"
          ]
        }
      ]
    },
    {
      "cell_type": "markdown",
      "metadata": {
        "id": "oWPbRF4UydMq"
      },
      "source": [
        "Aquí, como en el caso 3, ha vuelto a bajar la probabilidad como en el caso anterior. Pero, como en todos los casos con más neuronas, el caso 7  tiene mayor precisión que el caso 3."
      ]
    },
    {
      "cell_type": "markdown",
      "metadata": {
        "id": "5pK7Ppcgywc6"
      },
      "source": [
        "Y la matriz de confusión del caso 7 es la siguiente:\n"
      ]
    },
    {
      "cell_type": "code",
      "metadata": {
        "colab": {
          "base_uri": "https://localhost:8080/"
        },
        "id": "jfOmVVCly0Mb",
        "outputId": "5d97c879-1aec-4e6c-da77-95e6459fd71d"
      },
      "source": [
        "Y_pred = network.predict(test_images)\n",
        "# Convert predictions classes to one hot vectors \n",
        "Y_pred_classes = np.argmax(Y_pred, axis = 1) \n",
        "# Convert validation observations to one hot vectors\n",
        "Y_true = np.argmax(test_labels, axis = 1) \n",
        "# compute the confusion matrix\n",
        "confusion_mtx = confusion_matrix(Y_true, Y_pred_classes) \n",
        "# plot the confusion matrix\n",
        "plot_confusion_matrix(confusion_mtx, classes = range(10))"
      ],
      "execution_count": null,
      "outputs": [
        {
          "output_type": "display_data",
          "data": {
            "image/png": "[encoded data removed]",
            "text/plain": [
              "<Figure size 432x288 with 2 Axes>"
            ]
          },
          "metadata": {
            "needs_background": "light"
          }
        }
      ]
    },
    {
      "cell_type": "markdown",
      "metadata": {
        "id": "4_BGop1py2Qk"
      },
      "source": [
        "Se pueden apreciar más fallos que en el caso 6."
      ]
    },
    {
      "cell_type": "markdown",
      "metadata": {
        "id": "FCp4phGA7PXl"
      },
      "source": [
        "##Apartado 4"
      ]
    },
    {
      "cell_type": "markdown",
      "metadata": {
        "id": "rmiAWXEm7RYc"
      },
      "source": [
        "**IMPORTANTE: No ejecutar este entrenamiento ni los siguientes si se entrenó anteriormente la RNA.**"
      ]
    },
    {
      "cell_type": "code",
      "metadata": {
        "id": "eL16_r1C7RYc"
      },
      "source": [
        "train_images1= train_images[:50000]\n",
        "train_labels1=train_labels[:50000]\n",
        "test_images1=train_images[50000:]\n",
        "test_labels1=train_labels[50000:]\n"
      ],
      "execution_count": null,
      "outputs": []
    },
    {
      "cell_type": "code",
      "metadata": {
        "colab": {
          "base_uri": "https://localhost:8080/"
        },
        "id": "7o_HuRfa7RYc",
        "outputId": "4a4fbfd4-54f7-4a9b-ddbd-f5a0671b4cca"
      },
      "source": [
        "network.fit(train_images1, train_labels1, epochs=5, batch_size=128)"
      ],
      "execution_count": null,
      "outputs": [
        {
          "output_type": "stream",
          "name": "stdout",
          "text": [
            "Epoch 1/5\n",
            "391/391 [==============================] - 1s 4ms/step - loss: 0.7219 - accuracy: 0.7609\n",
            "Epoch 2/5\n",
            "391/391 [==============================] - 1s 4ms/step - loss: 0.6948 - accuracy: 0.7665\n",
            "Epoch 3/5\n",
            "391/391 [==============================] - 1s 3ms/step - loss: 0.6730 - accuracy: 0.7721\n",
            "Epoch 4/5\n",
            "391/391 [==============================] - 1s 3ms/step - loss: 0.6546 - accuracy: 0.7778\n",
            "Epoch 5/5\n",
            "391/391 [==============================] - 1s 3ms/step - loss: 0.6388 - accuracy: 0.7824\n"
          ]
        },
        {
          "output_type": "execute_result",
          "data": {
            "text/plain": [
              "<keras.callbacks.History at 0x7f02be154910>"
            ]
          },
          "metadata": {},
          "execution_count": 562
        }
      ]
    },
    {
      "cell_type": "code",
      "metadata": {
        "colab": {
          "base_uri": "https://localhost:8080/"
        },
        "id": "KsHsQCkh7RYd",
        "outputId": "245dd8a6-3b98-4479-9c47-5a7be0237a78"
      },
      "source": [
        "# 8.- VERIFICAMOS NUESTRO MODELO YA ENTRENADO, CONTRA EL CONJUNTO DE PRUEBAS\n",
        "test_loss, test_acc = network.evaluate(test_images1, test_labels1)"
      ],
      "execution_count": null,
      "outputs": [
        {
          "output_type": "stream",
          "name": "stdout",
          "text": [
            "313/313 [==============================] - 1s 3ms/step - loss: 0.6329 - accuracy: 0.7787\n"
          ]
        }
      ]
    },
    {
      "cell_type": "code",
      "metadata": {
        "colab": {
          "base_uri": "https://localhost:8080/"
        },
        "id": "UmSxvXEq7RYd",
        "outputId": "ba5de6d9-358d-4daf-fc06-d567d0e01344"
      },
      "source": [
        "print('Precisión del test:', test_acc)\n",
        "# test_acc: 0.9777"
      ],
      "execution_count": null,
      "outputs": [
        {
          "output_type": "stream",
          "name": "stdout",
          "text": [
            "Precisión del test: 0.7786999940872192\n"
          ]
        }
      ]
    },
    {
      "cell_type": "markdown",
      "metadata": {
        "id": "fc-cuaIuBCpx"
      },
      "source": [
        "##Apartado 5"
      ]
    },
    {
      "cell_type": "markdown",
      "metadata": {
        "id": "q2qKf2BNBCpx"
      },
      "source": [
        "Para este apartado, vamos a predecir la imagen 6"
      ]
    },
    {
      "cell_type": "code",
      "metadata": {
        "colab": {
          "base_uri": "https://localhost:8080/"
        },
        "id": "aYAq62RKBCpx",
        "outputId": "6badb3fc-e41f-4470-f6fc-30379cd2e07e"
      },
      "source": [
        "i = 6\n",
        "plt.figure(figsize=(6,3))\n",
        "plt.subplot(1,2,1)\n",
        "plot_image(i, predictions[i], test_labels0, test_images0.reshape(10000,28,28))\n",
        "plt.subplot(1,2,2)\n",
        "plot_value_array(i, predictions[i], test_labels0)\n",
        "plt.show()"
      ],
      "execution_count": null,
      "outputs": [
        {
          "output_type": "display_data",
          "data": {
            "image/png": "[encoded data removed]",
            "text/plain": [
              "<Figure size 432x216 with 2 Axes>"
            ]
          },
          "metadata": {
            "needs_background": "light"
          }
        }
      ]
    },
    {
      "cell_type": "markdown",
      "metadata": {
        "id": "w-IjHXyty6GM"
      },
      "source": [
        "#Caso 8"
      ]
    },
    {
      "cell_type": "markdown",
      "metadata": {
        "id": "P7gcaXthy9_z"
      },
      "source": [
        "Ahora usamos el optimizador rmsprop y, a juzgar con los casos anteriores, podemos esperar una buena precisión."
      ]
    },
    {
      "cell_type": "code",
      "metadata": {
        "colab": {
          "base_uri": "https://localhost:8080/"
        },
        "id": "rwNyCxMIzMKa",
        "outputId": "29086ecf-37ae-4a12-a3f1-2e4e01a6827c"
      },
      "source": [
        "network = models.Sequential(name='Modelo_Zalando8')\n",
        "network.add(layers.Dense(512, activation='sigmoid', input_shape=(28*28,), name='Neurona1'))\n",
        "network.add(layers.Dense(10, activation='softmax', name='Neurona2'),)\n",
        "network.summary()"
      ],
      "execution_count": null,
      "outputs": [
        {
          "output_type": "stream",
          "name": "stdout",
          "text": [
            "Model: \"Modelo_Zalando8\"\n",
            "_________________________________________________________________\n",
            "Layer (type)                 Output Shape              Param #   \n",
            "=================================================================\n",
            "Neurona1 (Dense)             (None, 512)               401920    \n",
            "_________________________________________________________________\n",
            "Neurona2 (Dense)             (None, 10)                5130      \n",
            "=================================================================\n",
            "Total params: 407,050\n",
            "Trainable params: 407,050\n",
            "Non-trainable params: 0\n",
            "_________________________________________________________________\n"
          ]
        }
      ]
    },
    {
      "cell_type": "markdown",
      "metadata": {
        "id": "THYuc8jxzO-8"
      },
      "source": [
        "Como en los anteriores, no varía. Solo se ven diferencias en los resultados de fit y en el test."
      ]
    },
    {
      "cell_type": "markdown",
      "metadata": {
        "id": "oAHgnPR8zeV7"
      },
      "source": [
        "Usamos el optimizador ya mencionado rmsprop:\n"
      ]
    },
    {
      "cell_type": "code",
      "metadata": {
        "id": "VCxyqAyrzhkr"
      },
      "source": [
        "network.compile(optimizer='rmsprop', \n",
        "                loss='categorical_crossentropy',\n",
        "                metrics=['accuracy'])"
      ],
      "execution_count": null,
      "outputs": []
    },
    {
      "cell_type": "code",
      "metadata": {
        "colab": {
          "base_uri": "https://localhost:8080/"
        },
        "id": "-DJPjrJPzmKz",
        "outputId": "b07cace6-5b30-471c-a084-d583b2aa84c3"
      },
      "source": [
        "network.fit(train_images, train_labels, epochs=5, batch_size=128)"
      ],
      "execution_count": null,
      "outputs": [
        {
          "output_type": "stream",
          "name": "stdout",
          "text": [
            "Epoch 1/5\n",
            "469/469 [==============================] - 2s 4ms/step - loss: 0.5942 - accuracy: 0.7898\n",
            "Epoch 2/5\n",
            "469/469 [==============================] - 2s 4ms/step - loss: 0.4277 - accuracy: 0.8449\n",
            "Epoch 3/5\n",
            "469/469 [==============================] - 2s 4ms/step - loss: 0.3866 - accuracy: 0.8600\n",
            "Epoch 4/5\n",
            "469/469 [==============================] - 2s 4ms/step - loss: 0.3609 - accuracy: 0.8693\n",
            "Epoch 5/5\n",
            "469/469 [==============================] - 2s 4ms/step - loss: 0.3400 - accuracy: 0.8749\n"
          ]
        },
        {
          "output_type": "execute_result",
          "data": {
            "text/plain": [
              "<keras.callbacks.History at 0x7f02995d08d0>"
            ]
          },
          "metadata": {},
          "execution_count": 568
        }
      ]
    },
    {
      "cell_type": "code",
      "metadata": {
        "colab": {
          "base_uri": "https://localhost:8080/"
        },
        "id": "THgwTydnzq1c",
        "outputId": "c108b4ed-6d9d-43bd-f188-33d28e55bdf7"
      },
      "source": [
        "# 8.- VERIFICAMOS NUESTRO MODELO YA ENTRENADO, CONTRA EL CONJUNTO DE PRUEBAS\n",
        "test_loss, test_acc = network.evaluate(test_images, test_labels)"
      ],
      "execution_count": null,
      "outputs": [
        {
          "output_type": "stream",
          "name": "stdout",
          "text": [
            "313/313 [==============================] - 1s 3ms/step - loss: 0.3749 - accuracy: 0.8662\n"
          ]
        }
      ]
    },
    {
      "cell_type": "code",
      "metadata": {
        "colab": {
          "base_uri": "https://localhost:8080/"
        },
        "id": "9HK1kDShztSM",
        "outputId": "2cf4b63e-cbf6-40d3-ae3f-713605801818"
      },
      "source": [
        "print('Precisión del test:', test_acc)"
      ],
      "execution_count": null,
      "outputs": [
        {
          "output_type": "stream",
          "name": "stdout",
          "text": [
            "Precisión del test: 0.8661999702453613\n"
          ]
        }
      ]
    },
    {
      "cell_type": "markdown",
      "metadata": {
        "id": "Jr0WBeGozuT1"
      },
      "source": [
        "Era de esperar obtener un resultado parecido al 85% después de todas las pruebas anteriores"
      ]
    },
    {
      "cell_type": "markdown",
      "metadata": {
        "id": "Gv54ibIrz_G0"
      },
      "source": [
        "Y para acabar, la matriz de confusión."
      ]
    },
    {
      "cell_type": "code",
      "metadata": {
        "colab": {
          "base_uri": "https://localhost:8080/"
        },
        "id": "HU1zYgzf0Cwt",
        "outputId": "aece28d0-af6d-4de2-d8cf-2ffb1ee30e98"
      },
      "source": [
        "Y_pred = network.predict(test_images)\n",
        "# Convert predictions classes to one hot vectors \n",
        "Y_pred_classes = np.argmax(Y_pred, axis = 1) \n",
        "# Convert validation observations to one hot vectors\n",
        "Y_true = np.argmax(test_labels, axis = 1) \n",
        "# compute the confusion matrix\n",
        "confusion_mtx = confusion_matrix(Y_true, Y_pred_classes) \n",
        "# plot the confusion matrix\n",
        "plot_confusion_matrix(confusion_mtx, classes = range(10))"
      ],
      "execution_count": null,
      "outputs": [
        {
          "output_type": "display_data",
          "data": {
            "image/png": "[encoded data removed]",
            "text/plain": [
              "<Figure size 432x288 with 2 Axes>"
            ]
          },
          "metadata": {
            "needs_background": "light"
          }
        }
      ]
    },
    {
      "cell_type": "markdown",
      "metadata": {
        "id": "Kh0xZf_V7TBw"
      },
      "source": [
        "##Apartado 4"
      ]
    },
    {
      "cell_type": "markdown",
      "metadata": {
        "id": "TtjXaTjv7Uhx"
      },
      "source": [
        "**IMPORTANTE: No ejecutar este entrenamiento ni los siguientes si se entrenó anteriormente la RNA.**"
      ]
    },
    {
      "cell_type": "code",
      "metadata": {
        "id": "HGSy5WaS7Uhx"
      },
      "source": [
        "train_images1= train_images[:50000]\n",
        "train_labels1=train_labels[:50000]\n",
        "test_images1=train_images[50000:]\n",
        "test_labels1=train_labels[50000:]\n"
      ],
      "execution_count": null,
      "outputs": []
    },
    {
      "cell_type": "code",
      "metadata": {
        "colab": {
          "base_uri": "https://localhost:8080/"
        },
        "id": "A_LRXObM7Uhx",
        "outputId": "aeeef757-ca22-4cd8-b4a7-0d1a969b4b83"
      },
      "source": [
        "network.fit(train_images1, train_labels1, epochs=5, batch_size=128)"
      ],
      "execution_count": null,
      "outputs": [
        {
          "output_type": "stream",
          "name": "stdout",
          "text": [
            "Epoch 1/5\n",
            "391/391 [==============================] - 2s 4ms/step - loss: 0.3230 - accuracy: 0.8811\n",
            "Epoch 2/5\n",
            "391/391 [==============================] - 2s 4ms/step - loss: 0.3092 - accuracy: 0.8864\n",
            "Epoch 3/5\n",
            "391/391 [==============================] - 2s 4ms/step - loss: 0.2978 - accuracy: 0.8888\n",
            "Epoch 4/5\n",
            "391/391 [==============================] - 2s 4ms/step - loss: 0.2877 - accuracy: 0.8931\n",
            "Epoch 5/5\n",
            "391/391 [==============================] - 2s 4ms/step - loss: 0.2779 - accuracy: 0.8975\n"
          ]
        },
        {
          "output_type": "execute_result",
          "data": {
            "text/plain": [
              "<keras.callbacks.History at 0x7f028f228250>"
            ]
          },
          "metadata": {},
          "execution_count": 573
        }
      ]
    },
    {
      "cell_type": "code",
      "metadata": {
        "colab": {
          "base_uri": "https://localhost:8080/"
        },
        "id": "IHS5a-fl7Uhy",
        "outputId": "ce0d9c45-dc6b-4480-920e-fa771bc9a163"
      },
      "source": [
        "# 8.- VERIFICAMOS NUESTRO MODELO YA ENTRENADO, CONTRA EL CONJUNTO DE PRUEBAS\n",
        "test_loss, test_acc = network.evaluate(test_images1, test_labels1)"
      ],
      "execution_count": null,
      "outputs": [
        {
          "output_type": "stream",
          "name": "stdout",
          "text": [
            "313/313 [==============================] - 1s 3ms/step - loss: 0.3273 - accuracy: 0.8781\n"
          ]
        }
      ]
    },
    {
      "cell_type": "code",
      "metadata": {
        "colab": {
          "base_uri": "https://localhost:8080/"
        },
        "id": "e1tNnqWh7Uhy",
        "outputId": "f855ccb9-97dc-4957-c842-4a615aaf9096"
      },
      "source": [
        "print('Precisión del test:', test_acc)\n",
        "# test_acc: 0.9777"
      ],
      "execution_count": null,
      "outputs": [
        {
          "output_type": "stream",
          "name": "stdout",
          "text": [
            "Precisión del test: 0.8780999779701233\n"
          ]
        }
      ]
    },
    {
      "cell_type": "markdown",
      "metadata": {
        "id": "E4p_Ey9wBD9B"
      },
      "source": [
        "##Apartado 5"
      ]
    },
    {
      "cell_type": "markdown",
      "metadata": {
        "id": "sgQX6LUGBD9B"
      },
      "source": [
        "Para este apartado, vamos a predecir la imagen 6"
      ]
    },
    {
      "cell_type": "code",
      "metadata": {
        "colab": {
          "base_uri": "https://localhost:8080/"
        },
        "id": "YtNq8mdiBD9B",
        "outputId": "4e34127f-44ef-4b01-99ad-d7e0357f90c5"
      },
      "source": [
        "i = 6\n",
        "plt.figure(figsize=(6,3))\n",
        "plt.subplot(1,2,1)\n",
        "plot_image(i, predictions[i], test_labels0, test_images0.reshape(10000,28,28))\n",
        "plt.subplot(1,2,2)\n",
        "plot_value_array(i, predictions[i], test_labels0)\n",
        "plt.show()"
      ],
      "execution_count": null,
      "outputs": [
        {
          "output_type": "display_data",
          "data": {
            "image/png": "[encoded data removed]",
            "text/plain": [
              "<Figure size 432x216 with 2 Axes>"
            ]
          },
          "metadata": {
            "needs_background": "light"
          }
        }
      ]
    },
    {
      "cell_type": "markdown",
      "metadata": {
        "id": "iThpGxrS0Jcc"
      },
      "source": [
        "# Caso 2* y 7*"
      ]
    },
    {
      "cell_type": "markdown",
      "metadata": {
        "id": "v6qncfpN0Oos"
      },
      "source": [
        "A continuación veremos qué pasa si en los casos 2 y 7 ponemos 25 épocas"
      ]
    },
    {
      "cell_type": "code",
      "metadata": {
        "colab": {
          "base_uri": "https://localhost:8080/"
        },
        "id": "pFXLZOdI0e30",
        "outputId": "ff4c7b03-32b2-4b4e-f592-4ab8f02acf4d"
      },
      "source": [
        "network = models.Sequential(name='Modelo_Zalando2')\n",
        "network.add(layers.Dense(10, activation='relu', input_shape=(28*28,), name='Neurona1'))\n",
        "network.add(layers.Dense(10, activation='softmax', name='Neurona2'),)\n",
        "network.summary()\n"
      ],
      "execution_count": null,
      "outputs": [
        {
          "output_type": "stream",
          "name": "stdout",
          "text": [
            "Model: \"Modelo_Zalando2\"\n",
            "_________________________________________________________________\n",
            "Layer (type)                 Output Shape              Param #   \n",
            "=================================================================\n",
            "Neurona1 (Dense)             (None, 10)                7850      \n",
            "_________________________________________________________________\n",
            "Neurona2 (Dense)             (None, 10)                110       \n",
            "=================================================================\n",
            "Total params: 7,960\n",
            "Trainable params: 7,960\n",
            "Non-trainable params: 0\n",
            "_________________________________________________________________\n"
          ]
        }
      ]
    },
    {
      "cell_type": "code",
      "metadata": {
        "id": "OUD1ulz502ej"
      },
      "source": [
        "network.compile(optimizer='rmsprop', \n",
        "                loss='categorical_crossentropy',\n",
        "                metrics=['accuracy'])"
      ],
      "execution_count": null,
      "outputs": []
    },
    {
      "cell_type": "code",
      "metadata": {
        "colab": {
          "base_uri": "https://localhost:8080/"
        },
        "id": "nNFzh83705Mz",
        "outputId": "4b78177e-458c-4a58-8619-5c9f80a980c4"
      },
      "source": [
        "network.fit(train_images, train_labels, epochs=25, batch_size=128)"
      ],
      "execution_count": null,
      "outputs": [
        {
          "output_type": "stream",
          "name": "stdout",
          "text": [
            "Epoch 1/25\n",
            "469/469 [==============================] - 2s 4ms/step - loss: 0.8986 - accuracy: 0.7146\n",
            "Epoch 2/25\n",
            "469/469 [==============================] - 2s 4ms/step - loss: 0.5312 - accuracy: 0.8209\n",
            "Epoch 3/25\n",
            "469/469 [==============================] - 2s 4ms/step - loss: 0.4730 - accuracy: 0.8380\n",
            "Epoch 4/25\n",
            "469/469 [==============================] - 2s 4ms/step - loss: 0.4434 - accuracy: 0.8466\n",
            "Epoch 5/25\n",
            "469/469 [==============================] - 2s 4ms/step - loss: 0.4273 - accuracy: 0.8520\n",
            "Epoch 6/25\n",
            "469/469 [==============================] - 2s 4ms/step - loss: 0.4165 - accuracy: 0.8545\n",
            "Epoch 7/25\n",
            "469/469 [==============================] - 2s 4ms/step - loss: 0.4088 - accuracy: 0.8575\n",
            "Epoch 8/25\n",
            "469/469 [==============================] - 2s 4ms/step - loss: 0.4016 - accuracy: 0.8601\n",
            "Epoch 9/25\n",
            "469/469 [==============================] - 2s 4ms/step - loss: 0.3973 - accuracy: 0.8625\n",
            "Epoch 10/25\n",
            "469/469 [==============================] - 2s 4ms/step - loss: 0.3918 - accuracy: 0.8634\n",
            "Epoch 11/25\n",
            "469/469 [==============================] - 2s 4ms/step - loss: 0.3881 - accuracy: 0.8653\n",
            "Epoch 12/25\n",
            "469/469 [==============================] - 2s 4ms/step - loss: 0.3847 - accuracy: 0.8655\n",
            "Epoch 13/25\n",
            "469/469 [==============================] - 2s 4ms/step - loss: 0.3820 - accuracy: 0.8671\n",
            "Epoch 14/25\n",
            "469/469 [==============================] - 2s 4ms/step - loss: 0.3798 - accuracy: 0.8676\n",
            "Epoch 15/25\n",
            "469/469 [==============================] - 2s 4ms/step - loss: 0.3771 - accuracy: 0.8680\n",
            "Epoch 16/25\n",
            "469/469 [==============================] - 2s 4ms/step - loss: 0.3745 - accuracy: 0.8703\n",
            "Epoch 17/25\n",
            "469/469 [==============================] - 2s 4ms/step - loss: 0.3725 - accuracy: 0.8687\n",
            "Epoch 18/25\n",
            "469/469 [==============================] - 2s 4ms/step - loss: 0.3701 - accuracy: 0.8704\n",
            "Epoch 19/25\n",
            "469/469 [==============================] - 2s 4ms/step - loss: 0.3692 - accuracy: 0.8700\n",
            "Epoch 20/25\n",
            "469/469 [==============================] - 2s 4ms/step - loss: 0.3668 - accuracy: 0.8730\n",
            "Epoch 21/25\n",
            "469/469 [==============================] - 2s 4ms/step - loss: 0.3663 - accuracy: 0.8722\n",
            "Epoch 22/25\n",
            "469/469 [==============================] - 2s 4ms/step - loss: 0.3646 - accuracy: 0.8717\n",
            "Epoch 23/25\n",
            "469/469 [==============================] - 2s 4ms/step - loss: 0.3636 - accuracy: 0.8722\n",
            "Epoch 24/25\n",
            "469/469 [==============================] - 2s 4ms/step - loss: 0.3625 - accuracy: 0.8724\n",
            "Epoch 25/25\n",
            "469/469 [==============================] - 2s 4ms/step - loss: 0.3610 - accuracy: 0.8736\n"
          ]
        },
        {
          "output_type": "execute_result",
          "data": {
            "text/plain": [
              "<keras.callbacks.History at 0x7f02995d0590>"
            ]
          },
          "metadata": {},
          "execution_count": 292
        }
      ]
    },
    {
      "cell_type": "code",
      "metadata": {
        "colab": {
          "base_uri": "https://localhost:8080/"
        },
        "id": "Af3sojJc1UB0",
        "outputId": "e9890875-0a9f-428b-a205-3777c4d889f8"
      },
      "source": [
        "#VERIFICAMOS NUESTRO MODELO YA ENTRENADO, CONTRA EL CONJUNTO DE PRUEBAS\n",
        "test_loss, test_acc = network.evaluate(test_images, test_labels)"
      ],
      "execution_count": null,
      "outputs": [
        {
          "output_type": "stream",
          "name": "stdout",
          "text": [
            "313/313 [==============================] - 1s 3ms/step - loss: 0.4287 - accuracy: 0.8500\n"
          ]
        }
      ]
    },
    {
      "cell_type": "code",
      "metadata": {
        "colab": {
          "base_uri": "https://localhost:8080/"
        },
        "id": "0AbXo7Tf1gFj",
        "outputId": "bfd6df25-de5d-4f17-eb42-f1584d7a05e4"
      },
      "source": [
        "print('Precisión del test:', test_acc)"
      ],
      "execution_count": null,
      "outputs": [
        {
          "output_type": "stream",
          "name": "stdout",
          "text": [
            "Precisión del test: 0.8500000238418579\n"
          ]
        }
      ]
    },
    {
      "cell_type": "markdown",
      "metadata": {
        "id": "8B54DQ9m1ogs"
      },
      "source": [
        "Para el caso 2, aumenta ligeramente la precisión. Ahora veremos que pasa con el caso 7:"
      ]
    },
    {
      "cell_type": "code",
      "metadata": {
        "colab": {
          "base_uri": "https://localhost:8080/"
        },
        "id": "obcfVXK218DF",
        "outputId": "4382208a-ab57-4e2c-d18e-9690d19b3280"
      },
      "source": [
        "network = models.Sequential(name='Modelo_Zalando7')\n",
        "network.add(layers.Dense(512, activation='sigmoid', input_shape=(28*28,), name='Neurona1'))\n",
        "network.add(layers.Dense(10, activation='softmax', name='Neurona2'),)\n",
        "network.summary()"
      ],
      "execution_count": null,
      "outputs": [
        {
          "output_type": "stream",
          "name": "stdout",
          "text": [
            "Model: \"Modelo_Zalando7\"\n",
            "_________________________________________________________________\n",
            "Layer (type)                 Output Shape              Param #   \n",
            "=================================================================\n",
            "Neurona1 (Dense)             (None, 512)               401920    \n",
            "_________________________________________________________________\n",
            "Neurona2 (Dense)             (None, 10)                5130      \n",
            "=================================================================\n",
            "Total params: 407,050\n",
            "Trainable params: 407,050\n",
            "Non-trainable params: 0\n",
            "_________________________________________________________________\n"
          ]
        }
      ]
    },
    {
      "cell_type": "code",
      "metadata": {
        "id": "E26lt8-11_g0"
      },
      "source": [
        "network.compile(optimizer='sgd', \n",
        "                loss='categorical_crossentropy',\n",
        "                metrics=['accuracy'])"
      ],
      "execution_count": null,
      "outputs": []
    },
    {
      "cell_type": "code",
      "metadata": {
        "colab": {
          "base_uri": "https://localhost:8080/"
        },
        "id": "MadT91Dv2CUr",
        "outputId": "e672819e-8805-4196-fb40-9d23020c9b97"
      },
      "source": [
        "network.fit(train_images, train_labels, epochs=25, batch_size=128)"
      ],
      "execution_count": null,
      "outputs": [
        {
          "output_type": "stream",
          "name": "stdout",
          "text": [
            "Epoch 1/25\n",
            "469/469 [==============================] - 2s 4ms/step - loss: 1.7157 - accuracy: 0.5768\n",
            "Epoch 2/25\n",
            "469/469 [==============================] - 2s 4ms/step - loss: 1.1331 - accuracy: 0.7129\n",
            "Epoch 3/25\n",
            "469/469 [==============================] - 2s 3ms/step - loss: 0.9253 - accuracy: 0.7336\n",
            "Epoch 4/25\n",
            "469/469 [==============================] - 2s 4ms/step - loss: 0.8223 - accuracy: 0.7449\n",
            "Epoch 5/25\n",
            "469/469 [==============================] - 2s 4ms/step - loss: 0.7608 - accuracy: 0.7542\n",
            "Epoch 6/25\n",
            "469/469 [==============================] - 2s 3ms/step - loss: 0.7189 - accuracy: 0.7616\n",
            "Epoch 7/25\n",
            "469/469 [==============================] - 2s 4ms/step - loss: 0.6879 - accuracy: 0.7676\n",
            "Epoch 8/25\n",
            "469/469 [==============================] - 2s 3ms/step - loss: 0.6635 - accuracy: 0.7746\n",
            "Epoch 9/25\n",
            "469/469 [==============================] - 2s 4ms/step - loss: 0.6434 - accuracy: 0.7800\n",
            "Epoch 10/25\n",
            "469/469 [==============================] - 2s 4ms/step - loss: 0.6265 - accuracy: 0.7865\n",
            "Epoch 11/25\n",
            "469/469 [==============================] - 2s 4ms/step - loss: 0.6118 - accuracy: 0.7907\n",
            "Epoch 12/25\n",
            "469/469 [==============================] - 2s 3ms/step - loss: 0.5989 - accuracy: 0.7943\n",
            "Epoch 13/25\n",
            "469/469 [==============================] - 2s 3ms/step - loss: 0.5876 - accuracy: 0.7986\n",
            "Epoch 14/25\n",
            "469/469 [==============================] - 2s 4ms/step - loss: 0.5776 - accuracy: 0.8011\n",
            "Epoch 15/25\n",
            "469/469 [==============================] - 2s 4ms/step - loss: 0.5683 - accuracy: 0.8045\n",
            "Epoch 16/25\n",
            "469/469 [==============================] - 2s 4ms/step - loss: 0.5601 - accuracy: 0.8070\n",
            "Epoch 17/25\n",
            "469/469 [==============================] - 2s 3ms/step - loss: 0.5526 - accuracy: 0.8090\n",
            "Epoch 18/25\n",
            "469/469 [==============================] - 2s 4ms/step - loss: 0.5458 - accuracy: 0.8117\n",
            "Epoch 19/25\n",
            "469/469 [==============================] - 2s 4ms/step - loss: 0.5394 - accuracy: 0.8138\n",
            "Epoch 20/25\n",
            "469/469 [==============================] - 2s 4ms/step - loss: 0.5337 - accuracy: 0.8153\n",
            "Epoch 21/25\n",
            "469/469 [==============================] - 2s 4ms/step - loss: 0.5284 - accuracy: 0.8170\n",
            "Epoch 22/25\n",
            "469/469 [==============================] - 2s 4ms/step - loss: 0.5235 - accuracy: 0.8185\n",
            "Epoch 23/25\n",
            "469/469 [==============================] - 2s 4ms/step - loss: 0.5188 - accuracy: 0.8209\n",
            "Epoch 24/25\n",
            "469/469 [==============================] - 2s 4ms/step - loss: 0.5145 - accuracy: 0.8227\n",
            "Epoch 25/25\n",
            "469/469 [==============================] - 2s 4ms/step - loss: 0.5105 - accuracy: 0.8230\n"
          ]
        },
        {
          "output_type": "execute_result",
          "data": {
            "text/plain": [
              "<keras.callbacks.History at 0x7f029939eb10>"
            ]
          },
          "metadata": {},
          "execution_count": 299
        }
      ]
    },
    {
      "cell_type": "code",
      "metadata": {
        "colab": {
          "base_uri": "https://localhost:8080/"
        },
        "id": "hze_RCys2ap1",
        "outputId": "fd00457d-4d23-4049-f1fc-a434ede0243d"
      },
      "source": [
        "#VERIFICAMOS NUESTRO MODELO YA ENTRENADO, CONTRA EL CONJUNTO DE PRUEBAS\n",
        "test_loss, test_acc = network.evaluate(test_images, test_labels)"
      ],
      "execution_count": null,
      "outputs": [
        {
          "output_type": "stream",
          "name": "stdout",
          "text": [
            "313/313 [==============================] - 1s 3ms/step - loss: 0.5329 - accuracy: 0.8125\n"
          ]
        }
      ]
    },
    {
      "cell_type": "code",
      "metadata": {
        "colab": {
          "base_uri": "https://localhost:8080/"
        },
        "id": "-Sgt7c2B2ck4",
        "outputId": "b17b316f-5553-4406-8196-e069993bd9bd"
      },
      "source": [
        "print('Precisión del test:', test_acc)"
      ],
      "execution_count": null,
      "outputs": [
        {
          "output_type": "stream",
          "name": "stdout",
          "text": [
            "Precisión del test: 0.8125\n"
          ]
        }
      ]
    },
    {
      "cell_type": "markdown",
      "metadata": {
        "id": "qoN4eZtj2hMd"
      },
      "source": [
        "Al igual que en el caso 2, la precisión ha aumentado, pero de manera diferente."
      ]
    },
    {
      "cell_type": "markdown",
      "metadata": {
        "id": "h3vG-HIG2tfG"
      },
      "source": [
        "En el caso del 2, ha aumentado hasta que se ha quedado estancado en el 85-87% de precisión. Pero, en el erntrenamiento del caso 7, la progresión ha sido lineal. Esto se deberá a las distintas combinaciones de función de activación y optimizador."
      ]
    }
  ]
}